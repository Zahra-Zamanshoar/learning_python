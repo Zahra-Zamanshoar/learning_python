{
 "cells": [
  {
   "cell_type": "code",
   "execution_count": 5,
   "id": "235af253",
   "metadata": {},
   "outputs": [
    {
     "name": "stdout",
     "output_type": "stream",
     "text": [
      "10pooya\n",
      "10\n",
      "12\n",
      "23\n",
      "45\n",
      "65\n"
     ]
    }
   ],
   "source": [
    "list =['10pooya','10','15.5','12','23','45','reza','65.5','65','hamid']\n",
    "lst2 =['a', 'b', 'c', 'd', 'e', 'f', 'g', 'h', 'k', 'l', 'm', 'n','o', 'p', 'q', 'r','s', 't', 'u', 'v', 'x', 'w', 'y', 'z']\n",
    "for x in list:\n",
    "    if x[0] in lst2:\n",
    "        continue\n",
    "    elif '.' in x:\n",
    "        continue\n",
    "    else:\n",
    "        print(x)"
   ]
  },
  {
   "cell_type": "code",
   "execution_count": 8,
   "id": "cf611d0c",
   "metadata": {},
   "outputs": [
    {
     "name": "stdout",
     "output_type": "stream",
     "text": [
      "12\n",
      "23\n",
      "45\n"
     ]
    }
   ],
   "source": [
    "list =['10pooya','10','15.5','12','23','45','reza','65.5','65','hamid']\n",
    "lst2 =['a', 'b', 'c', 'd', 'e', 'f', 'g', 'h', 'k', 'l', 'm', 'n','o', 'p', 'q', 'r','s', 't', 'u', 'v', 'x', 'w', 'y', 'z']\n",
    "for i in list:\n",
    "    if i not in '0123456789':\n",
    "        continue\n",
    "    else:\n",
    "        print(i)\n"
   ]
  },
  {
   "cell_type": "code",
   "execution_count": 7,
   "id": "74c21d85",
   "metadata": {},
   "outputs": [
    {
     "data": {
      "text/plain": [
       "['11', '10', '10.5']"
      ]
     },
     "execution_count": 7,
     "metadata": {},
     "output_type": "execute_result"
    }
   ],
   "source": [
    "lst = ['11', 'pooya', '10', '10.5']\n",
    "n=['1','2','3','4','5','6','7','8','9','0']\n",
    "res=[]\n",
    "res_2=[]\n",
    "for i in lst:\n",
    "    if i not in '0123456789':\n",
    "        continue\n",
    "    else:\n",
    "        res_2.append(i)\n",
    "res        "
   ]
  },
  {
   "cell_type": "code",
   "execution_count": 9,
   "id": "cb3c8509",
   "metadata": {},
   "outputs": [
    {
     "data": {
      "text/plain": [
       "tuple"
      ]
     },
     "execution_count": 9,
     "metadata": {},
     "output_type": "execute_result"
    }
   ],
   "source": [
    "a = (10,)\n",
    "type(a)"
   ]
  },
  {
   "cell_type": "code",
   "execution_count": 4,
   "id": "a0f1c223",
   "metadata": {},
   "outputs": [
    {
     "ename": "NameError",
     "evalue": "name 'n' is not defined",
     "output_type": "error",
     "traceback": [
      "\u001b[1;31m---------------------------------------------------------------------------\u001b[0m",
      "\u001b[1;31mNameError\u001b[0m                                 Traceback (most recent call last)",
      "Input \u001b[1;32mIn [4]\u001b[0m, in \u001b[0;36m<cell line: 2>\u001b[1;34m()\u001b[0m\n\u001b[0;32m      1\u001b[0m \u001b[38;5;28mlist\u001b[39m \u001b[38;5;241m=\u001b[39m[\u001b[38;5;124m'\u001b[39m\u001b[38;5;124mpooya\u001b[39m\u001b[38;5;124m'\u001b[39m,\u001b[38;5;124m'\u001b[39m\u001b[38;5;124m10\u001b[39m\u001b[38;5;124m'\u001b[39m,\u001b[38;5;124m'\u001b[39m\u001b[38;5;124m15.5\u001b[39m\u001b[38;5;124m'\u001b[39m,\u001b[38;5;124m'\u001b[39m\u001b[38;5;124m12\u001b[39m\u001b[38;5;124m'\u001b[39m,\u001b[38;5;124m'\u001b[39m\u001b[38;5;124m23\u001b[39m\u001b[38;5;124m'\u001b[39m,\u001b[38;5;124m'\u001b[39m\u001b[38;5;124m45\u001b[39m\u001b[38;5;124m'\u001b[39m,\u001b[38;5;124m'\u001b[39m\u001b[38;5;124mreza\u001b[39m\u001b[38;5;124m'\u001b[39m,\u001b[38;5;124m'\u001b[39m\u001b[38;5;124m65.5\u001b[39m\u001b[38;5;124m'\u001b[39m,\u001b[38;5;124m'\u001b[39m\u001b[38;5;124m65\u001b[39m\u001b[38;5;124m'\u001b[39m,\u001b[38;5;124m'\u001b[39m\u001b[38;5;124mhamid\u001b[39m\u001b[38;5;124m'\u001b[39m]\n\u001b[0;32m      2\u001b[0m \u001b[38;5;28;01mfor\u001b[39;00m i \u001b[38;5;129;01min\u001b[39;00m \u001b[38;5;28mlist\u001b[39m:\n\u001b[1;32m----> 3\u001b[0m     \u001b[38;5;28mprint\u001b[39m(i[:]\u001b[38;5;241m/\u001b[39m\u001b[43mn\u001b[49m)\n",
      "\u001b[1;31mNameError\u001b[0m: name 'n' is not defined"
     ]
    }
   ],
   "source": [
    "list =['pooya','10','15.5','12','23','45','reza','65.5','65','hamid']\n",
    "for i in list:\n",
    "    print(i[:]/n)\n",
    " #how we can print i spell tory:)   "
   ]
  },
  {
   "cell_type": "code",
   "execution_count": null,
   "id": "ce86160f",
   "metadata": {},
   "outputs": [],
   "source": [
    "name_1 = input('please write your favorit name: ')\n",
    "name_2 = input('please write your favorit name: ')\n",
    "player_1 = input('Please select your choice: ')\n",
    "player_2 = input('Please select your choice: ')\n",
    "game =['sang','kaghaz' , 'gheichi']\n",
    "if  player_1 not in game or player_2 not in game:\n",
    "    raise ValueError(f\"The choice should be among these options but your choice{game}\" )\n",
    "if player_1 == player_2:\n",
    "    print('equal')\n",
    "if player_1 == 'sang':\n",
    "    if player_2=='kaghaz':\n",
    "        print(f'{name_2}  win')\n",
    "    if player_2 == 'gheichi':\n",
    "         print(f'{name_1} win')\n",
    "       "
   ]
  },
  {
   "cell_type": "code",
   "execution_count": null,
   "id": "f409f546",
   "metadata": {},
   "outputs": [],
   "source": [
    "name_1 = input('please write your favorit name: ')\n",
    "name_2 = input('please write your favorit name: ')\n",
    "player_1 = input('Please select your choice: ')\n",
    "player_2 = input('Please select your choice: ')\n",
    "game =['sang','kaghaz' , 'gheichi']\n",
    "if  player_1 not in game or player_2 not in game:\n",
    "    raise ValueError(f\"The choice should be among these options but your choice{game}\" )\n",
    "if player_1 == player_2:\n",
    "    print('equal')\n",
    "if player_1 == 'sang':\n",
    "    if player_2=='kaghaz':\n",
    "        print(f'{name_2}  win')\n",
    "    if player_2 == 'gheichi':\n",
    "         print(f'{name_1} win')"
   ]
  },
  {
   "cell_type": "code",
   "execution_count": null,
   "id": "8559301c",
   "metadata": {},
   "outputs": [],
   "source": [
    "z"
   ]
  },
  {
   "cell_type": "code",
   "execution_count": null,
   "id": "b58fede8",
   "metadata": {},
   "outputs": [],
   "source": []
  },
  {
   "cell_type": "code",
   "execution_count": null,
   "id": "80ab4f2a",
   "metadata": {},
   "outputs": [],
   "source": []
  }
 ],
 "metadata": {
  "kernelspec": {
   "display_name": "Python 3 (ipykernel)",
   "language": "python",
   "name": "python3"
  },
  "language_info": {
   "codemirror_mode": {
    "name": "ipython",
    "version": 3
   },
   "file_extension": ".py",
   "mimetype": "text/x-python",
   "name": "python",
   "nbconvert_exporter": "python",
   "pygments_lexer": "ipython3",
   "version": "3.10.5"
  }
 },
 "nbformat": 4,
 "nbformat_minor": 5
}
