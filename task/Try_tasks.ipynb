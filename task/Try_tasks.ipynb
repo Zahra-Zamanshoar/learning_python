{
 "cells": [
  {
   "cell_type": "code",
   "execution_count": 2,
   "id": "b152e591",
   "metadata": {
    "pycharm": {
     "name": "#%%\n"
    }
   },
   "outputs": [
    {
     "ename": "ModuleNotFoundError",
     "evalue": "No module named 'pandas'",
     "output_type": "error",
     "traceback": [
      "\u001b[1;31m---------------------------------------------------------------------------\u001b[0m",
      "\u001b[1;31mModuleNotFoundError\u001b[0m                       Traceback (most recent call last)",
      "Input \u001b[1;32mIn [2]\u001b[0m, in \u001b[0;36m<cell line: 2>\u001b[1;34m()\u001b[0m\n\u001b[0;32m      1\u001b[0m \u001b[38;5;28;01mimport\u001b[39;00m \u001b[38;5;21;01mos\u001b[39;00m  \u001b[38;5;66;03m# library\u001b[39;00m\n\u001b[1;32m----> 2\u001b[0m \u001b[38;5;28;01mimport\u001b[39;00m \u001b[38;5;21;01mpandas\u001b[39;00m \u001b[38;5;28;01mas\u001b[39;00m \u001b[38;5;21;01mpd\u001b[39;00m\n",
      "\u001b[1;31mModuleNotFoundError\u001b[0m: No module named 'pandas'"
     ]
    }
   ],
   "source": [
    "import os  # library\n",
    "import pandas as pd"
   ]
  },
  {
   "cell_type": "code",
   "execution_count": 3,
   "id": "4faea812",
   "metadata": {
    "pycharm": {
     "name": "#%%\n"
    }
   },
   "outputs": [],
   "source": [
    "lst_1 = [-10, 222, 3, 400]\n",
    "lst_2 = [5, 6, 7, 8]\n"
   ]
  },
  {
   "cell_type": "code",
   "execution_count": 10,
   "id": "d93eca21",
   "metadata": {
    "pycharm": {
     "name": "#%%\n"
    }
   },
   "outputs": [
    {
     "name": "stdout",
     "output_type": "stream",
     "text": [
      "-5\n",
      "228\n",
      "10\n",
      "408\n"
     ]
    },
    {
     "data": {
      "text/plain": [
       "408"
      ]
     },
     "execution_count": 10,
     "metadata": {},
     "output_type": "execute_result"
    }
   ],
   "source": [
    "#sum each item in 2 list\n",
    "for i in lst_1:\n",
    "    a = i + lst_2[lst_1.index(i)]\n",
    "    b=print(a)\n",
    "    \n",
    "       "
   ]
  },
  {
   "cell_type": "code",
   "execution_count": 8,
   "id": "4021a928",
   "metadata": {
    "pycharm": {
     "name": "#%%\n"
    }
   },
   "outputs": [
    {
     "data": {
      "text/plain": [
       "222"
      ]
     },
     "execution_count": 8,
     "metadata": {},
     "output_type": "execute_result"
    }
   ],
   "source": [
    "lst_1[1]"
   ]
  },
  {
   "cell_type": "code",
   "execution_count": 11,
   "id": "062ab863",
   "metadata": {
    "pycharm": {
     "name": "#%%\n"
    }
   },
   "outputs": [
    {
     "data": {
      "text/plain": [
       "range(0, 4)"
      ]
     },
     "execution_count": 11,
     "metadata": {},
     "output_type": "execute_result"
    }
   ],
   "source": [
    "range(4)"
   ]
  },
  {
   "cell_type": "code",
   "execution_count": 12,
   "id": "d153bc19",
   "metadata": {
    "pycharm": {
     "name": "#%%\n"
    }
   },
   "outputs": [
    {
     "ename": "ValueError",
     "evalue": "0 is not in list",
     "output_type": "error",
     "traceback": [
      "\u001b[1;31m---------------------------------------------------------------------------\u001b[0m",
      "\u001b[1;31mValueError\u001b[0m                                Traceback (most recent call last)",
      "Input \u001b[1;32mIn [12]\u001b[0m, in \u001b[0;36m<cell line: 1>\u001b[1;34m()\u001b[0m\n\u001b[1;32m----> 1\u001b[0m \u001b[43mlst_1\u001b[49m\u001b[38;5;241;43m.\u001b[39;49m\u001b[43mindex\u001b[49m\u001b[43m(\u001b[49m\u001b[38;5;241;43m0\u001b[39;49m\u001b[43m)\u001b[49m\n",
      "\u001b[1;31mValueError\u001b[0m: 0 is not in list"
     ]
    }
   ],
   "source": [
    " lst_1.index(0)"
   ]
  },
  {
   "cell_type": "code",
   "execution_count": 15,
   "id": "2fc3c83d",
   "metadata": {
    "pycharm": {
     "name": "#%%\n"
    }
   },
   "outputs": [
    {
     "name": "stdout",
     "output_type": "stream",
     "text": [
      "-5\n",
      "228\n",
      "10\n",
      "408\n"
     ]
    }
   ],
   "source": [
    "#sum each item in 2 list\n",
    "for i in range(4):\n",
    "    a = lst_1[i]+ lst_2[i]\n",
    "    b= print(a)\n",
    "b    "
   ]
  },
  {
   "cell_type": "code",
   "execution_count": 16,
   "id": "631e69fe",
   "metadata": {
    "pycharm": {
     "name": "#%%\n"
    }
   },
   "outputs": [
    {
     "name": "stdout",
     "output_type": "stream",
     "text": [
      "11\n",
      "14\n",
      "19\n",
      "26\n",
      "35\n",
      "46\n"
     ]
    }
   ],
   "source": [
    "#sum each item by 10\n",
    "list_ =[1, 4, 9, 16, 25, 36]\n",
    "for t in list_:\n",
    "    print(t + 10)"
   ]
  },
  {
   "cell_type": "code",
   "execution_count": 17,
   "id": "d60a2a22",
   "metadata": {
    "pycharm": {
     "name": "#%%\n"
    }
   },
   "outputs": [
    {
     "name": "stdout",
     "output_type": "stream",
     "text": [
      "range(0, 4)\n"
     ]
    }
   ],
   "source": [
    "print(range(4))"
   ]
  },
  {
   "cell_type": "code",
   "execution_count": 18,
   "id": "8bacede0",
   "metadata": {
    "pycharm": {
     "name": "#%%\n"
    }
   },
   "outputs": [
    {
     "name": "stdout",
     "output_type": "stream",
     "text": [
      "range(0, 4)\n"
     ]
    }
   ],
   "source": [
    "print(range(0,4))"
   ]
  },
  {
   "cell_type": "code",
   "execution_count": 19,
   "id": "8739a8cb",
   "metadata": {
    "pycharm": {
     "name": "#%%\n"
    }
   },
   "outputs": [
    {
     "data": {
      "text/plain": [
       "[0, 1, 2, 3]"
      ]
     },
     "execution_count": 19,
     "metadata": {},
     "output_type": "execute_result"
    }
   ],
   "source": [
    "list(range(4))"
   ]
  },
  {
   "cell_type": "code",
   "execution_count": 1,
   "id": "54af4d16",
   "metadata": {
    "pycharm": {
     "name": "#%%\n"
    }
   },
   "outputs": [
    {
     "name": "stdout",
     "output_type": "stream",
     "text": [
      "11\n",
      "11\n",
      "pooya\n",
      "pooya\n",
      "pooya\n",
      "pooya\n",
      "pooya\n",
      "10\n",
      "10\n",
      "10.5\n",
      "10.5\n",
      "10.5\n",
      "10.5\n"
     ]
    },
    {
     "ename": "NameError",
     "evalue": "name 'a' is not defined",
     "output_type": "error",
     "traceback": [
      "\u001b[1;31m---------------------------------------------------------------------------\u001b[0m",
      "\u001b[1;31mNameError\u001b[0m                                 Traceback (most recent call last)",
      "Input \u001b[1;32mIn [1]\u001b[0m, in \u001b[0;36m<cell line: 9>\u001b[1;34m()\u001b[0m\n\u001b[0;32m      7\u001b[0m         \u001b[38;5;28;01melse\u001b[39;00m:\n\u001b[0;32m      8\u001b[0m             b \u001b[38;5;241m=\u001b[39m \u001b[38;5;28mprint\u001b[39m(i)\n\u001b[1;32m----> 9\u001b[0m \u001b[43ma\u001b[49m\n",
      "\u001b[1;31mNameError\u001b[0m: name 'a' is not defined"
     ]
    }
   ],
   "source": [
    "#try_to_just_print_int\n",
    "lst = ['11', 'pooya', '10', '10.5']\n",
    "n=[1,2,3,4,5,6,7,8,9,0]\n",
    "for i in lst:\n",
    "    for ch in i:\n",
    "        if ch in n:\n",
    "            a = print(i)\n",
    "        else:\n",
    "            b = print(i)\n",
    "a    "
   ]
  },
  {
   "cell_type": "code",
   "execution_count": 25,
   "id": "3e7ed916",
   "metadata": {
    "pycharm": {
     "name": "#%%\n"
    }
   },
   "outputs": [
    {
     "data": {
      "text/plain": [
       "True"
      ]
     },
     "execution_count": 25,
     "metadata": {},
     "output_type": "execute_result"
    }
   ],
   "source": [
    "1 in n"
   ]
  },
  {
   "cell_type": "code",
   "execution_count": 26,
   "id": "4f821e5c",
   "metadata": {
    "pycharm": {
     "name": "#%%\n"
    }
   },
   "outputs": [
    {
     "name": "stdout",
     "output_type": "stream",
     "text": [
      "11\n",
      "10\n",
      "12\n",
      "23\n",
      "45\n",
      "65\n"
     ]
    }
   ],
   "source": [
    "#try_to_just_print_int\n",
    "list =['11','pooya','10','15.5','12','23','45','reza','65.5','65','hamid']\n",
    "lst2 =['a', 'b', 'c', 'd', 'e', 'f', 'g', 'h', 'k', 'l', 'm', 'n','o', 'p', 'q', 'r','s', 't', 'u', 'v', 'x', 'w', 'y', 'z']\n",
    "for x in list:\n",
    "    if x[0] in lst2:\n",
    "        continue\n",
    "    elif '.' in x:\n",
    "        continue\n",
    "    else:\n",
    "        print(x)"
   ]
  },
  {
   "cell_type": "code",
   "execution_count": null,
   "id": "21a83bee",
   "metadata": {
    "pycharm": {
     "name": "#%%\n"
    }
   },
   "outputs": [],
   "source": []
  },
  {
   "cell_type": "code",
   "execution_count": 27,
   "id": "6f066e84",
   "metadata": {
    "pycharm": {
     "name": "#%%\n"
    }
   },
   "outputs": [
    {
     "name": "stdout",
     "output_type": "stream",
     "text": [
      "1\n",
      "p\n",
      "1\n",
      "1\n",
      "1\n",
      "2\n",
      "4\n",
      "r\n",
      "6\n",
      "6\n",
      "h\n"
     ]
    }
   ],
   "source": [
    "for x in list:\n",
    "    a = print(x[0])\n",
    "a    "
   ]
  },
  {
   "cell_type": "code",
   "execution_count": 59,
   "id": "c59e6532",
   "metadata": {
    "pycharm": {
     "name": "#%%\n"
    }
   },
   "outputs": [
    {
     "name": "stdout",
     "output_type": "stream",
     "text": [
      "1\n",
      "1\n"
     ]
    }
   ],
   "source": [
    "a = \"11\"\n",
    "for i in a:\n",
    "    b =print(i[0]) \n",
    "b"
   ]
  },
  {
   "cell_type": "code",
   "execution_count": 71,
   "id": "21c8324f",
   "metadata": {
    "pycharm": {
     "name": "#%%\n"
    }
   },
   "outputs": [],
   "source": [
    "b"
   ]
  },
  {
   "cell_type": "code",
   "execution_count": 74,
   "id": "7eeeeea6",
   "metadata": {
    "pycharm": {
     "name": "#%%\n"
    }
   },
   "outputs": [
    {
     "name": "stdout",
     "output_type": "stream",
     "text": [
      "\n",
      "z\n"
     ]
    }
   ],
   "source": [
    "print()\n",
    "print('z')"
   ]
  },
  {
   "cell_type": "code",
   "execution_count": 69,
   "id": "98b0dea7",
   "metadata": {
    "pycharm": {
     "name": "#%%\n"
    }
   },
   "outputs": [
    {
     "name": "stdout",
     "output_type": "stream",
     "text": [
      "1\n",
      "1\n",
      "\n",
      "None\n"
     ]
    }
   ],
   "source": [
    "a = \"11\"\n",
    "for i in a:\n",
    "    b =print(i[0]) \n",
    "print(print())"
   ]
  },
  {
   "cell_type": "code",
   "execution_count": null,
   "id": "35bf0484",
   "metadata": {
    "pycharm": {
     "name": "#%%\n"
    }
   },
   "outputs": [],
   "source": [
    "a = 'pooya'\n",
    "a[0]"
   ]
  },
  {
   "cell_type": "code",
   "execution_count": 38,
   "id": "9baa39c7",
   "metadata": {
    "pycharm": {
     "name": "#%%\n"
    }
   },
   "outputs": [
    {
     "name": "stdout",
     "output_type": "stream",
     "text": [
      "1\n"
     ]
    }
   ],
   "source": [
    "print('1')"
   ]
  },
  {
   "cell_type": "code",
   "execution_count": 46,
   "id": "7e268942",
   "metadata": {
    "pycharm": {
     "name": "#%%\n"
    }
   },
   "outputs": [],
   "source": [
    "c =1"
   ]
  },
  {
   "cell_type": "code",
   "execution_count": 48,
   "id": "96122272",
   "metadata": {
    "pycharm": {
     "name": "#%%\n"
    }
   },
   "outputs": [
    {
     "data": {
      "text/plain": [
       "int"
      ]
     },
     "execution_count": 48,
     "metadata": {},
     "output_type": "execute_result"
    }
   ],
   "source": [
    "type (c)"
   ]
  },
  {
   "cell_type": "code",
   "execution_count": 44,
   "id": "66f44e7f",
   "metadata": {
    "pycharm": {
     "name": "#%%\n"
    },
    "scrolled": true
   },
   "outputs": [
    {
     "name": "stdout",
     "output_type": "stream",
     "text": [
      "1\n"
     ]
    }
   ],
   "source": [
    "b = print(1)"
   ]
  },
  {
   "cell_type": "code",
   "execution_count": 45,
   "id": "6d57da3a",
   "metadata": {
    "pycharm": {
     "name": "#%%\n"
    }
   },
   "outputs": [
    {
     "data": {
      "text/plain": [
       "NoneType"
      ]
     },
     "execution_count": 45,
     "metadata": {},
     "output_type": "execute_result"
    }
   ],
   "source": [
    "type(b)"
   ]
  },
  {
   "cell_type": "code",
   "execution_count": 49,
   "id": "7e7690d6",
   "metadata": {
    "pycharm": {
     "name": "#%%\n"
    }
   },
   "outputs": [],
   "source": [
    "def zahra(z):\n",
    "    print(z)"
   ]
  },
  {
   "cell_type": "code",
   "execution_count": 50,
   "id": "033b26d6",
   "metadata": {
    "pycharm": {
     "name": "#%%\n"
    },
    "scrolled": false
   },
   "outputs": [
    {
     "name": "stdout",
     "output_type": "stream",
     "text": [
      "1\n"
     ]
    }
   ],
   "source": [
    "b = zahra('1')"
   ]
  },
  {
   "cell_type": "code",
   "execution_count": 51,
   "id": "6d02e20e",
   "metadata": {
    "pycharm": {
     "name": "#%%\n"
    }
   },
   "outputs": [
    {
     "data": {
      "text/plain": [
       "NoneType"
      ]
     },
     "execution_count": 51,
     "metadata": {},
     "output_type": "execute_result"
    }
   ],
   "source": [
    "type(b)"
   ]
  },
  {
   "cell_type": "code",
   "execution_count": 54,
   "id": "17007906",
   "metadata": {
    "pycharm": {
     "name": "#%%\n"
    }
   },
   "outputs": [],
   "source": [
    "def zahra(z):\n",
    "    print(z)\n",
    "    return z"
   ]
  },
  {
   "cell_type": "code",
   "execution_count": 55,
   "id": "94f39bc6",
   "metadata": {
    "pycharm": {
     "name": "#%%\n"
    }
   },
   "outputs": [
    {
     "name": "stdout",
     "output_type": "stream",
     "text": [
      "1\n"
     ]
    }
   ],
   "source": [
    "c = zahra('1')"
   ]
  },
  {
   "cell_type": "code",
   "execution_count": 56,
   "id": "ad98f2af",
   "metadata": {
    "pycharm": {
     "name": "#%%\n"
    }
   },
   "outputs": [
    {
     "data": {
      "text/plain": [
       "str"
      ]
     },
     "execution_count": 56,
     "metadata": {},
     "output_type": "execute_result"
    }
   ],
   "source": [
    "type(c)"
   ]
  },
  {
   "cell_type": "code",
   "execution_count": 64,
   "id": "6aad5ea8",
   "metadata": {
    "pycharm": {
     "name": "#%%\n"
    }
   },
   "outputs": [
    {
     "name": "stdout",
     "output_type": "stream",
     "text": [
      "<class 'tuple'>\n",
      "hello\n",
      "dear\n",
      "friends\n",
      "pooya\n",
      "menoo\n"
     ]
    }
   ],
   "source": [
    "def func(*args): \n",
    "    b = print(type(args))\n",
    "    for arg in args:  \n",
    "        print(arg)\n",
    "func('hello', 'dear', 'friends', 'pooya', 'menoo') \n",
    "b"
   ]
  },
  {
   "cell_type": "code",
   "execution_count": 78,
   "id": "9ded7025",
   "metadata": {
    "pycharm": {
     "name": "#%%\n"
    }
   },
   "outputs": [
    {
     "data": {
      "text/plain": [
       "[]"
      ]
     },
     "execution_count": 78,
     "metadata": {},
     "output_type": "execute_result"
    }
   ],
   "source": [
    "#try_to_just_print_int\n",
    "lst = ['11', 'pooya', '10', '10.5']\n",
    "n=['1','2','3','4','5','6','7','8','9','0']\n",
    "res=[]\n",
    "for i in lst:\n",
    "    for ch in i:\n",
    "        if i  not in n:\n",
    "            continue\n",
    "        else:\n",
    "            res.append(i)\n",
    "res            "
   ]
  },
  {
   "cell_type": "code",
   "execution_count": 79,
   "id": "6ffa69d1",
   "metadata": {
    "pycharm": {
     "name": "#%%\n"
    }
   },
   "outputs": [],
   "source": [
    "#try_to_just_print_int\n",
    "lst = ['11', 'pooya', '10', '10.5']\n",
    "# n=['1','2','3','4','5','6','7','8','9','0']\n",
    "res=[]\n",
    "for i in lst:\n",
    "    for ch in i:\n",
    "        if i  not in '1234567890':\n",
    "            continue\n",
    "        else:\n",
    "            res.append(i)"
   ]
  },
  {
   "cell_type": "code",
   "execution_count": 82,
   "id": "d6fd5304",
   "metadata": {
    "pycharm": {
     "name": "#%%\n"
    }
   },
   "outputs": [
    {
     "name": "stdout",
     "output_type": "stream",
     "text": [
      "z\n",
      "m\n",
      "s\n"
     ]
    }
   ],
   "source": [
    "print('z')\n",
    "print('m')\n",
    "print('s')"
   ]
  },
  {
   "cell_type": "code",
   "execution_count": 87,
   "id": "557145e2",
   "metadata": {
    "pycharm": {
     "name": "#%%\n"
    }
   },
   "outputs": [
    {
     "data": {
      "text/plain": [
       "'zahra \\n fereshteh'"
      ]
     },
     "execution_count": 87,
     "metadata": {},
     "output_type": "execute_result"
    }
   ],
   "source": [
    "a ='zahra \\n fereshteh'\n",
    "a\n"
   ]
  },
  {
   "cell_type": "code",
   "execution_count": 2,
   "id": "b1c312f9",
   "metadata": {
    "pycharm": {
     "name": "#%%\n"
    }
   },
   "outputs": [
    {
     "name": "stdout",
     "output_type": "stream",
     "text": [
      "salam bar shoma {10}\n"
     ]
    }
   ],
   "source": [
    "a = 10\n",
    "print(f'salam bar shoma',{a})"
   ]
  },
  {
   "cell_type": "code",
   "execution_count": 1,
   "id": "5d96b294",
   "metadata": {
    "pycharm": {
     "name": "#%%\n"
    }
   },
   "outputs": [
    {
     "ename": "SyntaxError",
     "evalue": "expected ':' (2725126618.py, line 1)",
     "output_type": "error",
     "traceback": [
      "\u001b[1;36m  Input \u001b[1;32mIn [1]\u001b[1;36m\u001b[0m\n\u001b[1;33m    if isinstance\u001b[0m\n\u001b[1;37m                  ^\u001b[0m\n\u001b[1;31mSyntaxError\u001b[0m\u001b[1;31m:\u001b[0m expected ':'\n"
     ]
    }
   ],
   "source": [
    "if isinstance "
   ]
  },
  {
   "cell_type": "code",
   "execution_count": 3,
   "id": "1f4b2d0c",
   "metadata": {
    "pycharm": {
     "name": "#%%\n"
    }
   },
   "outputs": [],
   "source": [
    "def z(*z):\n",
    "    res =''\n",
    "    for i,j in zip(*z):\n",
    "        res = res+i +j\n",
    "    print(res)    \n",
    "        "
   ]
  },
  {
   "cell_type": "code",
   "execution_count": 12,
   "id": "43e7027f",
   "metadata": {
    "pycharm": {
     "name": "#%%\n"
    }
   },
   "outputs": [
    {
     "name": "stdout",
     "output_type": "stream",
     "text": [
      "anahid zaman\n"
     ]
    }
   ],
   "source": [
    "a = 'anahid zamani'\n",
    "b = a[::2]\n",
    "c =a[1::2]\n",
    "z(b,c)"
   ]
  },
  {
   "cell_type": "code",
   "execution_count": 13,
   "id": "0e86a250",
   "metadata": {
    "pycharm": {
     "name": "#%%\n"
    }
   },
   "outputs": [
    {
     "data": {
      "text/plain": [
       "6"
      ]
     },
     "execution_count": 13,
     "metadata": {},
     "output_type": "execute_result"
    }
   ],
   "source": [
    "len(a[1::2])"
   ]
  },
  {
   "cell_type": "code",
   "execution_count": 9,
   "id": "b6156299",
   "metadata": {
    "pycharm": {
     "name": "#%%\n"
    }
   },
   "outputs": [
    {
     "data": {
      "text/plain": [
       "'aai zmn'"
      ]
     },
     "execution_count": 9,
     "metadata": {},
     "output_type": "execute_result"
    }
   ],
   "source": [
    "a[::2]"
   ]
  },
  {
   "cell_type": "code",
   "execution_count": 80,
   "id": "ff28786a",
   "metadata": {
    "pycharm": {
     "name": "#%%\n"
    }
   },
   "outputs": [],
   "source": [
    "def zahra(*args):\n",
    "    for i in len(args):\n",
    "        while i<len(args)-1:\n",
    "            arg = arg[i]**arg[i+1]\n",
    "    print (arg )\n",
    "    "
   ]
  },
  {
   "cell_type": "code",
   "execution_count": 81,
   "id": "bfce5d76",
   "metadata": {
    "pycharm": {
     "name": "#%%\n"
    }
   },
   "outputs": [
    {
     "ename": "TypeError",
     "evalue": "'int' object is not iterable",
     "output_type": "error",
     "traceback": [
      "\u001b[1;31m---------------------------------------------------------------------------\u001b[0m",
      "\u001b[1;31mTypeError\u001b[0m                                 Traceback (most recent call last)",
      "Input \u001b[1;32mIn [81]\u001b[0m, in \u001b[0;36m<cell line: 1>\u001b[1;34m()\u001b[0m\n\u001b[1;32m----> 1\u001b[0m b \u001b[38;5;241m=\u001b[39m\u001b[43mzahra\u001b[49m\u001b[43m(\u001b[49m\u001b[38;5;241;43m2\u001b[39;49m\u001b[43m,\u001b[49m\u001b[38;5;241;43m3\u001b[39;49m\u001b[43m)\u001b[49m\n",
      "Input \u001b[1;32mIn [80]\u001b[0m, in \u001b[0;36mzahra\u001b[1;34m(*args)\u001b[0m\n\u001b[0;32m      1\u001b[0m \u001b[38;5;28;01mdef\u001b[39;00m \u001b[38;5;21mzahra\u001b[39m(\u001b[38;5;241m*\u001b[39margs):\n\u001b[1;32m----> 2\u001b[0m     \u001b[38;5;28;01mfor\u001b[39;00m i \u001b[38;5;129;01min\u001b[39;00m \u001b[38;5;28mlen\u001b[39m(args):\n\u001b[0;32m      3\u001b[0m         \u001b[38;5;28;01mwhile\u001b[39;00m i\u001b[38;5;241m<\u001b[39m\u001b[38;5;28mlen\u001b[39m(args)\u001b[38;5;241m-\u001b[39m\u001b[38;5;241m1\u001b[39m:\n\u001b[0;32m      4\u001b[0m             arg \u001b[38;5;241m=\u001b[39m arg[i]\u001b[38;5;241m*\u001b[39m\u001b[38;5;241m*\u001b[39marg[i\u001b[38;5;241m+\u001b[39m\u001b[38;5;241m1\u001b[39m]\n",
      "\u001b[1;31mTypeError\u001b[0m: 'int' object is not iterable"
     ]
    }
   ],
   "source": [
    "b =zahra(2,3)\n"
   ]
  },
  {
   "cell_type": "code",
   "execution_count": 41,
   "id": "44f6c017",
   "metadata": {
    "pycharm": {
     "name": "#%%\n"
    }
   },
   "outputs": [],
   "source": [
    "a = 10\n",
    "b =100\n",
    "a=b%a"
   ]
  },
  {
   "cell_type": "code",
   "execution_count": 42,
   "id": "2c82b841",
   "metadata": {
    "pycharm": {
     "name": "#%%\n"
    }
   },
   "outputs": [
    {
     "data": {
      "text/plain": [
       "0"
      ]
     },
     "execution_count": 42,
     "metadata": {},
     "output_type": "execute_result"
    }
   ],
   "source": [
    "a"
   ]
  },
  {
   "cell_type": "code",
   "execution_count": 43,
   "id": "42853c22",
   "metadata": {
    "pycharm": {
     "name": "#%%\n"
    }
   },
   "outputs": [],
   "source": [
    "class Bird:\n",
    "\n",
    "    def __init__(self, something):\n",
    "        self.something = something\n",
    "        print(\"Bird is ready\")\n",
    "\n",
    "    def who_is_this_bird(self):\n",
    "        print(\"Bird\")\n",
    "\n",
    "    def swim(self):\n",
    "        print(\"Swim faster\")"
   ]
  },
  {
   "cell_type": "code",
   "execution_count": 44,
   "id": "42ccb39a",
   "metadata": {
    "pycharm": {
     "name": "#%%\n"
    }
   },
   "outputs": [
    {
     "ename": "TypeError",
     "evalue": "Bird.__init__() missing 1 required positional argument: 'something'",
     "output_type": "error",
     "traceback": [
      "\u001b[1;31m---------------------------------------------------------------------------\u001b[0m",
      "\u001b[1;31mTypeError\u001b[0m                                 Traceback (most recent call last)",
      "Input \u001b[1;32mIn [44]\u001b[0m, in \u001b[0;36m<cell line: 1>\u001b[1;34m()\u001b[0m\n\u001b[1;32m----> 1\u001b[0m \u001b[43mBird\u001b[49m\u001b[43m(\u001b[49m\u001b[43m)\u001b[49m\n",
      "\u001b[1;31mTypeError\u001b[0m: Bird.__init__() missing 1 required positional argument: 'something'"
     ]
    }
   ],
   "source": [
    "Bird()"
   ]
  },
  {
   "cell_type": "code",
   "execution_count": 78,
   "id": "513592c8",
   "metadata": {
    "pycharm": {
     "name": "#%%\n"
    }
   },
   "outputs": [],
   "source": [
    "class Fereshteh:\n",
    "    def __init__ (self,name=None,age=None):  \n",
    "        self.name = name\n",
    "        self.age = age\n",
    "    def zahra(self,age):\n",
    "        self.age = age\n",
    "        print('hi')\n",
    "        "
   ]
  },
  {
   "cell_type": "code",
   "execution_count": 79,
   "id": "d5c3079b",
   "metadata": {
    "pycharm": {
     "name": "#%%\n"
    }
   },
   "outputs": [
    {
     "ename": "TypeError",
     "evalue": "Fereshteh.zahra() missing 1 required positional argument: 'age'",
     "output_type": "error",
     "traceback": [
      "\u001b[1;31m---------------------------------------------------------------------------\u001b[0m",
      "\u001b[1;31mTypeError\u001b[0m                                 Traceback (most recent call last)",
      "Input \u001b[1;32mIn [79]\u001b[0m, in \u001b[0;36m<cell line: 2>\u001b[1;34m()\u001b[0m\n\u001b[0;32m      1\u001b[0m a \u001b[38;5;241m=\u001b[39m Fereshteh()\n\u001b[1;32m----> 2\u001b[0m \u001b[43ma\u001b[49m\u001b[38;5;241;43m.\u001b[39;49m\u001b[43mzahra\u001b[49m\u001b[43m(\u001b[49m\u001b[43m)\u001b[49m\n",
      "\u001b[1;31mTypeError\u001b[0m: Fereshteh.zahra() missing 1 required positional argument: 'age'"
     ]
    }
   ],
   "source": [
    "a = Fereshteh()\n",
    "a.zahra()"
   ]
  },
  {
   "cell_type": "code",
   "execution_count": 62,
   "id": "38147236",
   "metadata": {
    "pycharm": {
     "name": "#%%\n"
    }
   },
   "outputs": [],
   "source": [
    "class Fereshteh:\n",
    "    def __init__ (self,name):  \n",
    "        self.name = name\n",
    "    @staticmethod    \n",
    "    def zahra(self):\n",
    "         print('hi')"
   ]
  },
  {
   "cell_type": "code",
   "execution_count": 63,
   "id": "c8ef1f12",
   "metadata": {
    "pycharm": {
     "name": "#%%\n"
    }
   },
   "outputs": [
    {
     "ename": "TypeError",
     "evalue": "Fereshteh.zahra() missing 1 required positional argument: 'self'",
     "output_type": "error",
     "traceback": [
      "\u001b[1;31m---------------------------------------------------------------------------\u001b[0m",
      "\u001b[1;31mTypeError\u001b[0m                                 Traceback (most recent call last)",
      "Input \u001b[1;32mIn [63]\u001b[0m, in \u001b[0;36m<cell line: 2>\u001b[1;34m()\u001b[0m\n\u001b[0;32m      1\u001b[0m a \u001b[38;5;241m=\u001b[39m Fereshteh(\u001b[38;5;124m'\u001b[39m\u001b[38;5;124mgood\u001b[39m\u001b[38;5;124m'\u001b[39m)\n\u001b[1;32m----> 2\u001b[0m \u001b[43ma\u001b[49m\u001b[38;5;241;43m.\u001b[39;49m\u001b[43mzahra\u001b[49m\u001b[43m(\u001b[49m\u001b[43m)\u001b[49m\n",
      "\u001b[1;31mTypeError\u001b[0m: Fereshteh.zahra() missing 1 required positional argument: 'self'"
     ]
    }
   ],
   "source": [
    "a = Fereshteh('good')\n",
    "a.zahra()"
   ]
  },
  {
   "cell_type": "code",
   "execution_count": 64,
   "id": "8e5b90b2",
   "metadata": {
    "pycharm": {
     "name": "#%%\n"
    }
   },
   "outputs": [
    {
     "name": "stdout",
     "output_type": "stream",
     "text": [
      "hi\n"
     ]
    }
   ],
   "source": [
    "a = Fereshteh('good')\n",
    "a.zahra('zahra')"
   ]
  },
  {
   "cell_type": "code",
   "execution_count": 71,
   "id": "01e0e9b6",
   "metadata": {
    "pycharm": {
     "name": "#%%\n"
    }
   },
   "outputs": [],
   "source": [
    "lst = []\n",
    "if lst: # recommended\n",
    "    print(lst[0])"
   ]
  },
  {
   "cell_type": "code",
   "execution_count": 82,
   "id": "9e6dd299",
   "metadata": {
    "pycharm": {
     "name": "#%%\n"
    }
   },
   "outputs": [
    {
     "ename": "TypeError",
     "evalue": "'int' object is not iterable",
     "output_type": "error",
     "traceback": [
      "\u001b[1;31m---------------------------------------------------------------------------\u001b[0m",
      "\u001b[1;31mTypeError\u001b[0m                                 Traceback (most recent call last)",
      "Input \u001b[1;32mIn [82]\u001b[0m, in \u001b[0;36m<cell line: 6>\u001b[1;34m()\u001b[0m\n\u001b[0;32m      4\u001b[0m             arg \u001b[38;5;241m=\u001b[39m arg[i]\u001b[38;5;241m*\u001b[39m\u001b[38;5;241m*\u001b[39marg[i\u001b[38;5;241m+\u001b[39m\u001b[38;5;241m1\u001b[39m]\n\u001b[0;32m      5\u001b[0m     \u001b[38;5;28mprint\u001b[39m (arg)\n\u001b[1;32m----> 6\u001b[0m b \u001b[38;5;241m=\u001b[39m\u001b[43mzahra\u001b[49m\u001b[43m(\u001b[49m\u001b[38;5;241;43m2\u001b[39;49m\u001b[43m,\u001b[49m\u001b[38;5;241;43m3\u001b[39;49m\u001b[43m)\u001b[49m\n",
      "Input \u001b[1;32mIn [82]\u001b[0m, in \u001b[0;36mzahra\u001b[1;34m(*args)\u001b[0m\n\u001b[0;32m      1\u001b[0m \u001b[38;5;28;01mdef\u001b[39;00m \u001b[38;5;21mzahra\u001b[39m(\u001b[38;5;241m*\u001b[39margs):\n\u001b[1;32m----> 2\u001b[0m     \u001b[38;5;28;01mfor\u001b[39;00m i \u001b[38;5;129;01min\u001b[39;00m \u001b[38;5;28mlen\u001b[39m(args):\n\u001b[0;32m      3\u001b[0m         \u001b[38;5;28;01mwhile\u001b[39;00m i\u001b[38;5;241m<\u001b[39m\u001b[38;5;28mlen\u001b[39m(args)\u001b[38;5;241m-\u001b[39m\u001b[38;5;241m1\u001b[39m:\n\u001b[0;32m      4\u001b[0m             arg \u001b[38;5;241m=\u001b[39m arg[i]\u001b[38;5;241m*\u001b[39m\u001b[38;5;241m*\u001b[39marg[i\u001b[38;5;241m+\u001b[39m\u001b[38;5;241m1\u001b[39m]\n",
      "\u001b[1;31mTypeError\u001b[0m: 'int' object is not iterable"
     ]
    }
   ],
   "source": [
    "def zahra(*args):\n",
    "    for i in len(args):\n",
    "        while i<len(args)-1:\n",
    "            arg = arg[i]**arg[i+1]\n",
    "    print (arg)\n",
    "b =zahra(2,3)"
   ]
  },
  {
   "cell_type": "code",
   "execution_count": 114,
   "id": "d36e9aca",
   "metadata": {
    "pycharm": {
     "name": "#%%\n"
    }
   },
   "outputs": [
    {
     "data": {
      "text/plain": [
       "['11', '10', '0']"
      ]
     },
     "execution_count": 114,
     "metadata": {},
     "output_type": "execute_result"
    }
   ],
   "source": [
    "lst = ['11', 'pooya', '10', '10.5', \"32K232\", \"0\"]\n",
    "res=[]\n",
    "\n",
    "for i in lst:\n",
    "    zahra = True\n",
    "    for j in i :\n",
    "            if j   not in  '0123456789':\n",
    "                zahra=False\n",
    "                break\n",
    "    if zahra:\n",
    "        res.append(i)\n",
    "\n",
    "res            \n"
   ]
  },
  {
   "cell_type": "code",
   "execution_count": null,
   "id": "cceb7cb5",
   "metadata": {
    "pycharm": {
     "name": "#%%\n"
    }
   },
   "outputs": [],
   "source": [
    "name_1 = input('please write your favorit name: ')\n",
    "name_2 = input('please write your favorit name: ')\n",
    "player_1 = input('Please select your choice: ')\n",
    "player_2 = input('Please select your choice: ')\n",
    "game =['sang','kaghaz' , 'gheichi']\n",
    "if  player_1 not in game or player_2 not in game:\n",
    "    raise ValueError(f\"The choice should be among these options but your choice{game}\" )\n",
    "if player_1 == player_2:\n",
    "    print('equal')\n",
    "if player_1 == 'sang':\n",
    "    if player_2=='kaghaz':\n",
    "        print(f'{name_2}  win')\n",
    "    if player_2 == 'gheichi':\n",
    "         print(f'{name_1} win')\n",
    "       \n",
    "#     elif player_1=='gheichi':\n",
    "        "
   ]
  },
  {
   "cell_type": "code",
   "execution_count": null,
   "id": "c4eb0e66",
   "metadata": {
    "pycharm": {
     "name": "#%%\n"
    }
   },
   "outputs": [],
   "source": [
    "\n",
    "from random import randint\n",
    "# generate some integers\n",
    "value = randint(0, 99)\n",
    "while answer == 'n':\n",
    "    print(value)\n",
    "    answer = input(f\"Is {value} your number? y/n : \")               \n",
    "    if answer != 'y' and answer != 'n':\n",
    "                    raise ValueError (f'the answer should be y or n but your answer is {answer}')\n",
    "    if answer == 'n' :\n",
    "        long = input(f\"If {value} larg then your number type k ,If {value} small then your number type b  : \")   \n",
    "        if long == 'k':\n",
    "            value = randint(0, value)\n",
    "        if long == 'b':\n",
    "            value = randint( value, 99)\n",
    "        else:\n",
    "            raise ValueError (f'the answer should be b or k but your answer is {long}')"
   ]
  },
  {
   "cell_type": "code",
   "execution_count": null,
   "id": "8753ab96",
   "metadata": {
    "pycharm": {
     "name": "#%%\n"
    }
   },
   "outputs": [],
   "source": [
    "from random import seed\n",
    "from random import randint\n",
    "# seed random number generator\n",
    "seed(1)\n",
    "# generate some integers\n",
    "for _ in range(10):\n",
    "\tvalue = randint(0, 10)\n",
    "\tprint(value)"
   ]
  },
  {
   "cell_type": "code",
   "execution_count": null,
   "id": "f621df98",
   "metadata": {
    "pycharm": {
     "name": "#%%\n"
    }
   },
   "outputs": [],
   "source": []
  },
  {
   "cell_type": "code",
   "execution_count": null,
   "id": "ca189583",
   "metadata": {
    "pycharm": {
     "name": "#%%\n"
    }
   },
   "outputs": [],
   "source": [
    "from random import seed\n",
    "from random import randint\n",
    "# seed random number generator\n",
    "seed(1)\n",
    "# generate some integers\n",
    "for _ in range(10):\n",
    "\tvalue = randint(0, 10)\n",
    "\tprint(value)"
   ]
  },
  {
   "cell_type": "code",
   "execution_count": null,
   "id": "779b5ab9",
   "metadata": {
    "pycharm": {
     "name": "#%%\n"
    }
   },
   "outputs": [],
   "source": [
    "age_pepole =[17,\n",
    "15,\n",
    "39,\n",
    "51,\n",
    "14,\n",
    "32,\n",
    "28,\n",
    "-1\n",
    "]\n",
    "a = '' \n",
    "while True:\n",
    "    for number in range(len(age_pepole)):\n",
    "        if age_pepole[number] >= age_pepole[number-1]:\n",
    "            a = age_pepole[number]\n",
    "        if  age_pepole[number] == -1:\n",
    "            break\n",
    "        else:\n",
    "            pass\n",
    "a    "
   ]
  },
  {
   "cell_type": "code",
   "execution_count": 24,
   "id": "bdc948cf",
   "metadata": {
    "pycharm": {
     "name": "#%%\n"
    }
   },
   "outputs": [],
   "source": []
  },
  {
   "cell_type": "code",
   "execution_count": null,
   "id": "2b510d74",
   "metadata": {
    "pycharm": {
     "name": "#%%\n"
    }
   },
   "outputs": [],
   "source": []
  }
 ],
 "metadata": {
  "celltoolbar": "Edit Metadata",
  "kernelspec": {
   "display_name": "Python 3 (ipykernel)",
   "language": "python",
   "name": "python3"
  },
  "language_info": {
   "codemirror_mode": {
    "name": "ipython",
    "version": 3
   },
   "file_extension": ".py",
   "mimetype": "text/x-python",
   "name": "python",
   "nbconvert_exporter": "python",
   "pygments_lexer": "ipython3",
   "version": "3.10.5"
  }
 },
 "nbformat": 4,
 "nbformat_minor": 5
}
