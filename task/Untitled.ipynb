{
 "cells": [
  {
   "cell_type": "code",
   "execution_count": null,
   "id": "cf2db361",
   "metadata": {},
   "outputs": [],
   "source": [
    "age_pepole =[17,\n",
    "15,\n",
    "39,\n",
    "51,\n",
    "14,\n",
    "32,\n",
    "28,\n",
    "-1\n",
    "]\n",
    "a = '' \n",
    "while True:\n",
    "    for number in range(len(age_pepole)):\n",
    "        if age_pepole[number] >= age_pepole[number-1]:\n",
    "            a = age_pepole[number]\n",
    "        if  age_pepole[number] == -1:\n",
    "            print(a)\n",
    "            break\n",
    "        else:\n",
    "            pass\n"
   ]
  },
  {
   "cell_type": "code",
   "execution_count": 3,
   "id": "923ccc48",
   "metadata": {},
   "outputs": [],
   "source": [
    "n = None\n",
    "m = n\n",
    "m"
   ]
  },
  {
   "cell_type": "code",
   "execution_count": 4,
   "id": "45a56ad7",
   "metadata": {},
   "outputs": [
    {
     "name": "stdout",
     "output_type": "stream",
     "text": [
      "None\n"
     ]
    }
   ],
   "source": [
    "print(m)"
   ]
  },
  {
   "cell_type": "code",
   "execution_count": null,
   "id": "976c8f62",
   "metadata": {},
   "outputs": [],
   "source": []
  },
  {
   "cell_type": "code",
   "execution_count": null,
   "id": "82216717",
   "metadata": {},
   "outputs": [],
   "source": []
  }
 ],
 "metadata": {
  "kernelspec": {
   "display_name": "Python 3 (ipykernel)",
   "language": "python",
   "name": "python3"
  },
  "language_info": {
   "codemirror_mode": {
    "name": "ipython",
    "version": 3
   },
   "file_extension": ".py",
   "mimetype": "text/x-python",
   "name": "python",
   "nbconvert_exporter": "python",
   "pygments_lexer": "ipython3",
   "version": "3.10.5"
  }
 },
 "nbformat": 4,
 "nbformat_minor": 5
}
