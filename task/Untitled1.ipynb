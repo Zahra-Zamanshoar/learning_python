{
 "cells": [
  {
   "cell_type": "code",
   "execution_count": null,
   "id": "03f3e3bf",
   "metadata": {},
   "outputs": [],
   "source": [
    "age_pepole =[17,\n",
    "15,\n",
    "39,\n",
    "51,\n",
    "14,\n",
    "32,\n",
    "28,\n",
    "-1\n",
    "]\n",
    "a = '' \n",
    "while True:\n",
    "    \n",
    "    for item in age_pepole:\n",
    "        \n",
    "        if age_pepole[number] >= age_pepole[number-1]:\n",
    "            a = age_pepole[number]\n",
    "        if  age_pepole[number] == -1:\n",
    "            print(a)\n",
    "            break\n",
    "        else:\n",
    "            pass"
   ]
  },
  {
   "cell_type": "code",
   "execution_count": null,
   "id": "11bb320c",
   "metadata": {},
   "outputs": [],
   "source": []
  }
 ],
 "metadata": {
  "kernelspec": {
   "display_name": "Python 3 (ipykernel)",
   "language": "python",
   "name": "python3"
  },
  "language_info": {
   "codemirror_mode": {
    "name": "ipython",
    "version": 3
   },
   "file_extension": ".py",
   "mimetype": "text/x-python",
   "name": "python",
   "nbconvert_exporter": "python",
   "pygments_lexer": "ipython3",
   "version": "3.10.5"
  }
 },
 "nbformat": 4,
 "nbformat_minor": 5
}
