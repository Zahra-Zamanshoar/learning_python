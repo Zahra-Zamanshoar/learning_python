{
 "cells": [
  {
   "cell_type": "markdown",
   "id": "6de84dd0",
   "metadata": {},
   "source": [
    "# good point\n",
    "1.[Enumerate](#Enumerate)"
   ]
  },
  {
   "cell_type": "markdown",
   "id": "4352a7cf",
   "metadata": {},
   "source": [
    "<a id=\"Enumerate\"></a>\n",
    "### Enumerate"
   ]
  },
  {
   "cell_type": "code",
   "execution_count": 1,
   "id": "74178cfb",
   "metadata": {},
   "outputs": [
    {
     "name": "stdout",
     "output_type": "stream",
     "text": [
      "0 is mam\n",
      "1 is dad\n"
     ]
    }
   ],
   "source": [
    "lst=['mam','dad']\n",
    "for w,n in enumerate(lst):\n",
    "    print(f\"{w} is {n}\")\n",
    "# Enumerate back index in list     "
   ]
  },
  {
   "cell_type": "code",
   "execution_count": null,
   "id": "acf9e907",
   "metadata": {},
   "outputs": [],
   "source": []
  }
 ],
 "metadata": {
  "kernelspec": {
   "display_name": "Python 3 (ipykernel)",
   "language": "python",
   "name": "python3"
  },
  "language_info": {
   "codemirror_mode": {
    "name": "ipython",
    "version": 3
   },
   "file_extension": ".py",
   "mimetype": "text/x-python",
   "name": "python",
   "nbconvert_exporter": "python",
   "pygments_lexer": "ipython3",
   "version": "3.9.12"
  }
 },
 "nbformat": 4,
 "nbformat_minor": 5
}
