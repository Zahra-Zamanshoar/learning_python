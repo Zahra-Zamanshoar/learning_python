{
 "cells": [
  {
   "cell_type": "markdown",
   "id": "803062ea",
   "metadata": {},
   "source": [
    "# Big onotation\n",
    "            1.array\n",
    "            2.linke lis\n",
    "            3.list\n",
    "            4.set"
   ]
  },
  {
   "cell_type": "markdown",
   "id": "e87f9b0b",
   "metadata": {},
   "source": [
    "# -----------------------------------------------------------------------------------------------------------"
   ]
  },
  {
   "attachments": {
    "image.png": {
     "image/png": "[encoded data removed]"
    }
   },
   "cell_type": "markdown",
   "id": "a680e762",
   "metadata": {},
   "source": [
    "### array\n",
    "   accsee ----> o(1)\n",
    "   ![image.png](attachment:image.png) --->Because they are homogeneou a[0]---->a[7] = a[0]\\*7\\*8bytes<p>\n",
    "    \n",
    "   insert ----> o(n)<p>\n",
    "   delete ----> o(n)<p>\n",
    "   search ----> o(n)<p>\n",
    "       \n"
   ]
  },
  {
   "cell_type": "markdown",
   "id": "57ae77a2",
   "metadata": {},
   "source": [
    "# -----------------------------------------------------------------------------------------------------------"
   ]
  },
  {
   "attachments": {
    "image.png": {
     "image/png": "[encoded data removed]"
    }
   },
   "cell_type": "markdown",
   "id": "fd93c493",
   "metadata": {},
   "source": [
    "### linled list\n",
    "  accsee ----> o(n)<p>\n",
    "  insert ----> o(1)------> whitout shift<p>![image.png](attachment:image.png)\n",
    "   delete ----> o(1)<p>\n",
    "   search ----> o(n)<p>"
   ]
  },
  {
   "cell_type": "markdown",
   "id": "6b586802",
   "metadata": {},
   "source": [
    "# -----------------------------------------------------------------------------------------------------------"
   ]
  },
  {
   "attachments": {
    "image.png": {
     "image/png": "[encoded data removed]"
    }
   },
   "cell_type": "markdown",
   "id": "f0b7db1e",
   "metadata": {},
   "source": [
    "### list\n",
    "    accsee ----> o(1)\n",
    "   ![image.png](attachment:image.png)--->Because they are homogeneou a[0]---->a[7] = a[0]\\*7\\*8bytes<p>\n",
    "  insert ----> o(1)<p>\n",
    "   delete ----> o(1)<p>\n",
    "   search ----> o(n)<p>\n",
    "       "
   ]
  },
  {
   "cell_type": "markdown",
   "id": "27ecc4ca",
   "metadata": {},
   "source": [
    "# -----------------------------------------------------------------------------------------------------------"
   ]
  },
  {
   "cell_type": "markdown",
   "id": "0b38b35b",
   "metadata": {},
   "source": [
    "### set\n",
    "    accsee ----> o(1)\n",
    "   Because they are have hash<p> \n",
    "   insert ----> o(1)-----> for ever append in end <p>\n",
    "   delete ----> o(1)<p>\n",
    "   search ----> o(1)<p>"
   ]
  },
  {
   "cell_type": "code",
   "execution_count": 3,
   "id": "c191d65c",
   "metadata": {},
   "outputs": [],
   "source": [
    "lst = [1,2,3,4,5,6]"
   ]
  },
  {
   "cell_type": "code",
   "execution_count": null,
   "id": "93df7cd2",
   "metadata": {},
   "outputs": [],
   "source": []
  },
  {
   "cell_type": "code",
   "execution_count": 9,
   "id": "d7c03635",
   "metadata": {},
   "outputs": [
    {
     "name": "stdout",
     "output_type": "stream",
     "text": [
      "35.6 ns ± 0.781 ns per loop (mean ± std. dev. of 7 runs, 10,000,000 loops each)\n",
      "36 ns ± 0.655 ns per loop (mean ± std. dev. of 7 runs, 10,000,000 loops each)\n",
      "37 ns ± 1.45 ns per loop (mean ± std. dev. of 7 runs, 10,000,000 loops each)\n",
      "37 ns ± 1.65 ns per loop (mean ± std. dev. of 7 runs, 10,000,000 loops each)\n",
      "34.1 ns ± 0.18 ns per loop (mean ± std. dev. of 7 runs, 10,000,000 loops each)\n",
      "34.5 ns ± 0.264 ns per loop (mean ± std. dev. of 7 runs, 10,000,000 loops each)\n"
     ]
    }
   ],
   "source": [
    "for i in lst:\n",
    "    %timeit lst[5]"
   ]
  },
  {
   "cell_type": "code",
   "execution_count": 6,
   "id": "4db9740a",
   "metadata": {},
   "outputs": [],
   "source": [
    "set = {1,2,3,4,5,6,7,8}"
   ]
  },
  {
   "cell_type": "code",
   "execution_count": 8,
   "id": "eb628b3e",
   "metadata": {},
   "outputs": [
    {
     "name": "stdout",
     "output_type": "stream",
     "text": [
      "28.9 ns ± 0.159 ns per loop (mean ± std. dev. of 7 runs, 10,000,000 loops each)\n",
      "28.8 ns ± 0.0657 ns per loop (mean ± std. dev. of 7 runs, 10,000,000 loops each)\n",
      "29.2 ns ± 0.842 ns per loop (mean ± std. dev. of 7 runs, 10,000,000 loops each)\n",
      "29.2 ns ± 0.904 ns per loop (mean ± std. dev. of 7 runs, 10,000,000 loops each)\n",
      "30 ns ± 0.807 ns per loop (mean ± std. dev. of 7 runs, 10,000,000 loops each)\n",
      "29.4 ns ± 0.582 ns per loop (mean ± std. dev. of 7 runs, 10,000,000 loops each)\n",
      "29.2 ns ± 0.178 ns per loop (mean ± std. dev. of 7 runs, 10,000,000 loops each)\n",
      "29.6 ns ± 0.163 ns per loop (mean ± std. dev. of 7 runs, 10,000,000 loops each)\n"
     ]
    }
   ],
   "source": [
    "for i in set:\n",
    "    %timeit i"
   ]
  },
  {
   "cell_type": "code",
   "execution_count": null,
   "id": "30bdabb5",
   "metadata": {},
   "outputs": [],
   "source": []
  }
 ],
 "metadata": {
  "kernelspec": {
   "display_name": "Python 3 (ipykernel)",
   "language": "python",
   "name": "python3"
  },
  "language_info": {
   "codemirror_mode": {
    "name": "ipython",
    "version": 3
   },
   "file_extension": ".py",
   "mimetype": "text/x-python",
   "name": "python",
   "nbconvert_exporter": "python",
   "pygments_lexer": "ipython3",
   "version": "3.10.5"
  }
 },
 "nbformat": 4,
 "nbformat_minor": 5
}
