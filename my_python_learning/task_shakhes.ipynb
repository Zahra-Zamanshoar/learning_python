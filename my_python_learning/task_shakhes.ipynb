{
 "cells": [
  {
   "cell_type": "markdown",
   "id": "487e7bfc",
   "metadata": {},
   "source": [
    "رنامه‌ای بنویسید که از یک متن کلمات شاخص (کلماتی که با حروف بزرگ شروع می‌شوند) را به همراه شماره کلمه (چندمین کلمه می‌باشد) را در خروجی چاپ کند. در صورتی که در متن، کلمه‌ای با این ویژگی یافت نشد، در خروجی None چاپ کند. کلماتی که در ابتدای جمله می‌باشند به عنوان کلمه شاخص در نظر نباید بگیرید. (شماره کلمات را از یک شروع کنید)\n",
    "\n",
    "اعداد جز کلمات شاخص حساب نمی‌شوند. تنها نشانه مورد استفاده در جمله به جز نقطه، ویرگول می‌باشد. حتما دقت شود که در صورتی که نقطه یا ویرگول در آخر کلمه بود، حذف شود.\n",
    "\n",
    " \n",
    "\n",
    "ورودی نمونه:\n",
    "\n",
    "The Persian League is the largest sport event dedicated to the deprived areas of Iran. The Persian League promotes peace and friendship. This video was captured by one of our heroes who wishes peace.\n",
    "خروجی نمونه:\n",
    "\n",
    "2:Persian\n",
    "3:League\n",
    "15:Iran\n",
    "17:Persian\n",
    "18:League"
   ]
  },
  {
   "cell_type": "code",
   "execution_count": 8,
   "id": "27978b9a",
   "metadata": {},
   "outputs": [],
   "source": [
    "a = 'The Persian League is the largest sport event dedicated to the deprived areas of Iran. The Persian League promotes peace and friendship. This video was captured by one of our heroes who wishes peace'"
   ]
  },
  {
   "cell_type": "code",
   "execution_count": 23,
   "id": "bba95723",
   "metadata": {},
   "outputs": [
    {
     "data": {
      "text/plain": [
       "['',\n",
       " 'This',\n",
       " 'video',\n",
       " 'was',\n",
       " 'captured',\n",
       " 'by',\n",
       " 'one',\n",
       " 'of',\n",
       " 'our',\n",
       " 'heroes',\n",
       " 'who',\n",
       " 'wishes',\n",
       " 'peace']"
      ]
     },
     "execution_count": 23,
     "metadata": {},
     "output_type": "execute_result"
    }
   ],
   "source": [
    "b = a.split('.')\n",
    "c = [item.s]\n",
    "c"
   ]
  },
  {
   "cell_type": "code",
   "execution_count": 18,
   "id": "5b17448e",
   "metadata": {},
   "outputs": [
    {
     "data": {
      "text/plain": [
       "{2: 'Persian', 3: 'League', 15: 'Iran.', 23: 'This'}"
      ]
     },
     "execution_count": 18,
     "metadata": {},
     "output_type": "execute_result"
    }
   ],
   "source": [
    "dic = dict()\n",
    "for item in b:\n",
    "    if item[0] == item[0].upper():\n",
    "        if b.index(item) == 0:\n",
    "            pass\n",
    "        else:\n",
    "            dic[b.index(item)+1] = item\n",
    "dic"
   ]
  },
  {
   "cell_type": "code",
   "execution_count": null,
   "id": "6419f44a",
   "metadata": {},
   "outputs": [],
   "source": []
  },
  {
   "cell_type": "code",
   "execution_count": 13,
   "id": "b545493e",
   "metadata": {},
   "outputs": [
    {
     "data": {
      "text/plain": [
       "0"
      ]
     },
     "execution_count": 13,
     "metadata": {},
     "output_type": "execute_result"
    }
   ],
   "source": [
    "b.index('The')"
   ]
  },
  {
   "cell_type": "code",
   "execution_count": null,
   "id": "763c1279",
   "metadata": {},
   "outputs": [],
   "source": []
  }
 ],
 "metadata": {
  "kernelspec": {
   "display_name": "Python 3 (ipykernel)",
   "language": "python",
   "name": "python3"
  },
  "language_info": {
   "codemirror_mode": {
    "name": "ipython",
    "version": 3
   },
   "file_extension": ".py",
   "mimetype": "text/x-python",
   "name": "python",
   "nbconvert_exporter": "python",
   "pygments_lexer": "ipython3",
   "version": "3.10.7"
  }
 },
 "nbformat": 4,
 "nbformat_minor": 5
}
