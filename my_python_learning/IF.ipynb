{
 "cells": [
  {
   "cell_type": "code",
   "execution_count": 1,
   "id": "d1c2e4c2",
   "metadata": {},
   "outputs": [
    {
     "name": "stdout",
     "output_type": "stream",
     "text": [
      "1\n"
     ]
    }
   ],
   "source": [
    "zahra = 'zahra zaman'\n",
    "if 'z' in zahra:\n",
    "    print(1) #---> off_side or indentention\n",
    "elif 'a' in zahra:\n",
    "    print(2)\n",
    "elif 'h' in zahra:\n",
    "    print(3)\n",
    "elif 'r' in zahra:\n",
    "    print(4)"
   ]
  },
  {
   "cell_type": "code",
   "execution_count": 2,
   "id": "f295f9aa",
   "metadata": {},
   "outputs": [
    {
     "name": "stdout",
     "output_type": "stream",
     "text": [
      "1\n",
      "2\n",
      "3\n",
      "4\n"
     ]
    }
   ],
   "source": [
    "zahra = 'zahra zaman'\n",
    "if 'z' in zahra:\n",
    "    print(1)\n",
    "if 'a' in zahra:\n",
    "    print(2)\n",
    "if 'h' in zahra:\n",
    "    print(3)\n",
    "if 'r' in zahra:\n",
    "    print(4)"
   ]
  },
  {
   "cell_type": "code",
   "execution_count": 5,
   "id": "9bbcac28",
   "metadata": {},
   "outputs": [
    {
     "name": "stdout",
     "output_type": "stream",
     "text": [
      "1\n"
     ]
    }
   ],
   "source": [
    "if bool(int):#----->bar asas true &fals\n",
    "    print(1)"
   ]
  },
  {
   "cell_type": "code",
   "execution_count": 6,
   "id": "002885a7",
   "metadata": {},
   "outputs": [
    {
     "name": "stdout",
     "output_type": "stream",
     "text": [
      "123\n"
     ]
    }
   ],
   "source": [
    "if True or 0/0:\n",
    "    print('123')"
   ]
  },
  {
   "cell_type": "code",
   "execution_count": 7,
   "id": "0ed9f609",
   "metadata": {},
   "outputs": [
    {
     "ename": "ZeroDivisionError",
     "evalue": "division by zero",
     "output_type": "error",
     "traceback": [
      "\u001b[1;31m---------------------------------------------------------------------------\u001b[0m",
      "\u001b[1;31mZeroDivisionError\u001b[0m                         Traceback (most recent call last)",
      "Input \u001b[1;32mIn [7]\u001b[0m, in \u001b[0;36m<cell line: 1>\u001b[1;34m()\u001b[0m\n\u001b[1;32m----> 1\u001b[0m \u001b[38;5;28;01mif\u001b[39;00m \u001b[38;5;241;43m0\u001b[39;49m\u001b[38;5;241;43m/\u001b[39;49m\u001b[38;5;241;43m0\u001b[39;49m \u001b[38;5;129;01mor\u001b[39;00m \u001b[38;5;28;01mTrue\u001b[39;00m:\n\u001b[0;32m      2\u001b[0m     \u001b[38;5;28mprint\u001b[39m(\u001b[38;5;124m'\u001b[39m\u001b[38;5;124m123\u001b[39m\u001b[38;5;124m'\u001b[39m)\n",
      "\u001b[1;31mZeroDivisionError\u001b[0m: division by zero"
     ]
    }
   ],
   "source": [
    "if 0/0 or True: #---> short circuit\n",
    "    print('123')"
   ]
  },
  {
   "cell_type": "code",
   "execution_count": 12,
   "id": "0d562e6f",
   "metadata": {},
   "outputs": [
    {
     "ename": "NameError",
     "evalue": "name 'z' is not defined",
     "output_type": "error",
     "traceback": [
      "\u001b[1;31m---------------------------------------------------------------------------\u001b[0m",
      "\u001b[1;31mNameError\u001b[0m                                 Traceback (most recent call last)",
      "Input \u001b[1;32mIn [12]\u001b[0m, in \u001b[0;36m<cell line: 2>\u001b[1;34m()\u001b[0m\n\u001b[0;32m      1\u001b[0m x \u001b[38;5;241m=\u001b[39m \u001b[38;5;241m3\u001b[39m\n\u001b[1;32m----> 2\u001b[0m \u001b[38;5;28;01mif\u001b[39;00m \u001b[43mz\u001b[49m \u001b[38;5;241m==\u001b[39m \u001b[38;5;241m1\u001b[39m \u001b[38;5;129;01mor\u001b[39;00m x \u001b[38;5;241m==\u001b[39m \u001b[38;5;241m3\u001b[39m :\n\u001b[0;32m      3\u001b[0m     \u001b[38;5;28mprint\u001b[39m(\u001b[38;5;124m'\u001b[39m\u001b[38;5;124mhi\u001b[39m\u001b[38;5;124m'\u001b[39m)\n",
      "\u001b[1;31mNameError\u001b[0m: name 'z' is not defined"
     ]
    }
   ],
   "source": [
    "x = 3\n",
    "if z == 1 or x == 3 :\n",
    "    print('hi')"
   ]
  },
  {
   "cell_type": "code",
   "execution_count": 13,
   "id": "8f72d118",
   "metadata": {},
   "outputs": [
    {
     "name": "stdout",
     "output_type": "stream",
     "text": [
      "z\n"
     ]
    }
   ],
   "source": [
    "if x == 3 or z == 1:\n",
    "    print('z')"
   ]
  },
  {
   "cell_type": "code",
   "execution_count": 16,
   "id": "273d1462",
   "metadata": {},
   "outputs": [
    {
     "name": "stdout",
     "output_type": "stream",
     "text": [
      "very good\n"
     ]
    }
   ],
   "source": [
    "user = 'zahra'\n",
    "print('very good') if user == 'zahra' else print('sorry')"
   ]
  },
  {
   "cell_type": "code",
   "execution_count": 1,
   "id": "e937dfaa",
   "metadata": {},
   "outputs": [
    {
     "name": "stdout",
     "output_type": "stream",
     "text": [
      "please enter your pointش\n"
     ]
    },
    {
     "ename": "NameError",
     "evalue": "name 'a' is not defined",
     "output_type": "error",
     "traceback": [
      "\u001b[1;31m---------------------------------------------------------------------------\u001b[0m",
      "\u001b[1;31mNameError\u001b[0m                                 Traceback (most recent call last)",
      "Input \u001b[1;32mIn [1]\u001b[0m, in \u001b[0;36m<cell line: 2>\u001b[1;34m()\u001b[0m\n\u001b[0;32m      1\u001b[0m input_ \u001b[38;5;241m=\u001b[39m \u001b[38;5;28minput\u001b[39m(\u001b[38;5;124m'\u001b[39m\u001b[38;5;124mplease enter your point\u001b[39m\u001b[38;5;124m'\u001b[39m)\n\u001b[1;32m----> 2\u001b[0m lst \u001b[38;5;241m=\u001b[39m [\u001b[43ma\u001b[49m,b,c,d]\n",
      "\u001b[1;31mNameError\u001b[0m: name 'a' is not defined"
     ]
    }
   ],
   "source": [
    "input_ = input('please enter your point')\n",
    "lst = [a,b,c,d]\n"
   ]
  },
  {
   "cell_type": "markdown",
   "id": "224fcfcc",
   "metadata": {},
   "source": [
    "# --------------------------------------------------------------------------------------------------------------"
   ]
  },
  {
   "cell_type": "markdown",
   "id": "41a44db6",
   "metadata": {},
   "source": [
    "Write a Python program to get 3 inputs from the user and find the median of three values without sorting values. only use conditional statements, not any python methods"
   ]
  },
  {
   "cell_type": "code",
   "execution_count": 9,
   "id": "47ef9fbb",
   "metadata": {},
   "outputs": [
    {
     "name": "stdout",
     "output_type": "stream",
     "text": [
      "Input first number: 3\n",
      "Input second number: 5\n",
      "Input third number: 4\n"
     ]
    },
    {
     "data": {
      "text/plain": [
       "5"
      ]
     },
     "execution_count": 9,
     "metadata": {},
     "output_type": "execute_result"
    }
   ],
   "source": [
    "input_1 = int(input(\"Input first number: \"))\n",
    "input_2 = int(input(\"Input second number: \"))\n",
    "input_3 = int(input(\"Input third number: \"))\n",
    "lst = []\n",
    "lst.extend([input_1,input_2,input_3])\n",
    "maximum = lst[0]\n",
    "for num in lst:\n",
    "    if num > maximum:\n",
    "        maximum = num\n",
    "maximum"
   ]
  },
  {
   "cell_type": "markdown",
   "id": "89e0c2cb",
   "metadata": {},
   "source": [
    "# --------------------------------------------------------------------------------------------------------------"
   ]
  },
  {
   "cell_type": "markdown",
   "id": "d20ba9dc",
   "metadata": {},
   "source": [
    "Ali is TA. He wants to calculate the student's final score based on three scores and if their mean value is between 16 and 20, give them 20, otherwise, put the actual mean score. Help him write a program that gets three input as scores and give the result."
   ]
  },
  {
   "cell_type": "code",
   "execution_count": 14,
   "id": "3591ac10",
   "metadata": {},
   "outputs": [
    {
     "name": "stdout",
     "output_type": "stream",
     "text": [
      "20\n"
     ]
    }
   ],
   "source": [
    "inputs = [18.75, 16.2, 15.9]\n",
    "mid = sum(inputs) / len(inputs)\n",
    "if 20> mid >16 :\n",
    "    print(20)\n",
    "else:\n",
    "    print(mid)"
   ]
  },
  {
   "cell_type": "markdown",
   "id": "fddc9f0f",
   "metadata": {},
   "source": [
    "# --------------------------------------------------------------------------------------------------------------"
   ]
  },
  {
   "cell_type": "markdown",
   "id": "1f7fb8fc",
   "metadata": {},
   "source": [
    "Write a Python program to check whether an alphabet is a vowel or consonant.  \n",
    "\n",
    "note: input alphabet can also be capital"
   ]
  },
  {
   "cell_type": "code",
   "execution_count": 18,
   "id": "dc83be23",
   "metadata": {},
   "outputs": [
    {
     "name": "stdout",
     "output_type": "stream",
     "text": [
      "Input third number:a\n",
      "vowel\n"
     ]
    }
   ],
   "source": [
    "vowel = ['o', 'u', 'a', 'i', 'e']\n",
    "input_1 = input('Input third number:')\n",
    "if input_1.lower() in vowel:\n",
    "    print('vowel')\n",
    "else:\n",
    "    print('consonant')"
   ]
  },
  {
   "cell_type": "markdown",
   "id": "b63f954a",
   "metadata": {},
   "source": [
    "# --------------------------------------------------------------------------------------------------------------"
   ]
  },
  {
   "cell_type": "markdown",
   "id": "53edcf7b",
   "metadata": {},
   "source": [
    "Pytopia wants to develop a system that divides the entrance exam scores of the python class members into four categories as follows: \n",
    "\n",
    "Marks                         Grade\n",
    " > 90                               A\n",
    " > 80 and <= 90             B\n",
    " >= 60 and <= 80           C\n",
    " below 60                       D\n",
    "\n",
    "Get a score number as input and print the desired class name "
   ]
  },
  {
   "cell_type": "code",
   "execution_count": 27,
   "id": "d6671e29",
   "metadata": {
    "scrolled": true
   },
   "outputs": [
    {
     "name": "stdout",
     "output_type": "stream",
     "text": [
      "A\n",
      "C\n",
      "D\n",
      "C\n",
      "D\n",
      "D\n"
     ]
    }
   ],
   "source": [
    "lst = [90, 79, 40, 60, 50, a]\n",
    "for i in lst:\n",
    "    if 100> i >=90:\n",
    "        print('A')\n",
    "    elif  90> i >=80:\n",
    "        print(\"B\")\n",
    "    elif  80> i >=60:\n",
    "        print(\"C\")\n",
    "    elif 60> i  :\n",
    "        print(\"D\")\n",
    "    else:\n",
    "        raise Error(f'your num is{i} but its not num')"
   ]
  },
  {
   "cell_type": "markdown",
   "id": "5fbf3282",
   "metadata": {},
   "source": [
    "# --------------------------------------------------------------------------------------------------------------"
   ]
  },
  {
   "cell_type": "markdown",
   "id": "2c348952",
   "metadata": {},
   "source": [
    "Triangle Type\n",
    "Write a program to get three numbers as the sides of a triangle and check whether it is an equilateral, isosceles, or scalene triangle.\n",
    "\n",
    "Note :\n",
    "\n",
    "An equilateral triangle is a triangle in which all three sides are equal.\n",
    "A scalene triangle is a triangle that has three unequal sides.\n",
    "An isosceles triangle is a triangle with (at least) two equal sides.\n"
   ]
  },
  {
   "cell_type": "code",
   "execution_count": 34,
   "id": "12aee771",
   "metadata": {},
   "outputs": [
    {
     "name": "stdout",
     "output_type": "stream",
     "text": [
      "pleaze enter your three numbers as the sides: 333\n",
      "equilateral\n"
     ]
    }
   ],
   "source": [
    "Triangle = list(input('pleaze enter your three numbers as the sides: '))\n",
    "if len(set(Triangle)) == 3:\n",
    "    print('scalene')\n",
    "elif len(set(Triangle)) == 2:\n",
    "    print('isosceles')\n",
    "elif len(set(Triangle)) == 1:\n",
    "    print('equilateral')"
   ]
  },
  {
   "cell_type": "markdown",
   "id": "5e694175",
   "metadata": {},
   "source": [
    "# --------------------------------------------------------------------------------------------------------------"
   ]
  },
  {
   "cell_type": "markdown",
   "id": "e640231f",
   "metadata": {},
   "source": [
    "Conditional Job Working\n",
    "Ali has doubts about doing something. He asks his friend to choose a number between 500 and 1000 and if the tens digit is even, do the work. Otherwise, don't do it. (e.g in 542, 4 is a tens digit. Also, it is even ). \n",
    "Write a program that does this for him. if the tens digit is even print  Do It! otherwise, print Don't Do It!\n",
    "\n",
    "Note:  the input number must be in the range [500, 1000). otherwise, print Invalid Number!\n",
    "\n",
    "Note: Don't convert the number to string to get tens digit!"
   ]
  },
  {
   "cell_type": "code",
   "execution_count": 47,
   "id": "e53bde14",
   "metadata": {},
   "outputs": [
    {
     "name": "stdout",
     "output_type": "stream",
     "text": [
      "pleaze enter your number: 578\n",
      "Don't do it\n"
     ]
    }
   ],
   "source": [
    "# #1 (یکان یه عدد )\n",
    "# // 10 **0\n",
    "# % 10\n",
    "# #2 (دهگان یه عدد )\n",
    "# // 10 **1\n",
    "# % 10\n",
    "# #3 (صدگان یه عدد )\n",
    "# // 10 ** 2\n",
    "# % 10\n",
    "number = int(input('pleaze enter your number: '))\n",
    "tens_digit = (number//10) %10\n",
    "if number >=1000   or number < 500:\n",
    "    print('invalid')\n",
    "else:\n",
    "    if tens_digit % 2 == 0:\n",
    "                         print('Do it')\n",
    "    else:\n",
    "        print(\"Don't do it\")\n",
    "        "
   ]
  },
  {
   "cell_type": "markdown",
   "id": "62b0a686",
   "metadata": {},
   "source": [
    "# --------------------------------------------------------------------------------------------------------------"
   ]
  },
  {
   "cell_type": "markdown",
   "id": "543bb14d",
   "metadata": {},
   "source": [
    "Write a Python program that receive a number from the user and determines if a given integer is even or odd."
   ]
  },
  {
   "cell_type": "code",
   "execution_count": 51,
   "id": "ee2287e7",
   "metadata": {},
   "outputs": [
    {
     "name": "stdout",
     "output_type": "stream",
     "text": [
      "pleaze enter your number: 134\n",
      "even\n"
     ]
    }
   ],
   "source": [
    "number = int(input('pleaze enter your number: '))\n",
    "if number % 2 == 0:\n",
    "    print('even')\n",
    "elif number % 2 == 1:\n",
    "    print('odd')\n",
    "else:\n",
    "    print('your number is wrong')\n"
   ]
  },
  {
   "cell_type": "markdown",
   "id": "91999082",
   "metadata": {},
   "source": [
    "# --------------------------------------------------------------------------------------------------------------"
   ]
  },
  {
   "cell_type": "markdown",
   "id": "a97c65e9",
   "metadata": {},
   "source": [
    "The weekday name\n",
    "Write a Python code that would read any integer day number and show the day's name in the word"
   ]
  },
  {
   "cell_type": "code",
   "execution_count": 54,
   "id": "287e5b0d",
   "metadata": {},
   "outputs": [
    {
     "name": "stdout",
     "output_type": "stream",
     "text": [
      "pleaze enter your number: 1\n",
      "shanbeh\n"
     ]
    }
   ],
   "source": [
    "number = int(input('pleaze enter your number: '))\n",
    "weekdays = {1:'shanbeh', 2:'yekshanbeh', 3:'doshanbeh', 4:'seshanbeh', 5:'chaharshanbeh', 6:'panjshanbeh', 7: 'jomeh'}\n",
    "if number in weekdays:\n",
    "    print(weekdays[number])"
   ]
  },
  {
   "cell_type": "markdown",
   "id": "f0399800",
   "metadata": {},
   "source": [
    "# --------------------------------------------------------------------------------------------------------------"
   ]
  },
  {
   "cell_type": "markdown",
   "id": "5042973f",
   "metadata": {},
   "source": [
    "Angles of a triangle\n",
    "Write a python program that receive three angles from the user to determine whether the supplied angle values may be used to construct a triangle"
   ]
  },
  {
   "cell_type": "code",
   "execution_count": 63,
   "id": "e775aa3e",
   "metadata": {},
   "outputs": [
    {
     "name": "stdout",
     "output_type": "stream",
     "text": [
      "three angles: 123\n"
     ]
    },
    {
     "ename": "TypeError",
     "evalue": "'int' object is not iterable",
     "output_type": "error",
     "traceback": [
      "\u001b[1;31m---------------------------------------------------------------------------\u001b[0m",
      "\u001b[1;31mTypeError\u001b[0m                                 Traceback (most recent call last)",
      "Input \u001b[1;32mIn [63]\u001b[0m, in \u001b[0;36m<cell line: 3>\u001b[1;34m()\u001b[0m\n\u001b[0;32m      1\u001b[0m angles \u001b[38;5;241m=\u001b[39m \u001b[38;5;28mint\u001b[39m(\u001b[38;5;28minput\u001b[39m(\u001b[38;5;124m'\u001b[39m\u001b[38;5;124mthree angles: \u001b[39m\u001b[38;5;124m'\u001b[39m))\n\u001b[0;32m      2\u001b[0m lst \u001b[38;5;241m=\u001b[39m []\n\u001b[1;32m----> 3\u001b[0m \u001b[43mlst\u001b[49m\u001b[38;5;241;43m.\u001b[39;49m\u001b[43mextend\u001b[49m\u001b[43m(\u001b[49m\u001b[43mangles\u001b[49m\u001b[43m)\u001b[49m\n\u001b[0;32m      4\u001b[0m \u001b[38;5;66;03m# if sum(angles) == 180 :\u001b[39;00m\n\u001b[0;32m      5\u001b[0m \u001b[38;5;66;03m#     print('yes')\u001b[39;00m\n\u001b[0;32m      6\u001b[0m \u001b[38;5;66;03m# else:\u001b[39;00m\n\u001b[0;32m      7\u001b[0m \u001b[38;5;66;03m#     print('no')\u001b[39;00m\n\u001b[0;32m      8\u001b[0m lst\n",
      "\u001b[1;31mTypeError\u001b[0m: 'int' object is not iterable"
     ]
    }
   ],
   "source": [
    "angles = int(input('three angles: '))\n",
    "lst = []\n",
    "lst.extend(angles)\n",
    "# if sum(angles) == 180 :\n",
    "#     print('yes')\n",
    "# else:\n",
    "#     print('no')\n",
    "lst"
   ]
  },
  {
   "cell_type": "markdown",
   "id": "60f283fd",
   "metadata": {},
   "source": [
    "# --------------------------------------------------------------------------------------------------------------"
   ]
  },
  {
   "cell_type": "markdown",
   "id": "8a74f595",
   "metadata": {},
   "source": [
    "Quadratic equation\n",
    "Write a Python program that receive three numbers from the user to calculate the root of a Quadratic Equation.\n",
    "\n",
    "ax² + bx + c\n",
    "\n",
    "As you know, the roots of the quadratic equation can be obtained using the following formula:\n",
    "\n",
    "x = (-b ± √Δ)/2a\n",
    "\n",
    "If the delta is a number greater than zero (Δ>0), our quadratic equation has two roots as follows:  \n",
    "x1 = (-b + √Δ)/2a\n",
    "x2 = (-b - √Δ)/2a\n",
    "If the delta is zero, then there is exactly one real root:\n",
    "x = -b/2a\n",
    "If the delta is negative, then there are no real roots:\n",
    "We also know that Delta equals:\n",
    "Δ = b2 - 4ac"
   ]
  },
  {
   "cell_type": "code",
   "execution_count": 74,
   "id": "efa6a2c2",
   "metadata": {},
   "outputs": [
    {
     "name": "stdout",
     "output_type": "stream",
     "text": [
      "Input first a: 2\n",
      "Input second b: 3\n",
      "Input third c: 4\n",
      "delta is lower 0\n"
     ]
    }
   ],
   "source": [
    "a = int(input(\"Input first a: \"))\n",
    "b = int(input(\"Input second b: \"))\n",
    "c = int(input(\"Input third c: \"))\n",
    "delta = b ** 2 -4 *a *c\n",
    "if delta > 0:\n",
    "    x_1 = (-b + delta ** 0.5) / (2*a)\n",
    "    x_2= (-b - delta ** 0.5) / (2*a)\n",
    "    print(f'x-1 is {x_1} ---- x-2 is {x_2}')\n",
    "elif delta == 0 :\n",
    "    x = -b / (2*a)\n",
    "    print(f'x is {x}')\n",
    "else:\n",
    "    print('delta is lower 0')"
   ]
  },
  {
   "cell_type": "markdown",
   "id": "e185c340",
   "metadata": {},
   "source": [
    "# --------------------------------------------------------------------------------------------------------------"
   ]
  },
  {
   "cell_type": "markdown",
   "id": "e5e67f64",
   "metadata": {},
   "source": [
    "Area of geometric shapes\n",
    "Create an application that initially displays a list of geometric shapes to the user. By entering a number, the user can pick one of those shapes. Then, based on the geometric shape selected, obtain the shape parameters from the user. Finally, as the output, display the shape's area."
   ]
  },
  {
   "cell_type": "markdown",
   "id": "944906c9",
   "metadata": {},
   "source": [
    "# --------------------------------------------------------------------------------------------------------------"
   ]
  },
  {
   "cell_type": "markdown",
   "id": "39c0d5d6",
   "metadata": {},
   "source": [
    "You can nest expressions to evaluate inside expressions in an f-string\n",
    "\n",
    "You are given a set of prime numbers less than 1000. Create a program that receives a number and then uses a single print() function with F-String to determine whether or not it was a prime number.\n",
    "\n",
    "for example:\n",
    "\n",
    "\"997 is a prime number.\"\n",
    "\n"
   ]
  },
  {
   "cell_type": "code",
   "execution_count": 89,
   "id": "21f5aa4b",
   "metadata": {},
   "outputs": [],
   "source": [
    "P = {2, 3, 5, 7, 11, 13, 17, 19, 23, 29, 31, 37, 41,\n",
    "     43, 47, 53, 59, 61, 67, 71, 73, 79, 83, 89, 97,\n",
    "     101, 103, 107, 109, 113, 127, 131, 137, 139, 149,\n",
    "     151, 157, 163, 167, 173, 179, 181, 191, 193, 197,\n",
    "     199, 211, 223, 227, 229, 233, 239, 241, 251, 257,\n",
    "     263, 269, 271, 277, 281, 283, 293, 307, 311, 313,\n",
    "     317, 331, 337, 347, 349, 353, 359, 367, 373, 379,\n",
    "     383, 389, 397, 401, 409, 419, 421, 431, 433, 439,\n",
    "     443, 449, 457, 461, 463, 467, 479, 487, 491, 499,\n",
    "     503, 509, 521, 523, 541, 547, 557, 563, 569, 571,\n",
    "     577, 587, 593, 599, 601, 607, 613, 617, 619, 631,\n",
    "     641, 643, 647, 653, 659, 661, 673, 677, 683, 691,\n",
    "     701, 709, 719, 727, 733, 739, 743, 751, 757, 761,\n",
    "     769, 773, 787, 797, 809, 811, 821, 823, 827, 829,\n",
    "     839, 853, 857, 859, 863, 877, 881, 883, 887, 907,\n",
    "     911, 919, 929, 937, 941, 947, 953, 967, 971, 977,\n",
    "     983, 991, 997}"
   ]
  },
  {
   "cell_type": "code",
   "execution_count": 100,
   "id": "5511d570",
   "metadata": {},
   "outputs": [
    {
     "name": "stdout",
     "output_type": "stream",
     "text": [
      "pleaze enter your number: 2\n",
      "2 is primt\n"
     ]
    }
   ],
   "source": [
    "number = int(input('pleaze enter your number: '))\n",
    "print(\n",
    "    f'{number } {\"is primt\" if number in P else \"is not prime\"}'\n",
    ")"
   ]
  },
  {
   "cell_type": "markdown",
   "id": "fb88ffc0",
   "metadata": {},
   "source": [
    "# --------------------------------------------------------------------------------------------------------------"
   ]
  },
  {
   "cell_type": "code",
   "execution_count": null,
   "id": "a43b4022",
   "metadata": {},
   "outputs": [],
   "source": []
  }
 ],
 "metadata": {
  "kernelspec": {
   "display_name": "Python 3 (ipykernel)",
   "language": "python",
   "name": "python3"
  },
  "language_info": {
   "codemirror_mode": {
    "name": "ipython",
    "version": 3
   },
   "file_extension": ".py",
   "mimetype": "text/x-python",
   "name": "python",
   "nbconvert_exporter": "python",
   "pygments_lexer": "ipython3",
   "version": "3.9.12"
  }
 },
 "nbformat": 4,
 "nbformat_minor": 5
}
