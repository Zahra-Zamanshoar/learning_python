{
 "cells": [
  {
   "cell_type": "code",
   "execution_count": 1,
   "id": "3b3eb537",
   "metadata": {},
   "outputs": [
    {
     "ename": "TypeError",
     "evalue": "len() takes exactly one argument (0 given)",
     "output_type": "error",
     "traceback": [
      "\u001b[1;31m---------------------------------------------------------------------------\u001b[0m",
      "\u001b[1;31mTypeError\u001b[0m                                 Traceback (most recent call last)",
      "Input \u001b[1;32mIn [1]\u001b[0m, in \u001b[0;36m<cell line: 1>\u001b[1;34m()\u001b[0m\n\u001b[1;32m----> 1\u001b[0m \u001b[38;5;28;43mlen\u001b[39;49m\u001b[43m(\u001b[49m\u001b[43m)\u001b[49m\n",
      "\u001b[1;31mTypeError\u001b[0m: len() takes exactly one argument (0 given)"
     ]
    }
   ],
   "source": [
    "len()"
   ]
  },
  {
   "cell_type": "code",
   "execution_count": 2,
   "id": "dd710d89",
   "metadata": {},
   "outputs": [
    {
     "data": {
      "text/plain": [
       "'Return the number of items in a container.'"
      ]
     },
     "execution_count": 2,
     "metadata": {},
     "output_type": "execute_result"
    }
   ],
   "source": [
    "len.__doc__"
   ]
  },
  {
   "cell_type": "code",
   "execution_count": 5,
   "id": "d17304e1",
   "metadata": {},
   "outputs": [],
   "source": [
    "def zahra():\n",
    "    '''zahra is perfect person in our life'''"
   ]
  },
  {
   "cell_type": "code",
   "execution_count": 6,
   "id": "a313ae9f",
   "metadata": {},
   "outputs": [
    {
     "data": {
      "text/plain": [
       "'zahra is perfect person in our life'"
      ]
     },
     "execution_count": 6,
     "metadata": {},
     "output_type": "execute_result"
    }
   ],
   "source": [
    "zahra.__doc__"
   ]
  },
  {
   "cell_type": "markdown",
   "id": "c0881f62",
   "metadata": {},
   "source": [
    "# ----------------------------------------------------------------------------------------------------------"
   ]
  },
  {
   "cell_type": "markdown",
   "id": "1f219974",
   "metadata": {},
   "source": [
    " Write a function count_char() which takes a string as an argument and counts the number of each character in a string and returns a dictionary where keys are characters and values are the number of characters in the string."
   ]
  },
  {
   "cell_type": "code",
   "execution_count": 54,
   "id": "d93f69d7",
   "metadata": {},
   "outputs": [],
   "source": [
    "from collections import defaultdict"
   ]
  },
  {
   "cell_type": "code",
   "execution_count": 12,
   "id": "06d9a33e",
   "metadata": {},
   "outputs": [],
   "source": [
    "def count_char(a):\n",
    "    \"\"\"\"Return the number of char\"\"\"\n",
    "    count = defaultdict(count_char)\n",
    "    for item in a :\n",
    "        count[item] = a.count(item)\n",
    "    return count"
   ]
  },
  {
   "cell_type": "code",
   "execution_count": 13,
   "id": "75c073f4",
   "metadata": {},
   "outputs": [
    {
     "data": {
      "text/plain": [
       "defaultdict(<function __main__.count_char(a)>,\n",
       "            {'z': 1, 'a': 2, 'h': 1, 'r': 1})"
      ]
     },
     "execution_count": 13,
     "metadata": {},
     "output_type": "execute_result"
    }
   ],
   "source": [
    "count_char('zahra')"
   ]
  },
  {
   "cell_type": "code",
   "execution_count": 15,
   "id": "f310c9ed",
   "metadata": {},
   "outputs": [
    {
     "data": {
      "text/plain": [
       "defaultdict(<function __main__.count_char(a)>,\n",
       "            {'z': 2, 'a': 2, 'b': 1, 'w': 1, 'x': 1})"
      ]
     },
     "execution_count": 15,
     "metadata": {},
     "output_type": "execute_result"
    }
   ],
   "source": [
    "count_char(['z', 'z', 'a', 'b', 'w', 'x', 'a'])"
   ]
  },
  {
   "cell_type": "code",
   "execution_count": 77,
   "id": "070f821d",
   "metadata": {},
   "outputs": [],
   "source": [
    "def count_char(a):\n",
    "    \"\"\"\"Return the number of char\"\"\"\n",
    "    count = dict()\n",
    "    lst = []\n",
    "    for item in a :\n",
    "        lst.append(item)\n",
    "    for item in a :\n",
    "        if item in lst:\n",
    "            count[item] = count.get(item, 0) +1\n",
    "    return count"
   ]
  },
  {
   "cell_type": "code",
   "execution_count": 78,
   "id": "38152a61",
   "metadata": {},
   "outputs": [
    {
     "data": {
      "text/plain": [
       "{'z': 1, 'a': 2, 'h': 1, 'r': 1}"
      ]
     },
     "execution_count": 78,
     "metadata": {},
     "output_type": "execute_result"
    }
   ],
   "source": [
    "count_char('zahra')"
   ]
  },
  {
   "cell_type": "code",
   "execution_count": 8,
   "id": "b78a2a89",
   "metadata": {},
   "outputs": [
    {
     "name": "stdout",
     "output_type": "stream",
     "text": [
      "1\n",
      "2\n"
     ]
    }
   ],
   "source": [
    "# Python program to demonstrate\n",
    "# defaultdict\n",
    "  \n",
    "  \n",
    "from collections import defaultdict\n",
    "  \n",
    "  \n",
    "# Function to return a default\n",
    "# values for keys that is not\n",
    "# present\n",
    "def def_value():\n",
    "    return \"Not Present\"\n",
    "      \n",
    "# Defining the dict\n",
    "d = defaultdict(def_value)\n",
    "d[\"a\"] = 1\n",
    "d[\"b\"] = 2\n",
    "  \n",
    "print(d[\"a\"])\n",
    "print(d[\"b\"])"
   ]
  },
  {
   "cell_type": "markdown",
   "id": "aa43f833",
   "metadata": {},
   "source": [
    "# ----------------------------------------------------------------------------------------------------------"
   ]
  },
  {
   "cell_type": "markdown",
   "id": "fff35ebd",
   "metadata": {},
   "source": [
    "Write function make_sentence() that  generate all sentences where  subject is in [\"I\", \"You\"],  verb is in [\"Play\", \"Love\"] and the object is in [\"Hockey\",\"Football\"]  and return them as a list of sentences\n",
    "\n",
    "Note: your function must get subjects,  verbs,  and objects as its argument."
   ]
  },
  {
   "cell_type": "code",
   "execution_count": 1,
   "id": "f00e901e",
   "metadata": {},
   "outputs": [],
   "source": [
    "subjects = [\"I\", \"You\"]\n",
    "verbs = [\"Play\", \"Love\"]\n",
    "objects = [\"Statistic\", \"Python\"]\n",
    "\n",
    "\n",
    "def make_sentence(subjects, verbs, objects):\n",
    "    sentences_list = []\n",
    "\n",
    "    for i in range(len(subjects)):\n",
    "        for j in range(len(verbs)):\n",
    "            for k in range(len(objects)):\n",
    "                sentence = f\"{subjects[i]} {verbs[j]} {objects[k]}\"\n",
    "                sentences_list.append(sentence)\n",
    "    return sentences_list"
   ]
  },
  {
   "cell_type": "code",
   "execution_count": 4,
   "id": "373241bb",
   "metadata": {},
   "outputs": [
    {
     "data": {
      "text/plain": [
       "['I P P',\n",
       " 'I P y',\n",
       " 'I P t',\n",
       " 'I P h',\n",
       " 'I P o',\n",
       " 'I P n',\n",
       " 'I l P',\n",
       " 'I l y',\n",
       " 'I l t',\n",
       " 'I l h',\n",
       " 'I l o',\n",
       " 'I l n',\n",
       " 'I a P',\n",
       " 'I a y',\n",
       " 'I a t',\n",
       " 'I a h',\n",
       " 'I a o',\n",
       " 'I a n',\n",
       " 'I y P',\n",
       " 'I y y',\n",
       " 'I y t',\n",
       " 'I y h',\n",
       " 'I y o',\n",
       " 'I y n']"
      ]
     },
     "execution_count": 4,
     "metadata": {},
     "output_type": "execute_result"
    }
   ],
   "source": [
    "make_sentence('I', 'Play', 'Python')"
   ]
  },
  {
   "cell_type": "markdown",
   "id": "c17dae23",
   "metadata": {},
   "source": [
    "# ----------------------------------------------------------------------------------------------------------"
   ]
  },
  {
   "cell_type": "markdown",
   "id": "2d1219a0",
   "metadata": {},
   "source": [
    "A robot moves in a plane starting from the original point (0,0). The robot can move UP, DOWN, LEFT and RIGHT with a given step. The trace of robot movement is shown as the following:\n",
    "\n",
    "UP 5\n",
    "DOWN 3\n",
    "\n",
    "The numbers after the direction are steps. Write a program to compute the distance from the current position and the original point after a sequence of movements.\n",
    "\n",
    "Note:  use a function named robot_moves that takes a list of movements as its argument and calculates the distance and stores the result in a variable named dist_value\n",
    "Note : in each line, you get input from the user in form  <move> <steps> (until the user writes End).\n",
    "and put these user's inputs in a list to give it to your function"
   ]
  },
  {
   "cell_type": "code",
   "execution_count": null,
   "id": "a0d59f20",
   "metadata": {},
   "outputs": [],
   "source": [
    "robot_moves(* , x, y):\n",
    "    if "
   ]
  },
  {
   "cell_type": "code",
   "execution_count": 38,
   "id": "bed32a25",
   "metadata": {},
   "outputs": [
    {
     "name": "stdout",
     "output_type": "stream",
     "text": [
      "give a move and it's steps :Up = 3\n",
      "give a move and it's steps :End\n"
     ]
    },
    {
     "ename": "ValueError",
     "evalue": "too many values to unpack (expected 2)",
     "output_type": "error",
     "traceback": [
      "\u001b[1;31m---------------------------------------------------------------------------\u001b[0m",
      "\u001b[1;31mValueError\u001b[0m                                Traceback (most recent call last)",
      "Input \u001b[1;32mIn [38]\u001b[0m, in \u001b[0;36m<cell line: 27>\u001b[1;34m()\u001b[0m\n\u001b[0;32m     23\u001b[0m         \u001b[38;5;28;01mbreak\u001b[39;00m\n\u001b[0;32m     24\u001b[0m     moves\u001b[38;5;241m.\u001b[39mappend(dir_distance)\n\u001b[1;32m---> 27\u001b[0m dist_value \u001b[38;5;241m=\u001b[39m \u001b[43mrobot_moves\u001b[49m\u001b[43m(\u001b[49m\u001b[43mmoves\u001b[49m\u001b[43m)\u001b[49m\n",
      "Input \u001b[1;32mIn [38]\u001b[0m, in \u001b[0;36mrobot_moves\u001b[1;34m(moves)\u001b[0m\n\u001b[0;32m      2\u001b[0m pos \u001b[38;5;241m=\u001b[39m [\u001b[38;5;241m0\u001b[39m, \u001b[38;5;241m0\u001b[39m]\n\u001b[0;32m      3\u001b[0m \u001b[38;5;28;01mfor\u001b[39;00m move \u001b[38;5;129;01min\u001b[39;00m moves:\n\u001b[1;32m----> 4\u001b[0m     \u001b[38;5;28mdir\u001b[39m, distance \u001b[38;5;241m=\u001b[39m move\u001b[38;5;241m.\u001b[39msplit()\n\u001b[0;32m      5\u001b[0m     \u001b[38;5;28;01mif\u001b[39;00m \u001b[38;5;28mdir\u001b[39m\u001b[38;5;241m.\u001b[39mupper() \u001b[38;5;241m==\u001b[39m \u001b[38;5;124m\"\u001b[39m\u001b[38;5;124mUP\u001b[39m\u001b[38;5;124m\"\u001b[39m:\n\u001b[0;32m      6\u001b[0m         pos[\u001b[38;5;241m0\u001b[39m] \u001b[38;5;241m+\u001b[39m\u001b[38;5;241m=\u001b[39m \u001b[38;5;28mint\u001b[39m(distance)\n",
      "\u001b[1;31mValueError\u001b[0m: too many values to unpack (expected 2)"
     ]
    }
   ],
   "source": [
    "def robot_moves(moves):\n",
    "    pos = [0, 0]\n",
    "    for move in moves:\n",
    "        dir, distance = move.split()\n",
    "        if dir.upper() == \"UP\":\n",
    "            pos[0] += int(distance)\n",
    "        elif dir.upper() == \"DOWN\":\n",
    "            pos[0] -= int(distance)\n",
    "        elif dir.upper() == \"RIGHT\":\n",
    "            pos[1] += int(distance)\n",
    "        elif dir.upper() == \"LEFT\":\n",
    "            pos[1] -= int(distance)\n",
    "\n",
    "\n",
    "    return ((pos[0] ** 2) + (pos[1] ** 2)) ** 0.5\n",
    "\n",
    "\n",
    "\n",
    "moves = []\n",
    "while True:\n",
    "    dir_distance = input(\"give a move and it's steps :\")\n",
    "    if dir_distance == \"End\":\n",
    "        break\n",
    "    moves.append(dir_distance)\n",
    "\n",
    "\n",
    "dist_value = robot_moves(moves)"
   ]
  },
  {
   "cell_type": "code",
   "execution_count": 44,
   "id": "3b302fed",
   "metadata": {},
   "outputs": [
    {
     "ename": "NameError",
     "evalue": "name 'UP' is not defined",
     "output_type": "error",
     "traceback": [
      "\u001b[1;31m---------------------------------------------------------------------------\u001b[0m",
      "\u001b[1;31mNameError\u001b[0m                                 Traceback (most recent call last)",
      "Input \u001b[1;32mIn [44]\u001b[0m, in \u001b[0;36m<cell line: 1>\u001b[1;34m()\u001b[0m\n\u001b[1;32m----> 1\u001b[0m robot_moves([\u001b[43mUP\u001b[49m , \u001b[38;5;241m5\u001b[39m,\n\u001b[0;32m      2\u001b[0m DOWN , \u001b[38;5;241m3\u001b[39m,\n\u001b[0;32m      3\u001b[0m LEFT , \u001b[38;5;241m3\u001b[39m,\n\u001b[0;32m      4\u001b[0m RIGHT , \u001b[38;5;241m2\u001b[39m])\n",
      "\u001b[1;31mNameError\u001b[0m: name 'UP' is not defined"
     ]
    }
   ],
   "source": [
    "robot_moves([UP , 5,\n",
    "DOWN , 3,\n",
    "LEFT , 3,\n",
    "RIGHT , 2])"
   ]
  },
  {
   "cell_type": "markdown",
   "id": "65303165",
   "metadata": {},
   "source": [
    "# ----------------------------------------------------------------------------------------------------------"
   ]
  },
  {
   "cell_type": "markdown",
   "id": "90f5c9e6",
   "metadata": {},
   "source": [
    "Write a function up_low_counter() that accepts a string and calculates the number of upper case letters and lower case letters and returns them as a dictionary."
   ]
  },
  {
   "cell_type": "code",
   "execution_count": 63,
   "id": "173c8376",
   "metadata": {},
   "outputs": [],
   "source": [
    "def up_low_counter(a):\n",
    "    n = 0 \n",
    "    m = 0\n",
    "    for item in a:\n",
    "        if item == item.upper():\n",
    "            n += 1\n",
    "        elif item == item.lower():\n",
    "            m += 1\n",
    "    up_low = dict()\n",
    "    up_low['Upper_class'] = n\n",
    "    up_low['Lower_class'] = m\n",
    "    return up_low"
   ]
  },
  {
   "cell_type": "code",
   "execution_count": 64,
   "id": "46ca4cca",
   "metadata": {},
   "outputs": [
    {
     "data": {
      "text/plain": [
       "{'Upper_class': 2, 'Lower_class': 3}"
      ]
     },
     "execution_count": 64,
     "metadata": {},
     "output_type": "execute_result"
    }
   ],
   "source": [
    "up_low_counter('ZaHra')"
   ]
  },
  {
   "cell_type": "code",
   "execution_count": 65,
   "id": "14a20905",
   "metadata": {},
   "outputs": [],
   "source": [
    "def up_low_counter(sentence):\n",
    "    res = dict()\n",
    "    for letter in sentence:\n",
    "        if letter.isupper():\n",
    "            res[\"UPPER CASE\"] = res.get(\"UPPER CASE\", 0) + 1\n",
    "        elif letter.islower():\n",
    "            res[\"LOWER CASE\"] = res.get(\"LOWER CASE\", 0) + 1\n",
    "    return res"
   ]
  },
  {
   "cell_type": "code",
   "execution_count": 66,
   "id": "b5a4ee9b",
   "metadata": {},
   "outputs": [
    {
     "data": {
      "text/plain": [
       "{'UPPER CASE': 2, 'LOWER CASE': 3}"
      ]
     },
     "execution_count": 66,
     "metadata": {},
     "output_type": "execute_result"
    }
   ],
   "source": [
    "up_low_counter('ZaHra')"
   ]
  },
  {
   "cell_type": "code",
   "execution_count": 67,
   "id": "1749b4f1",
   "metadata": {},
   "outputs": [
    {
     "data": {
      "text/plain": [
       "0"
      ]
     },
     "execution_count": 67,
     "metadata": {},
     "output_type": "execute_result"
    }
   ],
   "source": [
    "res = dict()\n",
    "res.get(\"UPPER CASE\", 0)"
   ]
  },
  {
   "cell_type": "code",
   "execution_count": 69,
   "id": "ce3e7702",
   "metadata": {},
   "outputs": [
    {
     "ename": "NameError",
     "evalue": "name 'get' is not defined",
     "output_type": "error",
     "traceback": [
      "\u001b[1;31m---------------------------------------------------------------------------\u001b[0m",
      "\u001b[1;31mNameError\u001b[0m                                 Traceback (most recent call last)",
      "Input \u001b[1;32mIn [69]\u001b[0m, in \u001b[0;36m<cell line: 1>\u001b[1;34m()\u001b[0m\n\u001b[1;32m----> 1\u001b[0m \u001b[43mget\u001b[49m\u001b[38;5;241m.\u001b[39m\u001b[38;5;18m__doc__\u001b[39m\n",
      "\u001b[1;31mNameError\u001b[0m: name 'get' is not defined"
     ]
    }
   ],
   "source": [
    "get.__doc__"
   ]
  },
  {
   "cell_type": "code",
   "execution_count": 72,
   "id": "93f25e7d",
   "metadata": {},
   "outputs": [
    {
     "ename": "TypeError",
     "evalue": "can only concatenate str (not \"int\") to str",
     "output_type": "error",
     "traceback": [
      "\u001b[1;31m---------------------------------------------------------------------------\u001b[0m",
      "\u001b[1;31mTypeError\u001b[0m                                 Traceback (most recent call last)",
      "Input \u001b[1;32mIn [72]\u001b[0m, in \u001b[0;36m<cell line: 7>\u001b[1;34m()\u001b[0m\n\u001b[0;32m      1\u001b[0m car \u001b[38;5;241m=\u001b[39m {\n\u001b[0;32m      2\u001b[0m   \u001b[38;5;124m\"\u001b[39m\u001b[38;5;124mbrand\u001b[39m\u001b[38;5;124m\"\u001b[39m: \u001b[38;5;124m\"\u001b[39m\u001b[38;5;124mFord\u001b[39m\u001b[38;5;124m\"\u001b[39m,\n\u001b[0;32m      3\u001b[0m   \u001b[38;5;124m\"\u001b[39m\u001b[38;5;124mmodel\u001b[39m\u001b[38;5;124m\"\u001b[39m: \u001b[38;5;124m\"\u001b[39m\u001b[38;5;124mMustang\u001b[39m\u001b[38;5;124m\"\u001b[39m,\n\u001b[0;32m      4\u001b[0m   \u001b[38;5;124m\"\u001b[39m\u001b[38;5;124myear\u001b[39m\u001b[38;5;124m\"\u001b[39m: \u001b[38;5;241m1964\u001b[39m\n\u001b[0;32m      5\u001b[0m }\n\u001b[1;32m----> 7\u001b[0m x \u001b[38;5;241m=\u001b[39m \u001b[43mcar\u001b[49m\u001b[38;5;241;43m.\u001b[39;49m\u001b[43mget\u001b[49m\u001b[43m(\u001b[49m\u001b[38;5;124;43m\"\u001b[39;49m\u001b[38;5;124;43mmodel\u001b[39;49m\u001b[38;5;124;43m\"\u001b[39;49m\u001b[43m,\u001b[49m\u001b[43m \u001b[49m\u001b[38;5;241;43m0\u001b[39;49m\u001b[43m)\u001b[49m\u001b[43m \u001b[49m\u001b[38;5;241;43m+\u001b[39;49m\u001b[43m \u001b[49m\u001b[38;5;241;43m1\u001b[39;49m\n\u001b[0;32m      9\u001b[0m \u001b[38;5;28mprint\u001b[39m(x)\n",
      "\u001b[1;31mTypeError\u001b[0m: can only concatenate str (not \"int\") to str"
     ]
    }
   ],
   "source": [
    "car = {\n",
    "  \"brand\": \"Ford\",\n",
    "  \"model\": \"Mustang\",\n",
    "  \"year\": 1964\n",
    "}\n",
    "\n",
    "x = car.get(\"model\", 0) + 1\n",
    "\n",
    "print(x)"
   ]
  },
  {
   "cell_type": "code",
   "execution_count": 75,
   "id": "0932ad1e",
   "metadata": {},
   "outputs": [
    {
     "name": "stdout",
     "output_type": "stream",
     "text": [
      "15015\n"
     ]
    }
   ],
   "source": [
    "car = {\n",
    "  \"brand\": \"Ford\",\n",
    "  \"model\": \"Mustang\",\n",
    "  \"year\": 1964\n",
    "}\n",
    "\n",
    "x = car.get(\"price\", 15000) + 15\n",
    "\n",
    "print(x)"
   ]
  },
  {
   "cell_type": "markdown",
   "id": "afef8f8a",
   "metadata": {},
   "source": [
    "# ----------------------------------------------------------------------------------------------------------"
   ]
  },
  {
   "cell_type": "markdown",
   "id": "d2224e4e",
   "metadata": {},
   "source": [
    "Write function find_code() that takes a list of integers and returns True if it contains 007 in order."
   ]
  },
  {
   "cell_type": "code",
   "execution_count": 98,
   "id": "411e3fd9",
   "metadata": {},
   "outputs": [],
   "source": [
    "def find_code(a, /):\n",
    "    if a.count(0) >= 2:  \n",
    "        for indx, item in enumerate(a):\n",
    "            if indx[0] < indx [7]:\n",
    "                return True\n",
    "##how we can find whit index"
   ]
  },
  {
   "cell_type": "code",
   "execution_count": 99,
   "id": "fccffee8",
   "metadata": {},
   "outputs": [
    {
     "ename": "TypeError",
     "evalue": "'int' object is not subscriptable",
     "output_type": "error",
     "traceback": [
      "\u001b[1;31m---------------------------------------------------------------------------\u001b[0m",
      "\u001b[1;31mTypeError\u001b[0m                                 Traceback (most recent call last)",
      "Input \u001b[1;32mIn [99]\u001b[0m, in \u001b[0;36m<cell line: 1>\u001b[1;34m()\u001b[0m\n\u001b[1;32m----> 1\u001b[0m \u001b[43mfind_code\u001b[49m\u001b[43m(\u001b[49m\u001b[43m[\u001b[49m\u001b[38;5;241;43m0\u001b[39;49m\u001b[43m,\u001b[49m\u001b[38;5;241;43m0\u001b[39;49m\u001b[43m,\u001b[49m\u001b[38;5;241;43m7\u001b[39;49m\u001b[43m]\u001b[49m\u001b[43m)\u001b[49m\n",
      "Input \u001b[1;32mIn [98]\u001b[0m, in \u001b[0;36mfind_code\u001b[1;34m(a)\u001b[0m\n\u001b[0;32m      2\u001b[0m \u001b[38;5;28;01mif\u001b[39;00m a\u001b[38;5;241m.\u001b[39mcount(\u001b[38;5;241m0\u001b[39m) \u001b[38;5;241m>\u001b[39m\u001b[38;5;241m=\u001b[39m \u001b[38;5;241m2\u001b[39m:  \n\u001b[0;32m      3\u001b[0m     \u001b[38;5;28;01mfor\u001b[39;00m indx, item \u001b[38;5;129;01min\u001b[39;00m \u001b[38;5;28menumerate\u001b[39m(a):\n\u001b[1;32m----> 4\u001b[0m         \u001b[38;5;28;01mif\u001b[39;00m \u001b[43mindx\u001b[49m\u001b[43m[\u001b[49m\u001b[38;5;241;43m0\u001b[39;49m\u001b[43m]\u001b[49m \u001b[38;5;241m<\u001b[39m indx [\u001b[38;5;241m7\u001b[39m]:\n\u001b[0;32m      5\u001b[0m             \u001b[38;5;28;01mreturn\u001b[39;00m \u001b[38;5;28;01mTrue\u001b[39;00m\n",
      "\u001b[1;31mTypeError\u001b[0m: 'int' object is not subscriptable"
     ]
    }
   ],
   "source": [
    "find_code([0,0,7])"
   ]
  },
  {
   "cell_type": "code",
   "execution_count": 100,
   "id": "1cf99af8",
   "metadata": {},
   "outputs": [],
   "source": [
    "def find_code(a , /):\n",
    "    code = [0, 0 , 7 , '']\n",
    "    for item in a:\n",
    "        if item == code[0]:\n",
    "            code.remove(item)\n",
    "    return len(code) == 1"
   ]
  },
  {
   "cell_type": "code",
   "execution_count": 103,
   "id": "238e4376",
   "metadata": {},
   "outputs": [
    {
     "data": {
      "text/plain": [
       "True"
      ]
     },
     "execution_count": 103,
     "metadata": {},
     "output_type": "execute_result"
    }
   ],
   "source": [
    "find_code(  [1, 2, 4, 0, 0, 7, 5])"
   ]
  },
  {
   "cell_type": "markdown",
   "id": "2d7598bc",
   "metadata": {},
   "source": [
    "# ----------------------------------------------------------------------------------------------------------"
   ]
  },
  {
   "cell_type": "markdown",
   "id": "180022ee",
   "metadata": {},
   "source": [
    "On many websites, there are restrictions on usernames and passwords for more security.\n",
    "\n",
    "We want to write a function check_validation()  that receives a number of usernames and passwords and checks their validity based on rules and finally returns the list of usernames allowed to join. the followings are the rules:\n",
    "\n",
    "Username less than 4 characters is too short and is not allowed.\n",
    "for the security of users, the use of a password that is less than 6 characters or consists of only numbers is also not allowed.\n",
    "password must have at least one Uppercase character.\n",
    "Note: your function gets keyword arguments which keys are username and values are their password"
   ]
  },
  {
   "cell_type": "code",
   "execution_count": 156,
   "id": "c8e0ace1",
   "metadata": {},
   "outputs": [],
   "source": [
    "def check_validation(* , username, password):\n",
    "    security = {\n",
    "        'len password' : '>=6',\n",
    "        'password' : 'one Upper'\n",
    "    }\n",
    "    dic = dict()\n",
    "    if   len(password) <=6 or password.islower() == True :\n",
    "        print([f'your password not good pleaze raiat this:---> {key:10s}  {value:5}'for key, value in security.items()])\n",
    "    else:\n",
    "        dic[username] = password\n",
    "    return dic"
   ]
  },
  {
   "cell_type": "code",
   "execution_count": 157,
   "id": "42b6fa30",
   "metadata": {},
   "outputs": [
    {
     "data": {
      "text/plain": [
       "{'zahra': 'MaMamia'}"
      ]
     },
     "execution_count": 157,
     "metadata": {},
     "output_type": "execute_result"
    }
   ],
   "source": [
    "check_validation(username='zahra', password='MaMamia')"
   ]
  },
  {
   "cell_type": "markdown",
   "id": "0c6c8be0",
   "metadata": {},
   "source": [
    "# ----------------------------------------------------------------------------------------------------------"
   ]
  },
  {
   "cell_type": "markdown",
   "id": "362ee074",
   "metadata": {},
   "source": [
    "#Write a function student_grade() that get a student's name and Scores of different courses and return their average.\n",
    "Note: default value for student_name is Ali"
   ]
  },
  {
   "cell_type": "code",
   "execution_count": 159,
   "id": "3c850307",
   "metadata": {},
   "outputs": [
    {
     "ename": "SyntaxError",
     "evalue": "invalid syntax (3218923635.py, line 1)",
     "output_type": "error",
     "traceback": [
      "\u001b[1;36m  Input \u001b[1;32mIn [159]\u001b[1;36m\u001b[0m\n\u001b[1;33m    def student_grade(**args, *, student_name='Ali'):\u001b[0m\n\u001b[1;37m                              ^\u001b[0m\n\u001b[1;31mSyntaxError\u001b[0m\u001b[1;31m:\u001b[0m invalid syntax\n"
     ]
    }
   ],
   "source": [
    "def student_grade(**args, *, student_name='Ali'):\n",
    "    average = sum(args) / len(args)\n",
    "    return average"
   ]
  },
  {
   "cell_type": "markdown",
   "id": "a5a38c1f",
   "metadata": {},
   "source": [
    "# ----------------------------------------------------------------------------------------------------------"
   ]
  },
  {
   "cell_type": "markdown",
   "id": "5d305f74",
   "metadata": {},
   "source": [
    "Write a function char_freq() that takes a string and counts the number of times each character is repeated in it. and return the dictionary with the letters as its key.\n",
    "\n",
    "\n",
    "Note: Dictionary keys should be placed in alphabetical order.\n",
    "\n",
    "Example:"
   ]
  },
  {
   "cell_type": "code",
   "execution_count": 184,
   "id": "8a600374",
   "metadata": {},
   "outputs": [],
   "source": [
    "def char_freq(string):\n",
    "    dic = dict()\n",
    "    for name in set(string):\n",
    "        dic[name] = string.count(name)\n",
    "    return dict(sorted(dic.items()))"
   ]
  },
  {
   "cell_type": "code",
   "execution_count": 185,
   "id": "f71027a7",
   "metadata": {},
   "outputs": [
    {
     "data": {
      "text/plain": [
       "{'a': 3, 'd': 2, 'f': 2, 'h': 4, 'j': 2, 'k': 4, 's': 1, 'z': 1}"
      ]
     },
     "execution_count": 185,
     "metadata": {},
     "output_type": "execute_result"
    }
   ],
   "source": [
    "char_freq('zahfdkjahjkhakshkfd')"
   ]
  },
  {
   "cell_type": "markdown",
   "id": "45ae7d00",
   "metadata": {},
   "source": [
    "# ----------------------------------------------------------------------------------------------------------"
   ]
  },
  {
   "cell_type": "markdown",
   "id": "2ed3284b",
   "metadata": {},
   "source": [
    "Define  function is_palindrome() that recognizes palindromes (i.e. words that look the same written backward). For example, is_palindrome(\"radar\") should return True"
   ]
  },
  {
   "cell_type": "code",
   "execution_count": 190,
   "id": "8aedc5b7",
   "metadata": {},
   "outputs": [],
   "source": [
    "def  is_palindrome(a):\n",
    "    if a == a[::-1]:\n",
    "        return True\n",
    "    else:\n",
    "        return False"
   ]
  },
  {
   "cell_type": "code",
   "execution_count": 191,
   "id": "c395f39c",
   "metadata": {},
   "outputs": [
    {
     "data": {
      "text/plain": [
       "False"
      ]
     },
     "execution_count": 191,
     "metadata": {},
     "output_type": "execute_result"
    }
   ],
   "source": [
    "is_palindrome('rad')"
   ]
  },
  {
   "cell_type": "markdown",
   "id": "b02addf8",
   "metadata": {},
   "source": [
    "# ----------------------------------------------------------------------------------------------------------"
   ]
  },
  {
   "cell_type": "code",
   "execution_count": null,
   "id": "d2b8e05f",
   "metadata": {},
   "outputs": [],
   "source": []
  }
 ],
 "metadata": {
  "kernelspec": {
   "display_name": "Python 3 (ipykernel)",
   "language": "python",
   "name": "python3"
  },
  "language_info": {
   "codemirror_mode": {
    "name": "ipython",
    "version": 3
   },
   "file_extension": ".py",
   "mimetype": "text/x-python",
   "name": "python",
   "nbconvert_exporter": "python",
   "pygments_lexer": "ipython3",
   "version": "3.10.7"
  }
 },
 "nbformat": 4,
 "nbformat_minor": 5
}
