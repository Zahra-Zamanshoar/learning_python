{
 "cells": [
  {
   "cell_type": "code",
   "execution_count": 1,
   "id": "9680d212",
   "metadata": {},
   "outputs": [],
   "source": [
    "import os"
   ]
  },
  {
   "cell_type": "code",
   "execution_count": 7,
   "id": "50f8b498",
   "metadata": {},
   "outputs": [
    {
     "data": {
      "text/plain": [
       "{'iran': 4, 'spain': 5, 'marakesh': 3, 'porteghal': 4}"
      ]
     },
     "execution_count": 7,
     "metadata": {},
     "output_type": "execute_result"
    }
   ],
   "source": [
    "count = dict()\n",
    "i = 0\n",
    "with open('groh_B') as file:\n",
    "        deta = file.readlines()\n",
    "        for item in deta:\n",
    "            item = item.strip()\n",
    "            clean = item.split('-')\n",
    "            with open('Score') as file_:\n",
    "                data = file_.readlines()\n",
    "                clean_ = res(data)\n",
    "                clean_dt = clean_[i].split('-')\n",
    "                if clean_dt[0] == clean_dt[1]:\n",
    "                    count[clean[0]] = count.get(clean[0], 0) +1\n",
    "                    count[clean[1]] = count.get(clean[1], 0) +1\n",
    "                    i += 1\n",
    "                elif clean_dt[0] > clean_dt[1]:\n",
    "                    count[clean[0]] = count.get(clean[0], 0) +3\n",
    "                    i += 1\n",
    "                elif clean_dt[0] < clean_dt[1]:\n",
    "                    count[clean[1]] = count.get(clean[1], 0) +3\n",
    "                    i += 1\n",
    "count"
   ]
  },
  {
   "cell_type": "code",
   "execution_count": null,
   "id": "57841e76",
   "metadata": {},
   "outputs": [],
   "source": []
  }
 ],
 "metadata": {
  "kernelspec": {
   "display_name": "Python 3 (ipykernel)",
   "language": "python",
   "name": "python3"
  },
  "language_info": {
   "codemirror_mode": {
    "name": "ipython",
    "version": 3
   },
   "file_extension": ".py",
   "mimetype": "text/x-python",
   "name": "python",
   "nbconvert_exporter": "python",
   "pygments_lexer": "ipython3",
   "version": "3.10.7"
  }
 },
 "nbformat": 4,
 "nbformat_minor": 5
}
