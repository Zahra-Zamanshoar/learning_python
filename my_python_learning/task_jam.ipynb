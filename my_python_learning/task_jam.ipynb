{
 "cells": [
  {
   "cell_type": "markdown",
   "id": "2ea07c69",
   "metadata": {},
   "source": []
  },
  {
   "cell_type": "code",
   "execution_count": 2,
   "id": "9680d212",
   "metadata": {},
   "outputs": [],
   "source": [
    "import os"
   ]
  },
  {
   "cell_type": "code",
   "execution_count": 38,
   "id": "d89c4db5",
   "metadata": {},
   "outputs": [
    {
     "name": "stdout",
     "output_type": "stream",
     "text": [
      "['spain-iran\\n', 'porteghal-iran\\n', 'marakesh-iran\\n', 'porteghal-spain\\n', 'marakesh-spain\\n', 'marakesh-porteghal\\n']\n"
     ]
    }
   ],
   "source": [
    "dic = dict()\n",
    "with open('groh_B') as file:\n",
    "    deta = file.readlines()\n",
    "    print(deta)\n",
    "#     for item in deta:\n",
    "#         clean_item = item.split('-')\n",
    "#         clean = res(clean_item)\n",
    "#         print(clean[0],clean[1])\n",
    "#         print(clean)\n",
    "        "
   ]
  },
  {
   "cell_type": "code",
   "execution_count": 12,
   "id": "7a842e7c",
   "metadata": {},
   "outputs": [
    {
     "name": "stdout",
     "output_type": "stream",
     "text": [
      "2-2\n",
      "\n",
      "2-1\n",
      "\n",
      "1-2\n",
      "\n",
      "2-2\n",
      "\n",
      "3-1\n",
      "\n",
      "2-1\n",
      "2-2\n",
      "\n"
     ]
    }
   ],
   "source": [
    "# def scor(score = 'Score'):\n",
    "with open('Score') as file:\n",
    "    data = file.readlines()\n",
    "    for dt in data:\n",
    "#             clean_dt = dt.split('-')\n",
    "#             clean = res(clean_dt)\n",
    "#             return clean\n",
    "#             print()\n",
    "#             if clean[0] == clean[1]:\n",
    "#                 print('equal')\n",
    "#                 return 'equal'\n",
    "#             if clean[0] > clean[1]:\n",
    "#                 print('higher')\n",
    "#                 return 'higher'\n",
    "#             if clean[0] < clean[1]:\n",
    "#                 print('lower')\n",
    "#                 return 'lower'\n",
    "scor()"
   ]
  },
  {
   "cell_type": "code",
   "execution_count": 39,
   "id": "5f8a5cd6",
   "metadata": {},
   "outputs": [],
   "source": [
    "count = dict()\n",
    "with open('groh_B') as file:\n",
    "    deta = file.readlines()\n",
    "    for item in deta:\n",
    "        clean_item = item.split('-')\n",
    "        clean = res(clean_item)\n",
    "        with open('Score') as file:\n",
    "            data = file.readlines()\n",
    "            for dt in data:\n",
    "                clean_dt = dt.split('-')\n",
    "                clean_dt = res(clean_dt)\n",
    "                if clean_dt[0] == clean_dt[1]:\n",
    "                    count[clean[0]] = count.get(clean[0], 0) +1\n",
    "                    count[clean[1]] = count.get(clean[1], 0) +1\n",
    "                    break\n",
    "                if clean_dt[0] > clean_dt[1]:\n",
    "                    count[clean[0]] = count.get(clean[0], 0) +3\n",
    "                if clean_dt[0] < clean_dt[1]:\n",
    "                    count[clean[1]] = count.get(clean[1], 0) +3\n",
    "                \n",
    "                   \n"
   ]
  },
  {
   "cell_type": "code",
   "execution_count": 2,
   "id": "02ed97de",
   "metadata": {},
   "outputs": [],
   "source": [
    "import re\n",
    " \n",
    "def res(lis):\n",
    "\n",
    "    # Removing newline character from string\n",
    "    # Using regex\n",
    "    res = []\n",
    "    for sub in lis:\n",
    "        res.append(re.sub('\\n', '', sub))\n",
    "    return res"
   ]
  },
  {
   "cell_type": "code",
   "execution_count": null,
   "id": "085615f6",
   "metadata": {},
   "outputs": [],
   "source": []
  }
 ],
 "metadata": {
  "kernelspec": {
   "display_name": "Python 3 (ipykernel)",
   "language": "python",
   "name": "python3"
  },
  "language_info": {
   "codemirror_mode": {
    "name": "ipython",
    "version": 3
   },
   "file_extension": ".py",
   "mimetype": "text/x-python",
   "name": "python",
   "nbconvert_exporter": "python",
   "pygments_lexer": "ipython3",
   "version": "3.10.7"
  }
 },
 "nbformat": 4,
 "nbformat_minor": 5
}
