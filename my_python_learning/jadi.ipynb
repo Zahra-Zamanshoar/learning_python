{
 "cells": [
  {
   "cell_type": "markdown",
   "id": "31db6993",
   "metadata": {},
   "source": [
    "### Lambda"
   ]
  },
  {
   "cell_type": "code",
   "execution_count": 1,
   "id": "a4cc9303",
   "metadata": {},
   "outputs": [],
   "source": [
    "lst = [(1, 3), (3, 5), (2, 2)]"
   ]
  },
  {
   "cell_type": "code",
   "execution_count": 2,
   "id": "9a6fa34e",
   "metadata": {},
   "outputs": [],
   "source": [
    "lst.sort()"
   ]
  },
  {
   "cell_type": "code",
   "execution_count": 3,
   "id": "c0e03c68",
   "metadata": {},
   "outputs": [
    {
     "data": {
      "text/plain": [
       "[(1, 3), (2, 2), (3, 5)]"
      ]
     },
     "execution_count": 3,
     "metadata": {},
     "output_type": "execute_result"
    }
   ],
   "source": [
    "lst"
   ]
  },
  {
   "cell_type": "code",
   "execution_count": 4,
   "id": "ce8541a8",
   "metadata": {},
   "outputs": [
    {
     "data": {
      "text/plain": [
       "[(2, 2), (1, 3), (3, 5)]"
      ]
     },
     "execution_count": 4,
     "metadata": {},
     "output_type": "execute_result"
    }
   ],
   "source": [
    "lst.sort(key= lambda x: x[1])\n",
    "lst"
   ]
  },
  {
   "cell_type": "code",
   "execution_count": 6,
   "id": "9cf9a362",
   "metadata": {},
   "outputs": [],
   "source": [
    "lst_1 = [1, 2, 3, 4, 5, 6, 7, 8, 9 ]"
   ]
  },
  {
   "cell_type": "markdown",
   "id": "f4e0f055",
   "metadata": {},
   "source": [
    "### Map"
   ]
  },
  {
   "cell_type": "code",
   "execution_count": 8,
   "id": "a2c2bad2",
   "metadata": {},
   "outputs": [
    {
     "data": {
      "text/plain": [
       "['small', 'small', 'big', 'big', 'big', 'big', 'big', 'big', 'big']"
      ]
     },
     "execution_count": 8,
     "metadata": {},
     "output_type": "execute_result"
    }
   ],
   "source": [
    "list(map(lambda x: 'big' if x > 2 else 'small', lst_1))"
   ]
  },
  {
   "cell_type": "markdown",
   "id": "c61b182d",
   "metadata": {},
   "source": [
    "### Filter"
   ]
  },
  {
   "cell_type": "code",
   "execution_count": 11,
   "id": "7e129ed6",
   "metadata": {},
   "outputs": [
    {
     "data": {
      "text/plain": [
       "[1, 3, 5, 7]"
      ]
     },
     "execution_count": 11,
     "metadata": {},
     "output_type": "execute_result"
    }
   ],
   "source": [
    "mylist = [1, 3, 5, 6, 7, 8, 10]\n",
    "list(filter(lambda x: x % 2 == 1, mylist))"
   ]
  },
  {
   "cell_type": "markdown",
   "id": "c23da5ac",
   "metadata": {},
   "source": [
    "### generator\n"
   ]
  },
  {
   "cell_type": "code",
   "execution_count": 15,
   "id": "b8cf0284",
   "metadata": {},
   "outputs": [],
   "source": [
    "def firstn(n):\n",
    "    item = 0\n",
    "    while item <= n:\n",
    "        yield item\n",
    "        item += 1"
   ]
  },
  {
   "cell_type": "code",
   "execution_count": 18,
   "id": "91ad6ba3",
   "metadata": {},
   "outputs": [
    {
     "name": "stdout",
     "output_type": "stream",
     "text": [
      "0\n",
      "1\n",
      "2\n",
      "3\n",
      "4\n",
      "5\n",
      "6\n"
     ]
    }
   ],
   "source": [
    "for item in firstn(6):\n",
    "    print (item)"
   ]
  },
  {
   "cell_type": "code",
   "execution_count": 8,
   "id": "f5f7e7cb",
   "metadata": {},
   "outputs": [
    {
     "name": "stdout",
     "output_type": "stream",
     "text": [
      "<generator object firstn at 0x000001D6E5395E00>\n"
     ]
    }
   ],
   "source": [
    "a = firstn()\n",
    "print(a)"
   ]
  },
  {
   "cell_type": "code",
   "execution_count": 11,
   "id": "250d528e",
   "metadata": {},
   "outputs": [
    {
     "data": {
      "text/plain": [
       "3"
      ]
     },
     "execution_count": 11,
     "metadata": {},
     "output_type": "execute_result"
    }
   ],
   "source": [
    "next(a)"
   ]
  },
  {
   "cell_type": "markdown",
   "id": "c246c238",
   "metadata": {},
   "source": [
    "### OOP\n"
   ]
  },
  {
   "cell_type": "code",
   "execution_count": 46,
   "id": "44c9e3f3",
   "metadata": {},
   "outputs": [],
   "source": [
    "class Person:\n",
    "    count = 0 \n",
    "    def __init__(self, name, age):\n",
    "        self.name = name\n",
    "        self.age = age\n",
    "        Person.count =+ 1\n",
    "    def get_name(self):\n",
    "        print(f'name is {self.name}')\n",
    "    def agee(self):\n",
    "        print(f'name is {self.age}')\n",
    "    def _count(self):\n",
    "        print(f'count is {Person.count}')"
   ]
  },
  {
   "cell_type": "code",
   "execution_count": 47,
   "id": "d819de3e",
   "metadata": {},
   "outputs": [
    {
     "data": {
      "text/plain": [
       "<__main__.Person at 0x27a3a86ca00>"
      ]
     },
     "execution_count": 47,
     "metadata": {},
     "output_type": "execute_result"
    }
   ],
   "source": [
    "zahra = Person('zahra', 21)\n",
    "zahra"
   ]
  },
  {
   "cell_type": "code",
   "execution_count": 48,
   "id": "6f8c9850",
   "metadata": {},
   "outputs": [
    {
     "name": "stdout",
     "output_type": "stream",
     "text": [
      "name is zahra\n"
     ]
    }
   ],
   "source": [
    "zahra.get_name()"
   ]
  },
  {
   "cell_type": "code",
   "execution_count": 49,
   "id": "3da90710",
   "metadata": {},
   "outputs": [
    {
     "name": "stdout",
     "output_type": "stream",
     "text": [
      "name is 21\n"
     ]
    }
   ],
   "source": [
    "zahra.agee()"
   ]
  },
  {
   "cell_type": "code",
   "execution_count": 50,
   "id": "023ce449",
   "metadata": {},
   "outputs": [
    {
     "name": "stdout",
     "output_type": "stream",
     "text": [
      "count is 1\n"
     ]
    }
   ],
   "source": [
    "zahra._count()"
   ]
  },
  {
   "cell_type": "code",
   "execution_count": null,
   "id": "df174737",
   "metadata": {},
   "outputs": [],
   "source": []
  }
 ],
 "metadata": {
  "kernelspec": {
   "display_name": "Python 3 (ipykernel)",
   "language": "python",
   "name": "python3"
  },
  "language_info": {
   "codemirror_mode": {
    "name": "ipython",
    "version": 3
   },
   "file_extension": ".py",
   "mimetype": "text/x-python",
   "name": "python",
   "nbconvert_exporter": "python",
   "pygments_lexer": "ipython3",
   "version": "3.10.7"
  }
 },
 "nbformat": 4,
 "nbformat_minor": 5
}
