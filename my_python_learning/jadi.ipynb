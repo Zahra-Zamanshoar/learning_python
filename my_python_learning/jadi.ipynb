{
 "cells": [
  {
   "cell_type": "markdown",
   "id": "31db6993",
   "metadata": {},
   "source": [
    "### Lambda"
   ]
  },
  {
   "cell_type": "code",
   "execution_count": 1,
   "id": "a4cc9303",
   "metadata": {},
   "outputs": [],
   "source": [
    "lst = [(1, 3), (3, 5), (2, 2)]"
   ]
  },
  {
   "cell_type": "code",
   "execution_count": 2,
   "id": "9a6fa34e",
   "metadata": {},
   "outputs": [],
   "source": [
    "lst.sort()"
   ]
  },
  {
   "cell_type": "code",
   "execution_count": 3,
   "id": "c0e03c68",
   "metadata": {},
   "outputs": [
    {
     "data": {
      "text/plain": [
       "[(1, 3), (2, 2), (3, 5)]"
      ]
     },
     "execution_count": 3,
     "metadata": {},
     "output_type": "execute_result"
    }
   ],
   "source": [
    "lst"
   ]
  },
  {
   "cell_type": "code",
   "execution_count": 4,
   "id": "ce8541a8",
   "metadata": {},
   "outputs": [
    {
     "data": {
      "text/plain": [
       "[(2, 2), (1, 3), (3, 5)]"
      ]
     },
     "execution_count": 4,
     "metadata": {},
     "output_type": "execute_result"
    }
   ],
   "source": [
    "lst.sort(key= lambda x: x[1])\n",
    "lst"
   ]
  },
  {
   "cell_type": "code",
   "execution_count": 6,
   "id": "9cf9a362",
   "metadata": {},
   "outputs": [],
   "source": [
    "lst_1 = [1, 2, 3, 4, 5, 6, 7, 8, 9 ]"
   ]
  },
  {
   "cell_type": "markdown",
   "id": "f4e0f055",
   "metadata": {},
   "source": [
    "### Map"
   ]
  },
  {
   "cell_type": "code",
   "execution_count": 8,
   "id": "a2c2bad2",
   "metadata": {},
   "outputs": [
    {
     "data": {
      "text/plain": [
       "['small', 'small', 'big', 'big', 'big', 'big', 'big', 'big', 'big']"
      ]
     },
     "execution_count": 8,
     "metadata": {},
     "output_type": "execute_result"
    }
   ],
   "source": [
    "list(map(lambda x: 'big' if x > 2 else 'small', lst_1))"
   ]
  },
  {
   "cell_type": "markdown",
   "id": "c61b182d",
   "metadata": {},
   "source": [
    "### Filter"
   ]
  },
  {
   "cell_type": "code",
   "execution_count": 11,
   "id": "7e129ed6",
   "metadata": {},
   "outputs": [
    {
     "data": {
      "text/plain": [
       "[1, 3, 5, 7]"
      ]
     },
     "execution_count": 11,
     "metadata": {},
     "output_type": "execute_result"
    }
   ],
   "source": [
    "mylist = [1, 3, 5, 6, 7, 8, 10]\n",
    "list(filter(lambda x: x % 2 == 1, mylist))"
   ]
  },
  {
   "cell_type": "markdown",
   "id": "c23da5ac",
   "metadata": {},
   "source": [
    "### generator\n"
   ]
  },
  {
   "cell_type": "code",
   "execution_count": 15,
   "id": "b8cf0284",
   "metadata": {},
   "outputs": [],
   "source": [
    "def firstn(n):\n",
    "    item = 0\n",
    "    while item <= n:\n",
    "        yield item\n",
    "        item += 1"
   ]
  },
  {
   "cell_type": "code",
   "execution_count": 18,
   "id": "91ad6ba3",
   "metadata": {},
   "outputs": [
    {
     "name": "stdout",
     "output_type": "stream",
     "text": [
      "0\n",
      "1\n",
      "2\n",
      "3\n",
      "4\n",
      "5\n",
      "6\n"
     ]
    }
   ],
   "source": [
    "for item in firstn(6):\n",
    "    print (item)"
   ]
  },
  {
   "cell_type": "code",
   "execution_count": 8,
   "id": "f5f7e7cb",
   "metadata": {},
   "outputs": [
    {
     "name": "stdout",
     "output_type": "stream",
     "text": [
      "<generator object firstn at 0x000001D6E5395E00>\n"
     ]
    }
   ],
   "source": [
    "a = firstn()\n",
    "print(a)"
   ]
  },
  {
   "cell_type": "code",
   "execution_count": 11,
   "id": "250d528e",
   "metadata": {},
   "outputs": [
    {
     "data": {
      "text/plain": [
       "3"
      ]
     },
     "execution_count": 11,
     "metadata": {},
     "output_type": "execute_result"
    }
   ],
   "source": [
    "next(a)"
   ]
  },
  {
   "cell_type": "markdown",
   "id": "c246c238",
   "metadata": {},
   "source": [
    "### OOP\n"
   ]
  },
  {
   "cell_type": "code",
   "execution_count": 46,
   "id": "44c9e3f3",
   "metadata": {},
   "outputs": [],
   "source": [
    "class Person:\n",
    "    count = 0 \n",
    "    def __init__(self, name, age):\n",
    "        self.name = name\n",
    "        self.age = age\n",
    "        Person.count =+ 1\n",
    "    def get_name(self):\n",
    "        print(f'name is {self.name}')\n",
    "    def agee(self):\n",
    "        print(f'name is {self.age}')\n",
    "    def _count(self):\n",
    "        print(f'count is {Person.count}')"
   ]
  },
  {
   "cell_type": "code",
   "execution_count": 47,
   "id": "d819de3e",
   "metadata": {},
   "outputs": [
    {
     "data": {
      "text/plain": [
       "<__main__.Person at 0x27a3a86ca00>"
      ]
     },
     "execution_count": 47,
     "metadata": {},
     "output_type": "execute_result"
    }
   ],
   "source": [
    "zahra = Person('zahra', 21)\n",
    "zahra"
   ]
  },
  {
   "cell_type": "code",
   "execution_count": 48,
   "id": "6f8c9850",
   "metadata": {},
   "outputs": [
    {
     "name": "stdout",
     "output_type": "stream",
     "text": [
      "name is zahra\n"
     ]
    }
   ],
   "source": [
    "zahra.get_name()"
   ]
  },
  {
   "cell_type": "code",
   "execution_count": 49,
   "id": "3da90710",
   "metadata": {},
   "outputs": [
    {
     "name": "stdout",
     "output_type": "stream",
     "text": [
      "name is 21\n"
     ]
    }
   ],
   "source": [
    "zahra.agee()"
   ]
  },
  {
   "cell_type": "code",
   "execution_count": 50,
   "id": "023ce449",
   "metadata": {},
   "outputs": [
    {
     "name": "stdout",
     "output_type": "stream",
     "text": [
      "count is 1\n"
     ]
    }
   ],
   "source": [
    "zahra._count()"
   ]
  },
  {
   "cell_type": "code",
   "execution_count": 18,
   "id": "df174737",
   "metadata": {},
   "outputs": [],
   "source": [
    "class Computer:\n",
    "    count = 0 \n",
    "    def __init__ (self, hard, cpu, ram):\n",
    "        self.ram = ram \n",
    "        self.hard = hard\n",
    "        self.cpu = cpu\n",
    "        Computer.count += 1\n",
    "    def value(self):\n",
    "        return self.ram + self.hard + self.cpu\n",
    "    def _count(self):\n",
    "        return Computer.count\n",
    "class Laptop(Computer):\n",
    "    def value(self):\n",
    "        return self.ram + self.hard + self.cpu + self.siz"
   ]
  },
  {
   "cell_type": "code",
   "execution_count": 19,
   "id": "98dc59e0",
   "metadata": {},
   "outputs": [
    {
     "data": {
      "text/plain": [
       "25"
      ]
     },
     "execution_count": 19,
     "metadata": {},
     "output_type": "execute_result"
    }
   ],
   "source": [
    "pc1 = Computer(10, 12, 3)\n",
    "pc1.value()"
   ]
  },
  {
   "cell_type": "code",
   "execution_count": 20,
   "id": "360b3977",
   "metadata": {},
   "outputs": [
    {
     "data": {
      "text/plain": [
       "29"
      ]
     },
     "execution_count": 20,
     "metadata": {},
     "output_type": "execute_result"
    }
   ],
   "source": [
    "pc2 = Computer(15, 8, 6)\n",
    "pc2.value()"
   ]
  },
  {
   "cell_type": "code",
   "execution_count": 21,
   "id": "2da1e5e7",
   "metadata": {},
   "outputs": [
    {
     "data": {
      "text/plain": [
       "2"
      ]
     },
     "execution_count": 21,
     "metadata": {},
     "output_type": "execute_result"
    }
   ],
   "source": [
    "pc2._count()"
   ]
  },
  {
   "cell_type": "code",
   "execution_count": 28,
   "id": "8760f2f1",
   "metadata": {},
   "outputs": [
    {
     "ename": "TypeError",
     "evalue": "Laptop.value() takes 1 positional argument but 2 were given",
     "output_type": "error",
     "traceback": [
      "\u001b[1;31m---------------------------------------------------------------------------\u001b[0m",
      "\u001b[1;31mTypeError\u001b[0m                                 Traceback (most recent call last)",
      "Input \u001b[1;32mIn [28]\u001b[0m, in \u001b[0;36m<cell line: 2>\u001b[1;34m()\u001b[0m\n\u001b[0;32m      1\u001b[0m laptop1 \u001b[38;5;241m=\u001b[39m Laptop(\u001b[38;5;241m15\u001b[39m, \u001b[38;5;241m8\u001b[39m, \u001b[38;5;241m6\u001b[39m)\n\u001b[1;32m----> 2\u001b[0m \u001b[43mlaptop1\u001b[49m\u001b[38;5;241;43m.\u001b[39;49m\u001b[43mvalue\u001b[49m\u001b[43m(\u001b[49m\u001b[38;5;241;43m7\u001b[39;49m\u001b[43m)\u001b[49m\n",
      "\u001b[1;31mTypeError\u001b[0m: Laptop.value() takes 1 positional argument but 2 were given"
     ]
    }
   ],
   "source": [
    "laptop1 = Laptop(15, 8, 6)\n",
    "laptop1.value()"
   ]
  },
  {
   "cell_type": "code",
   "execution_count": 23,
   "id": "98e6a03e",
   "metadata": {},
   "outputs": [
    {
     "data": {
      "text/plain": [
       "43"
      ]
     },
     "execution_count": 23,
     "metadata": {},
     "output_type": "execute_result"
    }
   ],
   "source": [
    "laptop1.siz = 14\n",
    "laptop1.value()"
   ]
  },
  {
   "cell_type": "code",
   "execution_count": 29,
   "id": "659bc21a",
   "metadata": {},
   "outputs": [
    {
     "name": "stdout",
     "output_type": "stream",
     "text": [
      "<filter object at 0x000001A92C177640>\n"
     ]
    }
   ],
   "source": [
    "mylist = [2,15,26,8,11,14,17,102,44]\n",
    "map_list = list(map(lambda x:x%10,mylist))\n",
    "filter_list = filter(lambda x: x<=4,map_list)\n",
    "print(filter_list)"
   ]
  },
  {
   "cell_type": "code",
   "execution_count": 30,
   "id": "11cefbda",
   "metadata": {},
   "outputs": [
    {
     "name": "stdout",
     "output_type": "stream",
     "text": [
      "Student name is Hossein\n",
      "The Average is 15\n"
     ]
    }
   ],
   "source": [
    "class university:\n",
    "    def __init__(student, name, number_of_grade, grade1, grade2, grade3):\n",
    "        student.name = name\n",
    "        student.number_of_grade = number_of_grade\n",
    "        student.grade1 = grade1\n",
    "        student.grade2 = grade2\n",
    "        student.grade3 = grade3\n",
    "\n",
    "    def get_name(student):\n",
    "        print(\"Student name is %s\" % student.name)\n",
    "        \n",
    "    def get_grades(student):\n",
    "        total_grade = student.grade1+student.grade2+student.grade3\n",
    "        average = total_grade/student.number_of_grade\n",
    "        print (\"The Average is %i\" % average)\n",
    "\n",
    "Information = university(\"Hossein\",3,16,12,18)\n",
    "Information.get_name()\n",
    "Information.get_grades()"
   ]
  },
  {
   "cell_type": "code",
   "execution_count": 31,
   "id": "71e59e8e",
   "metadata": {},
   "outputs": [
    {
     "data": {
      "text/plain": [
       "46"
      ]
     },
     "execution_count": 31,
     "metadata": {},
     "output_type": "execute_result"
    }
   ],
   "source": [
    "16+12+18"
   ]
  },
  {
   "cell_type": "code",
   "execution_count": 32,
   "id": "1cc4e5b6",
   "metadata": {},
   "outputs": [
    {
     "data": {
      "text/plain": [
       "15.333333333333334"
      ]
     },
     "execution_count": 32,
     "metadata": {},
     "output_type": "execute_result"
    }
   ],
   "source": [
    "46/3"
   ]
  },
  {
   "cell_type": "code",
   "execution_count": 45,
   "id": "edda086c",
   "metadata": {},
   "outputs": [
    {
     "name": "stdout",
     "output_type": "stream",
     "text": [
      "my name is maktabkhooneh and my age is 7\n"
     ]
    }
   ],
   "source": [
    "class Maktabkhooneh:\n",
    "\n",
    "    def __init__(self, name, age):\n",
    "\n",
    "        self.name = name\n",
    "\n",
    "        self.age = age\n",
    "\n",
    "    def get_name(self):\n",
    "\n",
    "        print (\"my name is %s and my age is %i\" % (self.name,self.age))\n",
    "\n",
    " \n",
    "\n",
    "Maktabkhooneh = Maktabkhooneh('maktabkhooneh',7)\n",
    "\n",
    "Maktabkhooneh.get_name()"
   ]
  },
  {
   "cell_type": "code",
   "execution_count": 44,
   "id": "2617dd50",
   "metadata": {},
   "outputs": [],
   "source": [
    "class maktabkhooneh:\n",
    "\n",
    "    def __init__(self, name, age):\n",
    "\n",
    "        self.name = name\n",
    "\n",
    "        self.age = age\n",
    "\n",
    "    def get_name(self):\n",
    "\n",
    "        print (\"my name is %s and my age is %i\" % (self.name,self.age))"
   ]
  },
  {
   "cell_type": "code",
   "execution_count": 41,
   "id": "9d936b48",
   "metadata": {},
   "outputs": [],
   "source": [
    "z = maktabkhooneh('z', 3)"
   ]
  },
  {
   "cell_type": "code",
   "execution_count": 46,
   "id": "26e7fdcf",
   "metadata": {},
   "outputs": [
    {
     "name": "stdout",
     "output_type": "stream",
     "text": [
      "AhmadMaster\n"
     ]
    }
   ],
   "source": [
    "class maktabkhooneh:\n",
    "    def __init__(self, name, grade, age):\n",
    "        self.name = name\n",
    "        self.grade = grade\n",
    "        self.age = age\n",
    "\n",
    "    def value(self):\n",
    "        return self.name + self.grade\n",
    "        \n",
    "person = maktabkhooneh(\"Ahmad\",\"Master\",24)\n",
    "print(person.value())"
   ]
  },
  {
   "cell_type": "code",
   "execution_count": 47,
   "id": "5cb39f59",
   "metadata": {},
   "outputs": [
    {
     "ename": "SyntaxError",
     "evalue": "expected ':' (3465674401.py, line 12)",
     "output_type": "error",
     "traceback": [
      "\u001b[1;36m  Input \u001b[1;32mIn [47]\u001b[1;36m\u001b[0m\n\u001b[1;33m    def turrn_on(self)\u001b[0m\n\u001b[1;37m                      ^\u001b[0m\n\u001b[1;31mSyntaxError\u001b[0m\u001b[1;31m:\u001b[0m expected ':'\n"
     ]
    }
   ],
   "source": [
    "class Device:\n",
    "    def __init__(self, mac, ip, name):\n",
    "        self.name = name\n",
    "        self.mac = mac\n",
    "        self.ip = ip\n",
    "        #result = ping the result \n",
    "        if result:\n",
    "            result.self = 'active'\n",
    "        else:\n",
    "            result.self = 'unknown'\n",
    "class TV(Device):\n",
    "    def turrn_on(self)"
   ]
  },
  {
   "cell_type": "code",
   "execution_count": 39,
   "id": "60c99a2d",
   "metadata": {},
   "outputs": [],
   "source": [
    "class Taghzieh:\n",
    "    l = []\n",
    "    def __init__(self, number, ghad):\n",
    "        self.number = number\n",
    "        self.ghad = ghad\n",
    "        l.append(self.ghad)\n",
    "    def average(self):  \n",
    "        if len(l) == self.number:\n",
    "            count = 0 \n",
    "            for item in l :\n",
    "                count += item\n",
    "            return  count/ self.number"
   ]
  },
  {
   "cell_type": "code",
   "execution_count": 49,
   "id": "55f583c3",
   "metadata": {},
   "outputs": [],
   "source": [
    "\n",
    "a = Taghzieh(6 , 7)"
   ]
  },
  {
   "cell_type": "code",
   "execution_count": 50,
   "id": "5d636264",
   "metadata": {},
   "outputs": [],
   "source": [
    "a.average()"
   ]
  },
  {
   "cell_type": "code",
   "execution_count": 20,
   "id": "282a4281",
   "metadata": {},
   "outputs": [
    {
     "data": {
      "text/plain": [
       "True"
      ]
     },
     "execution_count": 20,
     "metadata": {},
     "output_type": "execute_result"
    }
   ],
   "source": [
    " 2 != 3"
   ]
  },
  {
   "cell_type": "code",
   "execution_count": 38,
   "id": "27fd17ed",
   "metadata": {},
   "outputs": [],
   "source": [
    "class Device:\n",
    "    count = 0 \n",
    "    def __init__(self, ip, mac, name):\n",
    "        self.name = name \n",
    "        self.ip = ip \n",
    "        self.mac = mac \n",
    "        Device.counter += 1\n",
    "    def"
   ]
  },
  {
   "cell_type": "code",
   "execution_count": null,
   "id": "63fbb2ca",
   "metadata": {},
   "outputs": [],
   "source": [
    "class Taghzieh:\n",
    "    l = []\n",
    "    def __init__(self, number, ghad):\n",
    "        self.number = number\n",
    "        self.ghad = ghad\n",
    "        Taghzieh.l.append(self.ghad)\n",
    "    def average(self, l=None):  \n",
    "        if len(Taghzieh.l) == self.number:\n",
    "            count = 0 \n",
    "            for item in Taghzieh.l :\n",
    "                count += item\n",
    "            return  count/ self.number"
   ]
  },
  {
   "cell_type": "code",
   "execution_count": null,
   "id": "36ac2fb6",
   "metadata": {},
   "outputs": [],
   "source": [
    "lis = [1, 3, 4, 5, 6, 7, 8]\n",
    "for item in lis:\n",
    "    a = Taghzieh(6 , item)\n"
   ]
  },
  {
   "cell_type": "code",
   "execution_count": null,
   "id": "91abe55f",
   "metadata": {},
   "outputs": [],
   "source": [
    "a.average()"
   ]
  },
  {
   "cell_type": "code",
   "execution_count": null,
   "id": "033359bf",
   "metadata": {},
   "outputs": [],
   "source": []
  }
 ],
 "metadata": {
  "kernelspec": {
   "display_name": "Python 3 (ipykernel)",
   "language": "python",
   "name": "python3"
  },
  "language_info": {
   "codemirror_mode": {
    "name": "ipython",
    "version": 3
   },
   "file_extension": ".py",
   "mimetype": "text/x-python",
   "name": "python",
   "nbconvert_exporter": "python",
   "pygments_lexer": "ipython3",
   "version": "3.10.5"
  }
 },
 "nbformat": 4,
 "nbformat_minor": 5
}
