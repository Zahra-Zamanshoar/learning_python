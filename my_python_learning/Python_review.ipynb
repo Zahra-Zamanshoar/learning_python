{
 "cells": [
  {
   "cell_type": "markdown",
   "id": "8e0fb68c",
   "metadata": {},
   "source": [
    "# Python review"
   ]
  },
  {
   "cell_type": "markdown",
   "id": "c0925b2d",
   "metadata": {},
   "source": [
    "### list"
   ]
  },
  {
   "cell_type": "code",
   "execution_count": 5,
   "id": "33d85d75",
   "metadata": {},
   "outputs": [
    {
     "name": "stdout",
     "output_type": "stream",
     "text": [
      "1 6 78\n"
     ]
    }
   ],
   "source": [
    "# Use indexes and print the first, third, and last element of the list below.\n",
    "num_list = [1, 3, 6, 10, 15, 21, 28, 36, 45, 55, 66, 78]\n",
    "first_element = num_list[0] \n",
    "third_element = num_list[2] \n",
    "last_element = num_list[len(num_list)-1] \n",
    "print(first_element,third_element,last_element)"
   ]
  },
  {
   "cell_type": "code",
   "execution_count": 6,
   "id": "4bfc9140",
   "metadata": {},
   "outputs": [
    {
     "name": "stdout",
     "output_type": "stream",
     "text": [
      "20 g\n"
     ]
    }
   ],
   "source": [
    "#For the mixed_tuple variable defined below:\n",
    "# Access value 20 from the mixed_tuple\n",
    "# Access the charachter \"g\" from the mixed_tuple \n",
    "# The given tuple is a nested one. Write a Python program that prints the value 20 with indexing.\n",
    "mixed_tuple = (\"Orange\", [10, 20, 30], (5, 15, 25))\n",
    "value_20 = mixed_tuple[1][1]\n",
    "char_g = mixed_tuple[0][4]\n",
    "print(value_20,char_g)"
   ]
  },
  {
   "cell_type": "code",
   "execution_count": 8,
   "id": "bc30d5a7",
   "metadata": {},
   "outputs": [
    {
     "name": "stdout",
     "output_type": "stream",
     "text": [
      "45\n"
     ]
    }
   ],
   "source": [
    "#Ali's programming teacher asks him to define two variables inp_1 and inp_2 and assign values 10 and 35 to them. then put inp_1 + inp_2 in variable result and print it. Ali is a lazy student and asks you to do this for him!\n",
    "inp_1 , inp_2 = 10 , 35\n",
    "print(inp_1 + inp_2)"
   ]
  },
  {
   "cell_type": "code",
   "execution_count": null,
   "id": "919be775",
   "metadata": {},
   "outputs": [],
   "source": []
  }
 ],
 "metadata": {
  "kernelspec": {
   "display_name": "Python 3 (ipykernel)",
   "language": "python",
   "name": "python3"
  },
  "language_info": {
   "codemirror_mode": {
    "name": "ipython",
    "version": 3
   },
   "file_extension": ".py",
   "mimetype": "text/x-python",
   "name": "python",
   "nbconvert_exporter": "python",
   "pygments_lexer": "ipython3",
   "version": "3.10.5"
  }
 },
 "nbformat": 4,
 "nbformat_minor": 5
}
