{
 "cells": [
  {
   "cell_type": "markdown",
   "id": "4b10bc6b",
   "metadata": {},
   "source": [
    "## Task_Survey_Gener"
   ]
  },
  {
   "cell_type": "code",
   "execution_count": 40,
   "id": "66ef90d1",
   "metadata": {},
   "outputs": [
    {
     "name": "stdout",
     "output_type": "stream",
     "text": [
      "please enter your number of pepole:2\n",
      "please enter your name:'ali'\n",
      "please  Choosing three genres by their number in:\n",
      " \n",
      " {1: 'action', 2: 'history', 3: 'romance', 4: 'adventure', 5: 'comedy', 6: 'horror'}\n",
      "\n",
      "=1 3 5\n",
      "'ali'--->['action', 'romance', 'comedy']\n",
      "please enter your name:z\n",
      "please  Choosing three genres by their number in:\n",
      " \n",
      " {1: 'action', 2: 'history', 3: 'romance', 4: 'adventure', 5: 'comedy', 6: 'horror'}\n",
      "\n",
      "=2 4 1\n",
      "z--->['history', 'adventure', 'action']\n",
      "{'action': 2, 'history': 1, 'romance': 1, 'adventure': 1, 'comedy': 1, 'horror': 0}\n"
     ]
    }
   ],
   "source": [
    "#your number of pepole\n",
    "number = int(input('please enter your number of pepole:'))\n",
    "dic = dict()\n",
    "#dict of gener\n",
    "gener = {1:'action',\n",
    "         2:'history',\n",
    "         3: 'romance',\n",
    "         4: 'adventure',\n",
    "         5: 'comedy',\n",
    "         6: 'horror'}\n",
    "\n",
    "for i in range(number):\n",
    "    name = input('please enter your name:')\n",
    "    survey = input(f'please  Choosing three genres by their number in:\\n \\n {gener}\\n\\n=').split(' ')\n",
    "    #Genre number controller\n",
    "    if len(survey) > 3 or len(survey) < 3:\n",
    "        raise ValueError('Your number of genres is not appropriate:)')\n",
    "    else:\n",
    "        #Person's name along with favorite genre\n",
    "        print(f'{name}--->{[gener[int(item)] for item in survey]}')\n",
    "        for item in survey:\n",
    "            for key,value in gener.items():\n",
    "                if int(item) == key:\n",
    "                    dic[value] = dic.get(value, 0) + 1\n",
    "                if int(item) != key:\n",
    "                    dic[value] = dic.get(value, 0) + 0\n",
    "print(dic)"
   ]
  },
  {
   "cell_type": "code",
   "execution_count": null,
   "id": "1d08d192",
   "metadata": {},
   "outputs": [],
   "source": []
  }
 ],
 "metadata": {
  "kernelspec": {
   "display_name": "Python 3 (ipykernel)",
   "language": "python",
   "name": "python3"
  },
  "language_info": {
   "codemirror_mode": {
    "name": "ipython",
    "version": 3
   },
   "file_extension": ".py",
   "mimetype": "text/x-python",
   "name": "python",
   "nbconvert_exporter": "python",
   "pygments_lexer": "ipython3",
   "version": "3.10.7"
  }
 },
 "nbformat": 4,
 "nbformat_minor": 5
}
