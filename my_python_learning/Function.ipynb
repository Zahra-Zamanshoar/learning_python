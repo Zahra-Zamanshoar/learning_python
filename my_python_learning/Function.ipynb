{
 "cells": [
  {
   "cell_type": "code",
   "execution_count": 1,
   "id": "1aee1f91",
   "metadata": {},
   "outputs": [
    {
     "data": {
      "text/plain": [
       "3"
      ]
     },
     "execution_count": 1,
     "metadata": {},
     "output_type": "execute_result"
    }
   ],
   "source": [
    "x = [1, 2, 3]\n",
    "len(x) #-----> built in function"
   ]
  },
  {
   "cell_type": "code",
   "execution_count": 3,
   "id": "efe45d7f",
   "metadata": {},
   "outputs": [
    {
     "data": {
      "text/plain": [
       "True"
      ]
     },
     "execution_count": 3,
     "metadata": {},
     "output_type": "execute_result"
    }
   ],
   "source": [
    "any([False, True, False])"
   ]
  },
  {
   "cell_type": "code",
   "execution_count": 4,
   "id": "0d72dccd",
   "metadata": {},
   "outputs": [
    {
     "data": {
      "text/plain": [
       "2580391752192"
      ]
     },
     "execution_count": 4,
     "metadata": {},
     "output_type": "execute_result"
    }
   ],
   "source": [
    "id(x)"
   ]
  },
  {
   "cell_type": "code",
   "execution_count": 6,
   "id": "42bfe7e2",
   "metadata": {},
   "outputs": [],
   "source": [
    "def i(name, age): #formal parameters\n",
    "    return print(f'{name} has {age}')"
   ]
  },
  {
   "cell_type": "code",
   "execution_count": 7,
   "id": "594fa3f1",
   "metadata": {},
   "outputs": [
    {
     "name": "stdout",
     "output_type": "stream",
     "text": [
      "zahra has 12\n"
     ]
    }
   ],
   "source": [
    "i('zahra', 12)#------> positional argument \n",
    "#----> actual parametersه"
   ]
  },
  {
   "cell_type": "code",
   "execution_count": 8,
   "id": "06632357",
   "metadata": {},
   "outputs": [
    {
     "ename": "SyntaxError",
     "evalue": "positional argument follows keyword argument (3216156126.py, line 1)",
     "output_type": "error",
     "traceback": [
      "\u001b[1;36m  Cell \u001b[1;32mIn [8], line 1\u001b[1;36m\u001b[0m\n\u001b[1;33m    i(name = 'z', 12)\u001b[0m\n\u001b[1;37m                    ^\u001b[0m\n\u001b[1;31mSyntaxError\u001b[0m\u001b[1;31m:\u001b[0m positional argument follows keyword argument\n"
     ]
    }
   ],
   "source": [
    "i(name = 'z', 12) #--->positional argument follows keyword argument"
   ]
  },
  {
   "cell_type": "code",
   "execution_count": 11,
   "id": "728b74c1",
   "metadata": {},
   "outputs": [
    {
     "name": "stdout",
     "output_type": "stream",
     "text": [
      "z has 12\n"
     ]
    }
   ],
   "source": [
    "i('z', age= 12)"
   ]
  },
  {
   "cell_type": "code",
   "execution_count": 1,
   "id": "7e3c014a",
   "metadata": {},
   "outputs": [],
   "source": [
    "def f(l=[]): #--------> mutable Defult parameter\n",
    "    l.append('#')\n",
    "    print(l)"
   ]
  },
  {
   "cell_type": "code",
   "execution_count": 2,
   "id": "e031b136",
   "metadata": {},
   "outputs": [
    {
     "name": "stdout",
     "output_type": "stream",
     "text": [
      "['#']\n"
     ]
    }
   ],
   "source": [
    "f()"
   ]
  },
  {
   "cell_type": "code",
   "execution_count": 3,
   "id": "a10eac14",
   "metadata": {},
   "outputs": [
    {
     "name": "stdout",
     "output_type": "stream",
     "text": [
      "['#', '#']\n"
     ]
    }
   ],
   "source": [
    "f()"
   ]
  },
  {
   "cell_type": "code",
   "execution_count": 4,
   "id": "dbda46bc",
   "metadata": {},
   "outputs": [
    {
     "name": "stdout",
     "output_type": "stream",
     "text": [
      "['#', '#', '#']\n"
     ]
    }
   ],
   "source": [
    "f()"
   ]
  },
  {
   "cell_type": "code",
   "execution_count": 5,
   "id": "edca1315",
   "metadata": {},
   "outputs": [
    {
     "name": "stdout",
     "output_type": "stream",
     "text": [
      "['#', '#', '#', '#']\n"
     ]
    }
   ],
   "source": [
    "f()"
   ]
  },
  {
   "cell_type": "code",
   "execution_count": 6,
   "id": "226dcd10",
   "metadata": {},
   "outputs": [],
   "source": [
    "def f_non(l=None):\n",
    "    if l is None:\n",
    "        l = []\n",
    "    l.append('#')\n",
    "    print(l)"
   ]
  },
  {
   "cell_type": "code",
   "execution_count": 8,
   "id": "ff4be02f",
   "metadata": {},
   "outputs": [
    {
     "name": "stdout",
     "output_type": "stream",
     "text": [
      "['#']\n"
     ]
    }
   ],
   "source": [
    "f_non()"
   ]
  },
  {
   "cell_type": "code",
   "execution_count": 9,
   "id": "89c3b14e",
   "metadata": {},
   "outputs": [
    {
     "name": "stdout",
     "output_type": "stream",
     "text": [
      "['#']\n"
     ]
    }
   ],
   "source": [
    "f_non()"
   ]
  },
  {
   "cell_type": "code",
   "execution_count": 10,
   "id": "17f576a1",
   "metadata": {},
   "outputs": [
    {
     "name": "stdout",
     "output_type": "stream",
     "text": [
      "['#']\n"
     ]
    }
   ],
   "source": [
    "f_non()"
   ]
  },
  {
   "cell_type": "code",
   "execution_count": 11,
   "id": "1aa88cff",
   "metadata": {},
   "outputs": [],
   "source": [
    "def f_(x):\n",
    "    print('x id before',id(x))\n",
    "    x = 10\n",
    "    print('x id after',id(x))"
   ]
  },
  {
   "cell_type": "code",
   "execution_count": 15,
   "id": "ea562599",
   "metadata": {},
   "outputs": [
    {
     "data": {
      "text/plain": [
       "2306339897712"
      ]
     },
     "execution_count": 15,
     "metadata": {},
     "output_type": "execute_result"
    }
   ],
   "source": [
    "y = 5\n",
    "id(y)"
   ]
  },
  {
   "cell_type": "code",
   "execution_count": 16,
   "id": "440a40c3",
   "metadata": {},
   "outputs": [
    {
     "name": "stdout",
     "output_type": "stream",
     "text": [
      "x id before 2306339897712\n",
      "x id after 2306339897872\n"
     ]
    }
   ],
   "source": [
    "f_(y)"
   ]
  },
  {
   "cell_type": "code",
   "execution_count": 17,
   "id": "9bc817bb",
   "metadata": {},
   "outputs": [
    {
     "name": "stdout",
     "output_type": "stream",
     "text": [
      "5\n"
     ]
    }
   ],
   "source": [
    "print(y)"
   ]
  },
  {
   "cell_type": "code",
   "execution_count": 9,
   "id": "7537eadc",
   "metadata": {},
   "outputs": [],
   "source": [
    "def f(y):\n",
    "    y = 10"
   ]
  },
  {
   "cell_type": "code",
   "execution_count": 10,
   "id": "b2f68b31",
   "metadata": {},
   "outputs": [],
   "source": [
    "y = 3"
   ]
  },
  {
   "cell_type": "code",
   "execution_count": 11,
   "id": "8c609912",
   "metadata": {
    "scrolled": true
   },
   "outputs": [
    {
     "name": "stdout",
     "output_type": "stream",
     "text": [
      "byeee\n"
     ]
    }
   ],
   "source": [
    "if f(y):\n",
    "    print('Hii')\n",
    "else:\n",
    "    print('byeee')"
   ]
  },
  {
   "cell_type": "code",
   "execution_count": 12,
   "id": "162b72dc",
   "metadata": {},
   "outputs": [],
   "source": [
    "def f(y):\n",
    "    y = 10\n",
    "    return 10"
   ]
  },
  {
   "cell_type": "code",
   "execution_count": 13,
   "id": "9ac8f086",
   "metadata": {},
   "outputs": [
    {
     "name": "stdout",
     "output_type": "stream",
     "text": [
      "Hii\n"
     ]
    }
   ],
   "source": [
    "if f(y):\n",
    "    print('Hii')\n",
    "else:\n",
    "    print('byeee')"
   ]
  },
  {
   "cell_type": "code",
   "execution_count": 1,
   "id": "952019f7",
   "metadata": {},
   "outputs": [],
   "source": [
    "def arg(*args):#------>loke print()\n",
    "    print(args)"
   ]
  },
  {
   "cell_type": "code",
   "execution_count": 3,
   "id": "13d2be4b",
   "metadata": {},
   "outputs": [
    {
     "name": "stdout",
     "output_type": "stream",
     "text": [
      "(2, 3, 4, 5, 6)\n"
     ]
    }
   ],
   "source": [
    "arg(2,3,4,5,6)"
   ]
  },
  {
   "cell_type": "code",
   "execution_count": 4,
   "id": "a4d1758d",
   "metadata": {},
   "outputs": [],
   "source": [
    "a, b, *args, c, d, e = 1, 2, 3, 4, 5, 6, 7, 8"
   ]
  },
  {
   "cell_type": "code",
   "execution_count": 56,
   "id": "423966fc",
   "metadata": {},
   "outputs": [],
   "source": [
    "def avrg(*avrg):\n",
    "    print(avrg)\n",
    "    total = 0 \n",
    "    for num in avrg:\n",
    "        total += num\n",
    "    return total / len(avrg)\n"
   ]
  },
  {
   "cell_type": "code",
   "execution_count": 6,
   "id": "7f3b4981",
   "metadata": {},
   "outputs": [
    {
     "data": {
      "text/plain": [
       "4.0"
      ]
     },
     "execution_count": 6,
     "metadata": {},
     "output_type": "execute_result"
    }
   ],
   "source": [
    "avrg(2, 3, 4, 5, 6)"
   ]
  },
  {
   "cell_type": "code",
   "execution_count": 7,
   "id": "b046a2ae",
   "metadata": {},
   "outputs": [
    {
     "ename": "TypeError",
     "evalue": "unsupported operand type(s) for +=: 'int' and 'list'",
     "output_type": "error",
     "traceback": [
      "\u001b[1;31m---------------------------------------------------------------------------\u001b[0m",
      "\u001b[1;31mTypeError\u001b[0m                                 Traceback (most recent call last)",
      "Cell \u001b[1;32mIn [7], line 1\u001b[0m\n\u001b[1;32m----> 1\u001b[0m avrg([\u001b[38;5;241m2\u001b[39m, \u001b[38;5;241m3\u001b[39m, \u001b[38;5;241m4\u001b[39m, \u001b[38;5;241m5\u001b[39m, \u001b[38;5;241m6\u001b[39m])\n",
      "Cell \u001b[1;32mIn [5], line 4\u001b[0m, in \u001b[0;36mavrg\u001b[1;34m(*avrg)\u001b[0m\n\u001b[0;32m      2\u001b[0m total \u001b[38;5;241m=\u001b[39m \u001b[38;5;241m0\u001b[39m \n\u001b[0;32m      3\u001b[0m \u001b[38;5;28;01mfor\u001b[39;00m num \u001b[38;5;129;01min\u001b[39;00m avrg:\n\u001b[1;32m----> 4\u001b[0m     total \u001b[38;5;241m+\u001b[39m\u001b[38;5;241m=\u001b[39m num\n\u001b[0;32m      5\u001b[0m \u001b[38;5;28;01mreturn\u001b[39;00m total \u001b[38;5;241m/\u001b[39m \u001b[38;5;28mlen\u001b[39m(avrg)\n",
      "\u001b[1;31mTypeError\u001b[0m: unsupported operand type(s) for +=: 'int' and 'list'"
     ]
    }
   ],
   "source": [
    "avrg([2, 3, 4, 5, 6]) "
   ]
  },
  {
   "cell_type": "code",
   "execution_count": 8,
   "id": "a3ceb494",
   "metadata": {},
   "outputs": [
    {
     "data": {
      "text/plain": [
       "4.0"
      ]
     },
     "execution_count": 8,
     "metadata": {},
     "output_type": "execute_result"
    }
   ],
   "source": [
    "avrg(*[2, 3, 4, 5, 6]) #----> pack & unpack"
   ]
  },
  {
   "cell_type": "code",
   "execution_count": 47,
   "id": "a7d2eaae",
   "metadata": {},
   "outputs": [],
   "source": [
    "def kwar(**kwargs):\n",
    "    for name, value in kwargs.items():\n",
    "         print(f'{name:2} is {value:3}')"
   ]
  },
  {
   "cell_type": "code",
   "execution_count": 42,
   "id": "7096c76c",
   "metadata": {},
   "outputs": [
    {
     "name": "stdout",
     "output_type": "stream",
     "text": [
      "ali is   2\n"
     ]
    }
   ],
   "source": [
    "kwar(ali=2, zahra=20, pooya=28)"
   ]
  },
  {
   "cell_type": "code",
   "execution_count": 13,
   "id": "f65bcb50",
   "metadata": {},
   "outputs": [
    {
     "ename": "TypeError",
     "evalue": "avrg() got an unexpected keyword argument 'ali'",
     "output_type": "error",
     "traceback": [
      "\u001b[1;31m---------------------------------------------------------------------------\u001b[0m",
      "\u001b[1;31mTypeError\u001b[0m                                 Traceback (most recent call last)",
      "Cell \u001b[1;32mIn [13], line 1\u001b[0m\n\u001b[1;32m----> 1\u001b[0m avrg(ali\u001b[38;5;241m=\u001b[39m\u001b[38;5;241m2\u001b[39m, zahra\u001b[38;5;241m=\u001b[39m\u001b[38;5;241m20\u001b[39m, pooya\u001b[38;5;241m=\u001b[39m\u001b[38;5;241m28\u001b[39m)\n",
      "\u001b[1;31mTypeError\u001b[0m: avrg() got an unexpected keyword argument 'ali'"
     ]
    }
   ],
   "source": [
    "avrg(ali=2, zahra=20, pooya=28)"
   ]
  },
  {
   "cell_type": "code",
   "execution_count": 32,
   "id": "b7f38c8d",
   "metadata": {},
   "outputs": [
    {
     "ename": "TypeError",
     "evalue": "kwar() takes 0 positional arguments but 1 was given",
     "output_type": "error",
     "traceback": [
      "\u001b[1;31m---------------------------------------------------------------------------\u001b[0m",
      "\u001b[1;31mTypeError\u001b[0m                                 Traceback (most recent call last)",
      "Cell \u001b[1;32mIn [32], line 1\u001b[0m\n\u001b[1;32m----> 1\u001b[0m kwar(\u001b[38;5;241m2\u001b[39m)\n",
      "\u001b[1;31mTypeError\u001b[0m: kwar() takes 0 positional arguments but 1 was given"
     ]
    }
   ],
   "source": [
    "kwar(2)"
   ]
  },
  {
   "cell_type": "code",
   "execution_count": 36,
   "id": "9ae3e3f4",
   "metadata": {},
   "outputs": [],
   "source": [
    "dic = {\n",
    "    'ali':2,\n",
    "    'zahra':20,\n",
    "    'pooya':27,\n",
    "}"
   ]
  },
  {
   "cell_type": "code",
   "execution_count": 37,
   "id": "2f78af01",
   "metadata": {},
   "outputs": [
    {
     "name": "stdout",
     "output_type": "stream",
     "text": [
      "ali is   2\n"
     ]
    }
   ],
   "source": [
    "kwar(**dic)"
   ]
  },
  {
   "cell_type": "code",
   "execution_count": 45,
   "id": "7284e5ac",
   "metadata": {},
   "outputs": [],
   "source": [
    "dic_1 = dict((\n",
    "    ('hasan', 2),\n",
    "    ['ma', 3],\n",
    "))"
   ]
  },
  {
   "cell_type": "code",
   "execution_count": 48,
   "id": "3d2e379f",
   "metadata": {},
   "outputs": [
    {
     "name": "stdout",
     "output_type": "stream",
     "text": [
      "hasan is   2\n",
      "ma is   3\n"
     ]
    }
   ],
   "source": [
    "kwar(**dic_1)"
   ]
  },
  {
   "cell_type": "code",
   "execution_count": 51,
   "id": "b483bda0",
   "metadata": {},
   "outputs": [],
   "source": [
    "d = {**dic, **dic_1}#---->merge dictionary"
   ]
  },
  {
   "cell_type": "code",
   "execution_count": 52,
   "id": "7d2f2666",
   "metadata": {},
   "outputs": [
    {
     "data": {
      "text/plain": [
       "{'ali': 2, 'zahra': 20, 'pooya': 27, 'hasan': 2, 'ma': 3}"
      ]
     },
     "execution_count": 52,
     "metadata": {},
     "output_type": "execute_result"
    }
   ],
   "source": [
    "d"
   ]
  },
  {
   "cell_type": "code",
   "execution_count": 53,
   "id": "fbb0fa61",
   "metadata": {},
   "outputs": [],
   "source": [
    " d_ = dic | dic_1 "
   ]
  },
  {
   "cell_type": "code",
   "execution_count": 54,
   "id": "67e2e6d4",
   "metadata": {},
   "outputs": [
    {
     "data": {
      "text/plain": [
       "{'ali': 2, 'zahra': 20, 'pooya': 27, 'hasan': 2, 'ma': 3}"
      ]
     },
     "execution_count": 54,
     "metadata": {},
     "output_type": "execute_result"
    }
   ],
   "source": [
    "d_"
   ]
  },
  {
   "cell_type": "code",
   "execution_count": 57,
   "id": "24451f85",
   "metadata": {},
   "outputs": [
    {
     "name": "stdout",
     "output_type": "stream",
     "text": [
      "(2, 2, 4, 8, 10)\n"
     ]
    },
    {
     "data": {
      "text/plain": [
       "5.2"
      ]
     },
     "execution_count": 57,
     "metadata": {},
     "output_type": "execute_result"
    }
   ],
   "source": [
    "zahra = [2, 2, 4, 8, 10]\n",
    "avrg(*zahra)"
   ]
  },
  {
   "cell_type": "code",
   "execution_count": 106,
   "id": "a96e8c9a",
   "metadata": {},
   "outputs": [
    {
     "data": {
      "text/plain": [
       "'zahra zamani'"
      ]
     },
     "execution_count": 106,
     "metadata": {},
     "output_type": "execute_result"
    }
   ],
   "source": [
    "#join\n",
    "\n",
    "hero = 'zahra zamani'\n",
    "d = hero[::2]\n",
    "d_1 = hero[1::2]\n",
    "z = ''\n",
    "for indx, item in enumerate(d) :\n",
    "    z += d[indx] + d_1[indx]\n",
    "z"
   ]
  },
  {
   "cell_type": "code",
   "execution_count": 73,
   "id": "a666b378",
   "metadata": {},
   "outputs": [
    {
     "data": {
      "text/plain": [
       "'zhazmn'"
      ]
     },
     "execution_count": 73,
     "metadata": {},
     "output_type": "execute_result"
    }
   ],
   "source": [
    "d"
   ]
  },
  {
   "cell_type": "code",
   "execution_count": 74,
   "id": "f9cdcb79",
   "metadata": {},
   "outputs": [
    {
     "data": {
      "text/plain": [
       "'ar aai'"
      ]
     },
     "execution_count": 74,
     "metadata": {},
     "output_type": "execute_result"
    }
   ],
   "source": [
    "d_1"
   ]
  },
  {
   "cell_type": "markdown",
   "id": "b74c1f5b",
   "metadata": {},
   "source": [
    "### built in function join"
   ]
  },
  {
   "cell_type": "code",
   "execution_count": 138,
   "id": "e6954de1",
   "metadata": {},
   "outputs": [],
   "source": [
    "def join_z(a, b):\n",
    "    new = ''\n",
    "    for ind, item in enumerate(a):\n",
    "        new += item \n",
    "        if ind < len(a) -1 :\n",
    "            new += b\n",
    "    return new    \n",
    "        "
   ]
  },
  {
   "cell_type": "code",
   "execution_count": 139,
   "id": "837b1d19",
   "metadata": {},
   "outputs": [
    {
     "data": {
      "text/plain": [
       "'z,a,h,r,a'"
      ]
     },
     "execution_count": 139,
     "metadata": {},
     "output_type": "execute_result"
    }
   ],
   "source": [
    "join_z('zahra',',')"
   ]
  },
  {
   "cell_type": "code",
   "execution_count": 137,
   "id": "f197429d",
   "metadata": {},
   "outputs": [],
   "source": [
    "z = 'zfh'"
   ]
  },
  {
   "cell_type": "code",
   "execution_count": 133,
   "id": "d85058c5",
   "metadata": {},
   "outputs": [
    {
     "data": {
      "text/plain": [
       "0"
      ]
     },
     "execution_count": 133,
     "metadata": {},
     "output_type": "execute_result"
    }
   ],
   "source": [
    "z.index('z')"
   ]
  },
  {
   "cell_type": "markdown",
   "id": "5584caff",
   "metadata": {},
   "source": [
    "### keyword only argument"
   ]
  },
  {
   "cell_type": "code",
   "execution_count": 140,
   "id": "23e65b11",
   "metadata": {},
   "outputs": [],
   "source": [
    "def oper(x, y, op='+'):\n",
    "    if op == '+':\n",
    "        return x + y\n",
    "    if op == '-':\n",
    "        return x - y    \n",
    "    if op == '/':\n",
    "        return x / y"
   ]
  },
  {
   "cell_type": "code",
   "execution_count": 141,
   "id": "07d5f97e",
   "metadata": {},
   "outputs": [
    {
     "data": {
      "text/plain": [
       "7"
      ]
     },
     "execution_count": 141,
     "metadata": {},
     "output_type": "execute_result"
    }
   ],
   "source": [
    "oper(3, 4)"
   ]
  },
  {
   "cell_type": "code",
   "execution_count": 142,
   "id": "8eae106b",
   "metadata": {},
   "outputs": [
    {
     "data": {
      "text/plain": [
       "-1"
      ]
     },
     "execution_count": 142,
     "metadata": {},
     "output_type": "execute_result"
    }
   ],
   "source": [
    "oper(3, 4, '-')"
   ]
  },
  {
   "cell_type": "code",
   "execution_count": 143,
   "id": "7dbf95ba",
   "metadata": {},
   "outputs": [],
   "source": [
    "def oper(x, y,*ignore, op='+'):\n",
    "    if op == '+':\n",
    "        return x + y\n",
    "    if op == '-':\n",
    "        return x - y    \n",
    "    if op == '/':\n",
    "        return x / y"
   ]
  },
  {
   "cell_type": "code",
   "execution_count": 144,
   "id": "6ee175e9",
   "metadata": {},
   "outputs": [
    {
     "data": {
      "text/plain": [
       "7"
      ]
     },
     "execution_count": 144,
     "metadata": {},
     "output_type": "execute_result"
    }
   ],
   "source": [
    "oper(3, 4)"
   ]
  },
  {
   "cell_type": "code",
   "execution_count": 145,
   "id": "ba8d32e1",
   "metadata": {},
   "outputs": [
    {
     "data": {
      "text/plain": [
       "7"
      ]
     },
     "execution_count": 145,
     "metadata": {},
     "output_type": "execute_result"
    }
   ],
   "source": [
    "oper(3, 4, '-')"
   ]
  },
  {
   "cell_type": "code",
   "execution_count": 146,
   "id": "5cebddb5",
   "metadata": {},
   "outputs": [
    {
     "data": {
      "text/plain": [
       "-1"
      ]
     },
     "execution_count": 146,
     "metadata": {},
     "output_type": "execute_result"
    }
   ],
   "source": [
    "oper(3, 4, op='-')"
   ]
  },
  {
   "cell_type": "code",
   "execution_count": 147,
   "id": "81fa03c6",
   "metadata": {},
   "outputs": [
    {
     "data": {
      "text/plain": [
       "7"
      ]
     },
     "execution_count": 147,
     "metadata": {},
     "output_type": "execute_result"
    }
   ],
   "source": [
    "oper(3, 4, 8, 10, 12)"
   ]
  },
  {
   "cell_type": "code",
   "execution_count": 148,
   "id": "26661f47",
   "metadata": {},
   "outputs": [],
   "source": [
    "def oper(x, y,*, op='+'):#-----> '*' keyword only argument\n",
    "    if op == '+':\n",
    "        return x + y\n",
    "    if op == '-':\n",
    "        return x - y    \n",
    "    if op == '/':\n",
    "        return x / y"
   ]
  },
  {
   "cell_type": "code",
   "execution_count": 149,
   "id": "d4feb9b5",
   "metadata": {},
   "outputs": [
    {
     "ename": "TypeError",
     "evalue": "oper() takes 2 positional arguments but 5 were given",
     "output_type": "error",
     "traceback": [
      "\u001b[1;31m---------------------------------------------------------------------------\u001b[0m",
      "\u001b[1;31mTypeError\u001b[0m                                 Traceback (most recent call last)",
      "Cell \u001b[1;32mIn [149], line 1\u001b[0m\n\u001b[1;32m----> 1\u001b[0m oper(\u001b[38;5;241m3\u001b[39m, \u001b[38;5;241m4\u001b[39m, \u001b[38;5;241m8\u001b[39m, \u001b[38;5;241m10\u001b[39m, \u001b[38;5;241m12\u001b[39m)\n",
      "\u001b[1;31mTypeError\u001b[0m: oper() takes 2 positional arguments but 5 were given"
     ]
    }
   ],
   "source": [
    "oper(3, 4, 8, 10, 12)"
   ]
  },
  {
   "cell_type": "code",
   "execution_count": 150,
   "id": "c8e6f1b8",
   "metadata": {},
   "outputs": [
    {
     "ename": "TypeError",
     "evalue": "oper() takes 2 positional arguments but 3 were given",
     "output_type": "error",
     "traceback": [
      "\u001b[1;31m---------------------------------------------------------------------------\u001b[0m",
      "\u001b[1;31mTypeError\u001b[0m                                 Traceback (most recent call last)",
      "Cell \u001b[1;32mIn [150], line 1\u001b[0m\n\u001b[1;32m----> 1\u001b[0m oper(\u001b[38;5;241m3\u001b[39m, \u001b[38;5;241m4\u001b[39m, \u001b[38;5;124m'\u001b[39m\u001b[38;5;124m-\u001b[39m\u001b[38;5;124m'\u001b[39m)\n",
      "\u001b[1;31mTypeError\u001b[0m: oper() takes 2 positional arguments but 3 were given"
     ]
    }
   ],
   "source": [
    "oper(3, 4, '-')"
   ]
  },
  {
   "cell_type": "code",
   "execution_count": 151,
   "id": "4ac1e0f4",
   "metadata": {},
   "outputs": [
    {
     "data": {
      "text/plain": [
       "-1"
      ]
     },
     "execution_count": 151,
     "metadata": {},
     "output_type": "execute_result"
    }
   ],
   "source": [
    "oper(3, 4, op='-')"
   ]
  },
  {
   "cell_type": "code",
   "execution_count": 152,
   "id": "3e22e741",
   "metadata": {},
   "outputs": [],
   "source": [
    "def oper(x, /, y,*, op='+'):#-----> '/' positional only argument\n",
    "    if op == '+':\n",
    "        return x + y\n",
    "    if op == '-':\n",
    "        return x - y    \n",
    "    if op == '/':\n",
    "        return x / y"
   ]
  },
  {
   "cell_type": "code",
   "execution_count": 154,
   "id": "2b174878",
   "metadata": {},
   "outputs": [
    {
     "ename": "TypeError",
     "evalue": "oper() got some positional-only arguments passed as keyword arguments: 'x'",
     "output_type": "error",
     "traceback": [
      "\u001b[1;31m---------------------------------------------------------------------------\u001b[0m",
      "\u001b[1;31mTypeError\u001b[0m                                 Traceback (most recent call last)",
      "Cell \u001b[1;32mIn [154], line 1\u001b[0m\n\u001b[1;32m----> 1\u001b[0m oper(x\u001b[38;5;241m=\u001b[39m\u001b[38;5;241m3\u001b[39m, y\u001b[38;5;241m=\u001b[39m\u001b[38;5;241m4\u001b[39m, op\u001b[38;5;241m=\u001b[39m\u001b[38;5;124m'\u001b[39m\u001b[38;5;124m-\u001b[39m\u001b[38;5;124m'\u001b[39m)\n",
      "\u001b[1;31mTypeError\u001b[0m: oper() got some positional-only arguments passed as keyword arguments: 'x'"
     ]
    }
   ],
   "source": [
    "oper(x=3, y=4, op='-')"
   ]
  },
  {
   "cell_type": "code",
   "execution_count": 156,
   "id": "dea1b4c1",
   "metadata": {},
   "outputs": [
    {
     "data": {
      "text/plain": [
       "-1"
      ]
     },
     "execution_count": 156,
     "metadata": {},
     "output_type": "execute_result"
    }
   ],
   "source": [
    "oper(3, y=4, op='-')"
   ]
  },
  {
   "cell_type": "code",
   "execution_count": 157,
   "id": "c14ec98e",
   "metadata": {},
   "outputs": [],
   "source": [
    "def oper(x, y, /,*, op='+'):#-----> '/' positional only argument\n",
    "    if op == '+':\n",
    "        return x + y\n",
    "    if op == '-':\n",
    "        return x - y    \n",
    "    if op == '/':\n",
    "        return x / y"
   ]
  },
  {
   "cell_type": "code",
   "execution_count": 158,
   "id": "b6a23a4b",
   "metadata": {},
   "outputs": [
    {
     "ename": "TypeError",
     "evalue": "oper() got some positional-only arguments passed as keyword arguments: 'y'",
     "output_type": "error",
     "traceback": [
      "\u001b[1;31m---------------------------------------------------------------------------\u001b[0m",
      "\u001b[1;31mTypeError\u001b[0m                                 Traceback (most recent call last)",
      "Cell \u001b[1;32mIn [158], line 1\u001b[0m\n\u001b[1;32m----> 1\u001b[0m oper(\u001b[38;5;241m3\u001b[39m, y\u001b[38;5;241m=\u001b[39m\u001b[38;5;241m4\u001b[39m, op\u001b[38;5;241m=\u001b[39m\u001b[38;5;124m'\u001b[39m\u001b[38;5;124m-\u001b[39m\u001b[38;5;124m'\u001b[39m)\n",
      "\u001b[1;31mTypeError\u001b[0m: oper() got some positional-only arguments passed as keyword arguments: 'y'"
     ]
    }
   ],
   "source": [
    "oper(3, y=4, op='-')"
   ]
  },
  {
   "cell_type": "code",
   "execution_count": 159,
   "id": "451067fd",
   "metadata": {},
   "outputs": [
    {
     "data": {
      "text/plain": [
       "-1"
      ]
     },
     "execution_count": 159,
     "metadata": {},
     "output_type": "execute_result"
    }
   ],
   "source": [
    "oper(3, 4, op='-')"
   ]
  },
  {
   "cell_type": "code",
   "execution_count": null,
   "id": "a669991b",
   "metadata": {},
   "outputs": [],
   "source": []
  }
 ],
 "metadata": {
  "kernelspec": {
   "display_name": "Python 3 (ipykernel)",
   "language": "python",
   "name": "python3"
  },
  "language_info": {
   "codemirror_mode": {
    "name": "ipython",
    "version": 3
   },
   "file_extension": ".py",
   "mimetype": "text/x-python",
   "name": "python",
   "nbconvert_exporter": "python",
   "pygments_lexer": "ipython3",
   "version": "3.10.7"
  }
 },
 "nbformat": 4,
 "nbformat_minor": 5
}
