{
 "cells": [
  {
   "cell_type": "code",
   "execution_count": 1,
   "id": "1aee1f91",
   "metadata": {},
   "outputs": [
    {
     "data": {
      "text/plain": [
       "3"
      ]
     },
     "execution_count": 1,
     "metadata": {},
     "output_type": "execute_result"
    }
   ],
   "source": [
    "x = [1, 2, 3]\n",
    "len(x) #-----> built in function"
   ]
  },
  {
   "cell_type": "code",
   "execution_count": 3,
   "id": "efe45d7f",
   "metadata": {},
   "outputs": [
    {
     "data": {
      "text/plain": [
       "True"
      ]
     },
     "execution_count": 3,
     "metadata": {},
     "output_type": "execute_result"
    }
   ],
   "source": [
    "any([False, True, False])"
   ]
  },
  {
   "cell_type": "code",
   "execution_count": 4,
   "id": "0d72dccd",
   "metadata": {},
   "outputs": [
    {
     "data": {
      "text/plain": [
       "2580391752192"
      ]
     },
     "execution_count": 4,
     "metadata": {},
     "output_type": "execute_result"
    }
   ],
   "source": [
    "id(x)"
   ]
  },
  {
   "cell_type": "code",
   "execution_count": 6,
   "id": "42bfe7e2",
   "metadata": {},
   "outputs": [],
   "source": [
    "def i(name, age): #formal parameters\n",
    "    return print(f'{name} has {age}')"
   ]
  },
  {
   "cell_type": "code",
   "execution_count": 7,
   "id": "594fa3f1",
   "metadata": {},
   "outputs": [
    {
     "name": "stdout",
     "output_type": "stream",
     "text": [
      "zahra has 12\n"
     ]
    }
   ],
   "source": [
    "i('zahra', 12)#------> positional argument \n",
    "#----> actual parametersه"
   ]
  },
  {
   "cell_type": "code",
   "execution_count": 8,
   "id": "06632357",
   "metadata": {},
   "outputs": [
    {
     "ename": "SyntaxError",
     "evalue": "positional argument follows keyword argument (3216156126.py, line 1)",
     "output_type": "error",
     "traceback": [
      "\u001b[1;36m  Cell \u001b[1;32mIn [8], line 1\u001b[1;36m\u001b[0m\n\u001b[1;33m    i(name = 'z', 12)\u001b[0m\n\u001b[1;37m                    ^\u001b[0m\n\u001b[1;31mSyntaxError\u001b[0m\u001b[1;31m:\u001b[0m positional argument follows keyword argument\n"
     ]
    }
   ],
   "source": [
    "i(name = 'z', 12) #--->positional argument follows keyword argument"
   ]
  },
  {
   "cell_type": "code",
   "execution_count": 11,
   "id": "728b74c1",
   "metadata": {},
   "outputs": [
    {
     "name": "stdout",
     "output_type": "stream",
     "text": [
      "z has 12\n"
     ]
    }
   ],
   "source": [
    "i('z', age= 12)"
   ]
  },
  {
   "cell_type": "code",
   "execution_count": 1,
   "id": "7e3c014a",
   "metadata": {},
   "outputs": [],
   "source": [
    "def f(l=[]): #--------> mutable Defult parameter\n",
    "    l.append('#')\n",
    "    print(l)"
   ]
  },
  {
   "cell_type": "code",
   "execution_count": 2,
   "id": "e031b136",
   "metadata": {},
   "outputs": [
    {
     "name": "stdout",
     "output_type": "stream",
     "text": [
      "['#']\n"
     ]
    }
   ],
   "source": [
    "f()"
   ]
  },
  {
   "cell_type": "code",
   "execution_count": 3,
   "id": "a10eac14",
   "metadata": {},
   "outputs": [
    {
     "name": "stdout",
     "output_type": "stream",
     "text": [
      "['#', '#']\n"
     ]
    }
   ],
   "source": [
    "f()"
   ]
  },
  {
   "cell_type": "code",
   "execution_count": 4,
   "id": "dbda46bc",
   "metadata": {},
   "outputs": [
    {
     "name": "stdout",
     "output_type": "stream",
     "text": [
      "['#', '#', '#']\n"
     ]
    }
   ],
   "source": [
    "f()"
   ]
  },
  {
   "cell_type": "code",
   "execution_count": 5,
   "id": "edca1315",
   "metadata": {},
   "outputs": [
    {
     "name": "stdout",
     "output_type": "stream",
     "text": [
      "['#', '#', '#', '#']\n"
     ]
    }
   ],
   "source": [
    "f()"
   ]
  },
  {
   "cell_type": "code",
   "execution_count": 6,
   "id": "226dcd10",
   "metadata": {},
   "outputs": [],
   "source": [
    "def f_non(l=None):\n",
    "    if l is None:\n",
    "        l = []\n",
    "    l.append('#')\n",
    "    print(l)"
   ]
  },
  {
   "cell_type": "code",
   "execution_count": 8,
   "id": "ff4be02f",
   "metadata": {},
   "outputs": [
    {
     "name": "stdout",
     "output_type": "stream",
     "text": [
      "['#']\n"
     ]
    }
   ],
   "source": [
    "f_non()"
   ]
  },
  {
   "cell_type": "code",
   "execution_count": 9,
   "id": "89c3b14e",
   "metadata": {},
   "outputs": [
    {
     "name": "stdout",
     "output_type": "stream",
     "text": [
      "['#']\n"
     ]
    }
   ],
   "source": [
    "f_non()"
   ]
  },
  {
   "cell_type": "code",
   "execution_count": 10,
   "id": "17f576a1",
   "metadata": {},
   "outputs": [
    {
     "name": "stdout",
     "output_type": "stream",
     "text": [
      "['#']\n"
     ]
    }
   ],
   "source": [
    "f_non()"
   ]
  },
  {
   "cell_type": "code",
   "execution_count": 11,
   "id": "1aa88cff",
   "metadata": {},
   "outputs": [],
   "source": [
    "def f_(x):\n",
    "    print('x id before',id(x))\n",
    "    x = 10\n",
    "    print('x id after',id(x))"
   ]
  },
  {
   "cell_type": "code",
   "execution_count": 15,
   "id": "ea562599",
   "metadata": {},
   "outputs": [
    {
     "data": {
      "text/plain": [
       "2306339897712"
      ]
     },
     "execution_count": 15,
     "metadata": {},
     "output_type": "execute_result"
    }
   ],
   "source": [
    "y = 5\n",
    "id(y)"
   ]
  },
  {
   "cell_type": "code",
   "execution_count": 16,
   "id": "440a40c3",
   "metadata": {},
   "outputs": [
    {
     "name": "stdout",
     "output_type": "stream",
     "text": [
      "x id before 2306339897712\n",
      "x id after 2306339897872\n"
     ]
    }
   ],
   "source": [
    "f_(y)"
   ]
  },
  {
   "cell_type": "code",
   "execution_count": 17,
   "id": "9bc817bb",
   "metadata": {},
   "outputs": [
    {
     "name": "stdout",
     "output_type": "stream",
     "text": [
      "5\n"
     ]
    }
   ],
   "source": [
    "print(y)"
   ]
  },
  {
   "cell_type": "code",
   "execution_count": null,
   "id": "8c609912",
   "metadata": {},
   "outputs": [],
   "source": []
  }
 ],
 "metadata": {
  "kernelspec": {
   "display_name": "Python 3 (ipykernel)",
   "language": "python",
   "name": "python3"
  },
  "language_info": {
   "codemirror_mode": {
    "name": "ipython",
    "version": 3
   },
   "file_extension": ".py",
   "mimetype": "text/x-python",
   "name": "python",
   "nbconvert_exporter": "python",
   "pygments_lexer": "ipython3",
   "version": "3.10.7"
  }
 },
 "nbformat": 4,
 "nbformat_minor": 5
}
