{
 "cells": [
  {
   "cell_type": "code",
   "execution_count": 1,
   "id": "db55370c",
   "metadata": {},
   "outputs": [
    {
     "name": "stdout",
     "output_type": "stream",
     "text": [
      "1\n"
     ]
    }
   ],
   "source": [
    "zahra = 'zahra zaman'\n",
    "if 'z' in zahra:\n",
    "    print(1)\n",
    "elif 'a' in zahra:\n",
    "    print(2)\n",
    "elif 'h' in zahra:\n",
    "    print(3)\n",
    "elif 'r' in zahra:\n",
    "    print(4)"
   ]
  },
  {
   "cell_type": "code",
   "execution_count": 2,
   "id": "0833d7ec",
   "metadata": {},
   "outputs": [
    {
     "name": "stdout",
     "output_type": "stream",
     "text": [
      "1\n",
      "2\n",
      "3\n",
      "4\n"
     ]
    }
   ],
   "source": [
    "zahra = 'zahra zaman'\n",
    "if 'z' in zahra:\n",
    "    print(1)\n",
    "if 'a' in zahra:\n",
    "    print(2)\n",
    "if 'h' in zahra:\n",
    "    print(3)\n",
    "if 'r' in zahra:\n",
    "    print(4)"
   ]
  },
  {
   "cell_type": "code",
   "execution_count": null,
   "id": "c3a4bfa3",
   "metadata": {},
   "outputs": [],
   "source": []
  }
 ],
 "metadata": {
  "kernelspec": {
   "display_name": "Python 3 (ipykernel)",
   "language": "python",
   "name": "python3"
  },
  "language_info": {
   "codemirror_mode": {
    "name": "ipython",
    "version": 3
   },
   "file_extension": ".py",
   "mimetype": "text/x-python",
   "name": "python",
   "nbconvert_exporter": "python",
   "pygments_lexer": "ipython3",
   "version": "3.9.12"
  }
 },
 "nbformat": 4,
 "nbformat_minor": 5
}
