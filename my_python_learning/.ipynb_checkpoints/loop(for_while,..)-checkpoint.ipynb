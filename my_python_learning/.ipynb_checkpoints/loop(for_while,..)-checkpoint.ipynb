{
 "cells": [
  {
   "cell_type": "code",
   "execution_count": 1,
   "id": "fd59444d",
   "metadata": {},
   "outputs": [],
   "source": [
    "def append(key,lst):\n",
    "    \n",
    "    return lst.append(key)"
   ]
  },
  {
   "cell_type": "code",
   "execution_count": 2,
   "id": "951b4308",
   "metadata": {},
   "outputs": [
    {
     "data": {
      "text/plain": [
       "{'name': 'Amir',\n",
       " 'age': 28,\n",
       " 'salary': 2000,\n",
       " 'a': 'A',\n",
       " 'pooya': 2000,\n",
       " 'last_name': 'Mohammadi'}"
      ]
     },
     "execution_count": 2,
     "metadata": {},
     "output_type": "execute_result"
    }
   ],
   "source": [
    "student_data = {'id1':\n",
    "                    {'name': 'Sara',\n",
    "                     'age': 28,\n",
    "                     'salary': 2000\n",
    "                     },\n",
    "                'id2':\n",
    "                    {'name': 'Sara',\n",
    "                     'age': 18,\n",
    "                     'salary': 1000\n",
    "                     },\n",
    "                \"a\": \"A\",\n",
    "                'id3':\n",
    "                    {'name': 'Omid',\n",
    "                     \"age\": 20,\n",
    "                     'salary': 1000,\n",
    "                     \"pooya\": 2000,\n",
    "                     \"last_name\": \"Zamani\"\n",
    "                     },\n",
    "                'id4': dict(name=\"Amir\", age=28, salary=2000),\n",
    "                \"last_name\": \"Mohammadi\",\n",
    "                }\n",
    "dic_flat = dict()\n",
    "data = []\n",
    "for key_string, student_val in student_data.items():\n",
    "    if isinstance(student_val, dict):\n",
    "        for (key_inner, val_inner) in student_val.items():\n",
    "            map(append,key_inner,data)\n",
    "    elif isinstance(student_val, str):\n",
    "        data.append(key_string)\n",
    "for key_string, student_val in student_data.items():\n",
    "    if isinstance(student_val, dict):\n",
    "        for (key_inner, val_inner) in student_val.items():\n",
    "            if data.count(key_inner) > 1 :\n",
    "                i = 0\n",
    "                flag = True\n",
    "                while flag :\n",
    "                    key_name = str(key_inner + \"_\" + str(i))\n",
    "                    if key_name not in dic_flat:\n",
    "                        dic_flat[key_name] = val_inner\n",
    "                        flag = False\n",
    "                    else:\n",
    "                        i += 1\n",
    "            else:\n",
    "                dic_flat[key_inner] = val_inner\n",
    "    if  isinstance(student_val, str):\n",
    "        if data.count(key_string) > 1 :\n",
    "            i = 0\n",
    "            flag = True\n",
    "            while flag :\n",
    "                key_names = str(key_string + \"_\" + str(i))\n",
    "                if key_names not in dic_flat:\n",
    "                    dic_flat[key_names] = student_val\n",
    "                    flag = False\n",
    "                else:\n",
    "                    i += 1\n",
    "        else:\n",
    "            dic_flat[key_string] = student_val\n",
    "dic_flat\n"
   ]
  },
  {
   "cell_type": "code",
   "execution_count": 8,
   "id": "50836d0c",
   "metadata": {},
   "outputs": [],
   "source": [
    "def prices_tax(price):\n",
    "    return price* 0.8"
   ]
  },
  {
   "cell_type": "code",
   "execution_count": 9,
   "id": "b9d29694",
   "metadata": {},
   "outputs": [],
   "source": [
    "price = [100, 50, 99, 80, 70]"
   ]
  },
  {
   "cell_type": "code",
   "execution_count": 10,
   "id": "48120ed0",
   "metadata": {},
   "outputs": [
    {
     "data": {
      "text/plain": [
       "[80.0, 40.0, 79.2, 64.0, 56.0]"
      ]
     },
     "execution_count": 10,
     "metadata": {},
     "output_type": "execute_result"
    }
   ],
   "source": [
    "list(map(prices_tax,price))#----->map(func,iterable)"
   ]
  },
  {
   "cell_type": "code",
   "execution_count": 13,
   "id": "a5e4991f",
   "metadata": {},
   "outputs": [],
   "source": [
    "names = ['zahra', 'Ali', 'Pooya', 'Mahdi', 'Taha']"
   ]
  },
  {
   "cell_type": "code",
   "execution_count": 14,
   "id": "7b9d249d",
   "metadata": {},
   "outputs": [
    {
     "data": {
      "text/plain": [
       "['ZAHRA', 'ali', 'pooya', 'mahdi', 'taha']"
      ]
     },
     "execution_count": 14,
     "metadata": {},
     "output_type": "execute_result"
    }
   ],
   "source": [
    "[n.upper() if 'z' in n else n.lower() for n in names] #-----> map & filter"
   ]
  },
  {
   "cell_type": "markdown",
   "id": "befd128b",
   "metadata": {},
   "source": [
    "Write a Python program to get 3 inputs from the user and find the median of three values without sorting values. only use conditional statements, not any python methods."
   ]
  },
  {
   "cell_type": "code",
   "execution_count": 50,
   "id": "e070e9dd",
   "metadata": {},
   "outputs": [
    {
     "name": "stdout",
     "output_type": "stream",
     "text": [
      "pleaze enter  number-1: 1\n",
      "pleaze enter  number-2: 4\n",
      "pleaze enter  number-3: 7\n",
      "maximum is = 7\n"
     ]
    }
   ],
   "source": [
    "input_1 = int(input('pleaze enter  number-1: '))\n",
    "input_2 = int(input('pleaze enter  number-2: '))\n",
    "input_3 = int(input('pleaze enter  number-3: '))\n",
    "lst = []\n",
    "lst.append(input_1)\n",
    "lst.append(input_2)\n",
    "lst.append(input_3)\n",
    "maximum = lst[0]\n",
    "for item in lst:\n",
    "    if item > maximum:\n",
    "        maximum = item\n",
    "print('maximum is =',maximum)        "
   ]
  },
  {
   "cell_type": "markdown",
   "id": "1816b1e0",
   "metadata": {},
   "source": []
  },
  {
   "cell_type": "code",
   "execution_count": 47,
   "id": "5ad8e31e",
   "metadata": {},
   "outputs": [],
   "source": [
    "maximum = lst[0]\n",
    "for item in lst:\n",
    "    if item > maximum:\n",
    "        maximum = item"
   ]
  },
  {
   "cell_type": "code",
   "execution_count": 48,
   "id": "5d2d211f",
   "metadata": {},
   "outputs": [
    {
     "data": {
      "text/plain": [
       "7"
      ]
     },
     "execution_count": 48,
     "metadata": {},
     "output_type": "execute_result"
    }
   ],
   "source": [
    "maximum"
   ]
  },
  {
   "cell_type": "markdown",
   "id": "a37aa321",
   "metadata": {},
   "source": [
    "objects = ['blue', 'apple', 'dog']\n",
    "categories = ['color', 'fruit', 'pet']\n",
    "a_dict = {key: value for key, value in zip(categories, objects)}"
   ]
  },
  {
   "cell_type": "code",
   "execution_count": 30,
   "id": "0f1bcbea",
   "metadata": {},
   "outputs": [
    {
     "data": {
      "text/plain": [
       "{'color': 'blue', 'fruit': 'apple', 'pet': 'dog'}"
      ]
     },
     "execution_count": 30,
     "metadata": {},
     "output_type": "execute_result"
    }
   ],
   "source": [
    "a_dict"
   ]
  },
  {
   "cell_type": "code",
   "execution_count": 35,
   "id": "72b69f0b",
   "metadata": {},
   "outputs": [
    {
     "data": {
      "text/plain": [
       "'color'"
      ]
     },
     "execution_count": 35,
     "metadata": {},
     "output_type": "execute_result"
    }
   ],
   "source": [
    "max('blue','color')"
   ]
  },
  {
   "cell_type": "markdown",
   "id": "242dbaea",
   "metadata": {},
   "source": [
    "# --------------------------------------------------------------------------------------------------------------"
   ]
  },
  {
   "cell_type": "markdown",
   "id": "155655d9",
   "metadata": {},
   "source": [
    "Look For Artist's Sales\n",
    "write a python program that does the following until the user enters quit:\n",
    "\n",
    " \n",
    "\n",
    "Ask the name of an artist\n",
    "Look up the number of sales of this artist in a dictionary\n",
    "Print out the result if the number of sales is known\n",
    "If the number of sales is unknown, ask the user to enter the number of sales, and update the dictionary accordingly"
   ]
  },
  {
   "cell_type": "code",
   "execution_count": 8,
   "id": "90116ca5",
   "metadata": {},
   "outputs": [
    {
     "name": "stdout",
     "output_type": "stream",
     "text": [
      "pleaze input you'r artist's name: 3\n",
      "pleaze update our data\n",
      "pleaze input you'r artist's sales: sara\n",
      "update data is succesfully\n",
      "\n"
     ]
    },
    {
     "ename": "KeyboardInterrupt",
     "evalue": "Interrupted by user",
     "output_type": "error",
     "traceback": [
      "\u001b[1;31m---------------------------------------------------------------------------\u001b[0m",
      "\u001b[1;31mKeyboardInterrupt\u001b[0m                         Traceback (most recent call last)",
      "Input \u001b[1;32mIn [8]\u001b[0m, in \u001b[0;36m<cell line: 4>\u001b[1;34m()\u001b[0m\n\u001b[0;32m     10\u001b[0m     Artists_Sales[name] \u001b[38;5;241m=\u001b[39m sales\n\u001b[0;32m     11\u001b[0m     \u001b[38;5;28mprint\u001b[39m(\u001b[38;5;124m'\u001b[39m\u001b[38;5;124mupdate data is succesfully\u001b[39m\u001b[38;5;130;01m\\n\u001b[39;00m\u001b[38;5;124m'\u001b[39m)\n\u001b[1;32m---> 12\u001b[0m name \u001b[38;5;241m=\u001b[39m \u001b[38;5;28;43minput\u001b[39;49m\u001b[43m(\u001b[49m\u001b[43mmsg\u001b[49m\u001b[43m)\u001b[49m\n",
      "File \u001b[1;32m~\\anaconda3\\lib\\site-packages\\ipykernel\\kernelbase.py:1075\u001b[0m, in \u001b[0;36mKernel.raw_input\u001b[1;34m(self, prompt)\u001b[0m\n\u001b[0;32m   1071\u001b[0m \u001b[38;5;28;01mif\u001b[39;00m \u001b[38;5;129;01mnot\u001b[39;00m \u001b[38;5;28mself\u001b[39m\u001b[38;5;241m.\u001b[39m_allow_stdin:\n\u001b[0;32m   1072\u001b[0m     \u001b[38;5;28;01mraise\u001b[39;00m StdinNotImplementedError(\n\u001b[0;32m   1073\u001b[0m         \u001b[38;5;124m\"\u001b[39m\u001b[38;5;124mraw_input was called, but this frontend does not support input requests.\u001b[39m\u001b[38;5;124m\"\u001b[39m\n\u001b[0;32m   1074\u001b[0m     )\n\u001b[1;32m-> 1075\u001b[0m \u001b[38;5;28;01mreturn\u001b[39;00m \u001b[38;5;28;43mself\u001b[39;49m\u001b[38;5;241;43m.\u001b[39;49m\u001b[43m_input_request\u001b[49m\u001b[43m(\u001b[49m\n\u001b[0;32m   1076\u001b[0m \u001b[43m    \u001b[49m\u001b[38;5;28;43mstr\u001b[39;49m\u001b[43m(\u001b[49m\u001b[43mprompt\u001b[49m\u001b[43m)\u001b[49m\u001b[43m,\u001b[49m\n\u001b[0;32m   1077\u001b[0m \u001b[43m    \u001b[49m\u001b[38;5;28;43mself\u001b[39;49m\u001b[38;5;241;43m.\u001b[39;49m\u001b[43m_parent_ident\u001b[49m\u001b[43m[\u001b[49m\u001b[38;5;124;43m\"\u001b[39;49m\u001b[38;5;124;43mshell\u001b[39;49m\u001b[38;5;124;43m\"\u001b[39;49m\u001b[43m]\u001b[49m\u001b[43m,\u001b[49m\n\u001b[0;32m   1078\u001b[0m \u001b[43m    \u001b[49m\u001b[38;5;28;43mself\u001b[39;49m\u001b[38;5;241;43m.\u001b[39;49m\u001b[43mget_parent\u001b[49m\u001b[43m(\u001b[49m\u001b[38;5;124;43m\"\u001b[39;49m\u001b[38;5;124;43mshell\u001b[39;49m\u001b[38;5;124;43m\"\u001b[39;49m\u001b[43m)\u001b[49m\u001b[43m,\u001b[49m\n\u001b[0;32m   1079\u001b[0m \u001b[43m    \u001b[49m\u001b[43mpassword\u001b[49m\u001b[38;5;241;43m=\u001b[39;49m\u001b[38;5;28;43;01mFalse\u001b[39;49;00m\u001b[43m,\u001b[49m\n\u001b[0;32m   1080\u001b[0m \u001b[43m\u001b[49m\u001b[43m)\u001b[49m\n",
      "File \u001b[1;32m~\\anaconda3\\lib\\site-packages\\ipykernel\\kernelbase.py:1120\u001b[0m, in \u001b[0;36mKernel._input_request\u001b[1;34m(self, prompt, ident, parent, password)\u001b[0m\n\u001b[0;32m   1117\u001b[0m             \u001b[38;5;28;01mbreak\u001b[39;00m\n\u001b[0;32m   1118\u001b[0m \u001b[38;5;28;01mexcept\u001b[39;00m \u001b[38;5;167;01mKeyboardInterrupt\u001b[39;00m:\n\u001b[0;32m   1119\u001b[0m     \u001b[38;5;66;03m# re-raise KeyboardInterrupt, to truncate traceback\u001b[39;00m\n\u001b[1;32m-> 1120\u001b[0m     \u001b[38;5;28;01mraise\u001b[39;00m \u001b[38;5;167;01mKeyboardInterrupt\u001b[39;00m(\u001b[38;5;124m\"\u001b[39m\u001b[38;5;124mInterrupted by user\u001b[39m\u001b[38;5;124m\"\u001b[39m) \u001b[38;5;28;01mfrom\u001b[39;00m \u001b[38;5;28mNone\u001b[39m\n\u001b[0;32m   1121\u001b[0m \u001b[38;5;28;01mexcept\u001b[39;00m \u001b[38;5;167;01mException\u001b[39;00m:\n\u001b[0;32m   1122\u001b[0m     \u001b[38;5;28mself\u001b[39m\u001b[38;5;241m.\u001b[39mlog\u001b[38;5;241m.\u001b[39mwarning(\u001b[38;5;124m\"\u001b[39m\u001b[38;5;124mInvalid Message:\u001b[39m\u001b[38;5;124m\"\u001b[39m, exc_info\u001b[38;5;241m=\u001b[39m\u001b[38;5;28;01mTrue\u001b[39;00m)\n",
      "\u001b[1;31mKeyboardInterrupt\u001b[0m: Interrupted by user"
     ]
    }
   ],
   "source": [
    "msg = \"pleaze input you'r artist's name: \"\n",
    "name = input(msg)\n",
    "Artists_Sales = {}\n",
    "while name != quit:\n",
    "    if name in Artists_Sales:\n",
    "        print(f'{name} has {Artists_Sales[name]} \\n')\n",
    "    else:\n",
    "        print('pleaze update our data')\n",
    "        sales = input(\"pleaze input you'r artist's sales: \")\n",
    "        Artists_Sales[name] = sales\n",
    "        print('update data is succesfully\\n')\n",
    "    name = input(msg)"
   ]
  },
  {
   "cell_type": "markdown",
   "id": "3a64c5d6",
   "metadata": {},
   "source": [
    "# --------------------------------------------------------------------------------------------------------------"
   ]
  },
  {
   "cell_type": "markdown",
   "id": "ccf438a3",
   "metadata": {},
   "source": [
    "Simple Calculator\n",
    "Create a simple calculator for additions! \n",
    "Repeatedly ask the user to enter numbers. Each time that the user provides input, this input is first converted to float and then added to a running total (which should start from 0). When the user enters add, the loop stops, and the running total i"
   ]
  },
  {
   "cell_type": "code",
   "execution_count": 16,
   "id": "4bf897f6",
   "metadata": {},
   "outputs": [
    {
     "name": "stdout",
     "output_type": "stream",
     "text": [
      "pleaze input you'r artist's number: 3\n",
      "pleaze input you'r artist's number: add\n",
      "total is 3.0\n"
     ]
    }
   ],
   "source": [
    "total = 0\n",
    "number = input(\"pleaze input you'r artist's number: \")\n",
    "while number != 'add':\n",
    "    total += float(number)\n",
    "    number = input(\"pleaze input you'r artist's number: \")\n",
    "print(f'total is {total}')"
   ]
  },
  {
   "cell_type": "markdown",
   "id": "68031f34",
   "metadata": {},
   "source": [
    "# --------------------------------------------------------------------------------------------------------------"
   ]
  },
  {
   "cell_type": "markdown",
   "id": "0c51ec52",
   "metadata": {},
   "source": [
    "We want you to write a program that works as follows:\n",
    "First, show the user the following statement that includes the options that the user can choose.\n",
    "\n",
    "Options:\n",
    "       0      Quit\n",
    "       1      Check if I know you\n",
    "       2      Introduce yourself to me\n",
    "       3      Make me forget you\n",
    "       4      Print a list of people I know   \n",
    "Next, get input as an option from the user.  (get input from the user until the user give 0 as input)\n",
    "\n",
    "If the user selects option 0, tell the user bye! and quit the program.\n",
    "If the user selects option 1,  get the user's name as input. if it was in namelist tell the user I know you! :D. otherwise, tell I don't know you :/\n",
    "If the user selects option 2, get the user's name as  input, if it was in namelist` tell the user  I knew you already.\n",
    "otherwise, add it to namelist and tell the user Now I know you!\n",
    "If the user selects option 3, get the user's name as  input, if it was in namelist , remove it and tell the user Now I don't know you.. otherwise, tell I already didn't know you \n",
    " \n",
    "If the user selects option 4. show the usernames in namelist  to him/her"
   ]
  },
  {
   "cell_type": "code",
   "execution_count": 39,
   "id": "3b303108",
   "metadata": {},
   "outputs": [
    {
     "name": "stdout",
     "output_type": "stream",
     "text": [
      "0- Quit\n",
      "1-Check if I know you\n",
      "2-Introduce yourself to me\n",
      "3-Make me forget you\n",
      "4-Print a list of people I know\n"
     ]
    }
   ],
   "source": [
    "option = {\n",
    "        0   :  ' Quit',\n",
    "        1   :   'Check if I know you',\n",
    "        2   :   'Introduce yourself to me',\n",
    "        3   :   'Make me forget you',\n",
    "        4   :  'Print a list of people I know',\n",
    "}\n",
    "option_list = '\\n'.join([f'{key}-{value}' for key, value in option.items()])\n",
    "print(option_list)"
   ]
  },
  {
   "cell_type": "code",
   "execution_count": 40,
   "id": "bdffffff",
   "metadata": {},
   "outputs": [
    {
     "name": "stdout",
     "output_type": "stream",
     "text": [
      "^C\n"
     ]
    }
   ],
   "source": [
    "!"
   ]
  },
  {
   "cell_type": "code",
   "execution_count": 38,
   "id": "5dd56b86",
   "metadata": {},
   "outputs": [
    {
     "name": "stdout",
     "output_type": "stream",
     "text": [
      "pleaze input you'r number in \n",
      " 0- Quit\n",
      "1-Check if I know you\n",
      "2-Introduce yourself to me\n",
      "3-Make me forget you\n",
      "4-Print a list of people I know\n",
      ":1\n",
      "pleaze input you'r artist's name: 1\n",
      "I don't  know you! 1 :(.\n",
      "\n",
      "pleaze input you'r number in \n",
      " 0- Quit\n",
      "1-Check if I know you\n",
      "2-Introduce yourself to me\n",
      "3-Make me forget you\n",
      "4-Print a list of people I know\n",
      ":4\n",
      "I don't know anybody yet.\n"
     ]
    }
   ],
   "source": [
    "\n",
    "namelist = [] \n",
    "\n",
    "number = int(input( f\"pleaze input you'r number in \\n {option_list}\\n:\"))\n",
    "while True:\n",
    "    if number == 0:\n",
    "        print('bye')\n",
    "        break\n",
    "    elif number == 1:\n",
    "        name = input(\"pleaze input you'r artist's name: \")\n",
    "        if name in namelist:\n",
    "            print(f'I know you! {name} :D.\\n')\n",
    "        else:\n",
    "            print(f\"I don't  know you! {name} :(.\\n\")\n",
    "        number = int(input( f\"pleaze input you'r number in \\n {option_list}\\n:\"))\n",
    "    elif number == 2:\n",
    "        name = input(\"pleaze input you'r artist's name: \")\n",
    "        if name in namelist:\n",
    "            print(f'I knew you already {name} :D.\\n')\n",
    "        else:\n",
    "            namelist.append(name)\n",
    "            print(f\"Now I know you! {name}  :D.\\n\")\n",
    "        number = int(input( f\"pleaze input you'r number in \\n {option_list}\\n:\"))\n",
    "    elif number == 3:\n",
    "        name = input(\"pleaze input you'r artist's name: \")\n",
    "        if name in namelist:\n",
    "            namelist.remove(name)\n",
    "            print(\"Now I don't know you..\\n\")\n",
    "        else:\n",
    "            print(\"I already didn't know you\\n\")\n",
    "        number = int(input( f\"pleaze input you'r number in \\n {option_list}\\n:\"))\n",
    "    elif number == 4:\n",
    "        if namelist == []:\n",
    "            print(\"I don't know anybody yet.\")\n",
    "            break\n",
    "        else:\n",
    "            for name in namelist:\n",
    "                print(f\"I know {name}\")\n",
    "                break\n",
    "        "
   ]
  },
  {
   "cell_type": "code",
   "execution_count": null,
   "id": "b3f47142",
   "metadata": {},
   "outputs": [],
   "source": []
  }
 ],
 "metadata": {
  "kernelspec": {
   "display_name": "Python 3 (ipykernel)",
   "language": "python",
   "name": "python3"
  },
  "language_info": {
   "codemirror_mode": {
    "name": "ipython",
    "version": 3
   },
   "file_extension": ".py",
   "mimetype": "text/x-python",
   "name": "python",
   "nbconvert_exporter": "python",
   "pygments_lexer": "ipython3",
   "version": "3.9.12"
  }
 },
 "nbformat": 4,
 "nbformat_minor": 5
}
