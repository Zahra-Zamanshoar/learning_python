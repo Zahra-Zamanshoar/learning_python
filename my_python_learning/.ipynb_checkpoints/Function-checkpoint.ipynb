{
 "cells": [
  {
   "cell_type": "code",
   "execution_count": 1,
   "id": "1aee1f91",
   "metadata": {},
   "outputs": [
    {
     "data": {
      "text/plain": [
       "3"
      ]
     },
     "execution_count": 1,
     "metadata": {},
     "output_type": "execute_result"
    }
   ],
   "source": [
    "x = [1, 2, 3]\n",
    "len(x) #-----> built in function"
   ]
  },
  {
   "cell_type": "code",
   "execution_count": 3,
   "id": "efe45d7f",
   "metadata": {},
   "outputs": [
    {
     "data": {
      "text/plain": [
       "True"
      ]
     },
     "execution_count": 3,
     "metadata": {},
     "output_type": "execute_result"
    }
   ],
   "source": [
    "any([False, True, False])"
   ]
  },
  {
   "cell_type": "code",
   "execution_count": 4,
   "id": "0d72dccd",
   "metadata": {},
   "outputs": [
    {
     "data": {
      "text/plain": [
       "2580391752192"
      ]
     },
     "execution_count": 4,
     "metadata": {},
     "output_type": "execute_result"
    }
   ],
   "source": [
    "id(x)"
   ]
  },
  {
   "cell_type": "code",
   "execution_count": 6,
   "id": "42bfe7e2",
   "metadata": {},
   "outputs": [],
   "source": [
    "def i(name, age): #formal parameters\n",
    "    return print(f'{name} has {age}')"
   ]
  },
  {
   "cell_type": "code",
   "execution_count": 7,
   "id": "594fa3f1",
   "metadata": {},
   "outputs": [
    {
     "name": "stdout",
     "output_type": "stream",
     "text": [
      "zahra has 12\n"
     ]
    }
   ],
   "source": [
    "i('zahra', 12)#------> positional argument \n",
    "#----> actual parametersه"
   ]
  },
  {
   "cell_type": "code",
   "execution_count": 8,
   "id": "06632357",
   "metadata": {},
   "outputs": [
    {
     "ename": "SyntaxError",
     "evalue": "positional argument follows keyword argument (3216156126.py, line 1)",
     "output_type": "error",
     "traceback": [
      "\u001b[1;36m  Cell \u001b[1;32mIn [8], line 1\u001b[1;36m\u001b[0m\n\u001b[1;33m    i(name = 'z', 12)\u001b[0m\n\u001b[1;37m                    ^\u001b[0m\n\u001b[1;31mSyntaxError\u001b[0m\u001b[1;31m:\u001b[0m positional argument follows keyword argument\n"
     ]
    }
   ],
   "source": [
    "i(name = 'z', 12) #--->positional argument follows keyword argument"
   ]
  },
  {
   "cell_type": "code",
   "execution_count": 11,
   "id": "728b74c1",
   "metadata": {},
   "outputs": [
    {
     "name": "stdout",
     "output_type": "stream",
     "text": [
      "z has 12\n"
     ]
    }
   ],
   "source": [
    "i('z', age= 12)"
   ]
  },
  {
   "cell_type": "code",
   "execution_count": 1,
   "id": "7e3c014a",
   "metadata": {},
   "outputs": [],
   "source": [
    "def f(l=[]): #--------> mutable Defult parameter\n",
    "    l.append('#')\n",
    "    print(l)"
   ]
  },
  {
   "cell_type": "code",
   "execution_count": 2,
   "id": "946e4982",
   "metadata": {},
   "outputs": [
    {
     "name": "stdout",
     "output_type": "stream",
     "text": [
      "['#']\n"
     ]
    }
   ],
   "source": [
    "f()"
   ]
  },
  {
   "cell_type": "code",
   "execution_count": 3,
   "id": "7c0033ca",
   "metadata": {},
   "outputs": [
    {
     "name": "stdout",
     "output_type": "stream",
     "text": [
      "['#', '#']\n"
     ]
    }
   ],
   "source": [
    "f()"
   ]
  },
  {
   "cell_type": "code",
   "execution_count": 4,
   "id": "52840dd0",
   "metadata": {},
   "outputs": [
    {
     "name": "stdout",
     "output_type": "stream",
     "text": [
      "['#', '#', '#']\n"
     ]
    }
   ],
   "source": [
    "f()"
   ]
  },
  {
   "cell_type": "code",
   "execution_count": 5,
   "id": "38475b1c",
   "metadata": {},
   "outputs": [
    {
     "name": "stdout",
     "output_type": "stream",
     "text": [
      "['#', '#', '#', '#']\n"
     ]
    }
   ],
   "source": [
    "f()"
   ]
  },
  {
   "cell_type": "code",
   "execution_count": 6,
   "id": "10cc49ef",
   "metadata": {},
   "outputs": [],
   "source": [
    "def f_non(l=None):\n",
    "    if l is None:\n",
    "        l = []\n",
    "    l.append('#')\n",
    "    print(l)"
   ]
  },
  {
   "cell_type": "code",
   "execution_count": 8,
   "id": "5a0db9dd",
   "metadata": {},
   "outputs": [
    {
     "name": "stdout",
     "output_type": "stream",
     "text": [
      "['#']\n"
     ]
    }
   ],
   "source": [
    "f_non()"
   ]
  },
  {
   "cell_type": "code",
   "execution_count": 9,
   "id": "e2a79a43",
   "metadata": {},
   "outputs": [
    {
     "name": "stdout",
     "output_type": "stream",
     "text": [
      "['#']\n"
     ]
    }
   ],
   "source": [
    "f_non()"
   ]
  },
  {
   "cell_type": "code",
   "execution_count": 10,
   "id": "4e398ac3",
   "metadata": {},
   "outputs": [
    {
     "name": "stdout",
     "output_type": "stream",
     "text": [
      "['#']\n"
     ]
    }
   ],
   "source": [
    "f_non()"
   ]
  },
  {
   "cell_type": "code",
   "execution_count": null,
   "id": "fc38e357",
   "metadata": {},
   "outputs": [],
   "source": []
  }
 ],
 "metadata": {
  "kernelspec": {
   "display_name": "Python 3 (ipykernel)",
   "language": "python",
   "name": "python3"
  },
  "language_info": {
   "codemirror_mode": {
    "name": "ipython",
    "version": 3
   },
   "file_extension": ".py",
   "mimetype": "text/x-python",
   "name": "python",
   "nbconvert_exporter": "python",
   "pygments_lexer": "ipython3",
   "version": "3.10.7"
  }
 },
 "nbformat": 4,
 "nbformat_minor": 5
}
