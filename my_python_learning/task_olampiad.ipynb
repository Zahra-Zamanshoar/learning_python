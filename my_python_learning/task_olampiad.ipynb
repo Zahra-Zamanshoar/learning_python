{
 "cells": [
  {
   "cell_type": "markdown",
   "id": "28a8a7ed",
   "metadata": {},
   "source": [
    "# Task_olampiad"
   ]
  },
  {
   "cell_type": "markdown",
   "id": "bb48f219",
   "metadata": {},
   "source": [
    "احمد در حال ارسال لیست نهایی اسامی قبول شدگان المپیاد کامپیوتر برای کمیته‌ی بررسی نتایج می‌باشد تا کمیته بتواند کارت‌های ورود به مسابقات نهایی را چاپ کند ولی به دلیل آنکه قالب مشخصی برای ثبت نام اسامی در هنگام آزمون تعریف نشده بود، شرکت کننده‌ها به صورت استاندارد اسامی خود را ننوشته‌اند به علاوه در ادامه‌­ی هر اسم زبانی که با آن در مسابقات شرکت شده است، نوشته شده است و در ابتدای هر اسم نیز جنسیت افراد مشخص شده است. فرم استاندارد اسامی به این صورت می‌باشد که حرف اول اسم بزرگ می­‌باشد و بقیه حروف اسم کوچک باشد. برنامه‌ای بنویسید که تعداد و اسم و جنسیت و زبان قبول شدگان را از ورودی بخواند و بر اساس جنسیت اسامی را تفکیک کند و آن‌ها را استاندارد سازی کند و جلوی هر اسم زبانی که با آن در مسابقات شرکت کرده است را بنویسد. (در خروجی در ابتدا جنسیت زن و سپس جنسیت مرد چاپ شود. اسامی در هر جنسیت به ترتیب الفبای انگلیسی چاپ شوند.)\n",
    "\n",
    "توجه: چنانچه قصد دارید از دیکشنری در حل مسائل خود استفاده کنید، به این نکته توجه کنید که دیکشنری ترتیب را حفظ نمی‌کند.\n",
    "\n",
    "ورودی نمونه:\n",
    "\n",
    "4\n",
    "m.hosSein.python\n",
    "f.miNa.C\n",
    "m.aHMad.C++\n",
    "f.Sara.java\n",
    "خروجی نمونه:\n",
    "\n",
    "f Mina C\n",
    "f Sara java\n",
    "m Ahmad C++\n",
    "m Hossein python\n",
    "توجه: چنانچه قصد دارید از دیکشنری در حل مسائل خود استفاده کنید، به این نکته توجه کنید که دیکشنری ترتیب را حفظ نمی‌کند.\n"
   ]
  },
  {
   "cell_type": "code",
   "execution_count": 39,
   "id": "6da9b164",
   "metadata": {},
   "outputs": [
    {
     "data": {
      "text/plain": [
       "[['f', 'Mina', 'C'],\n",
       " ['f', 'Sara', 'java'],\n",
       " ['m', 'Ahmad', 'C++'],\n",
       " ['m', 'Hossein', 'python']]"
      ]
     },
     "execution_count": 39,
     "metadata": {},
     "output_type": "execute_result"
    }
   ],
   "source": [
    "\n",
    "lst = []\n",
    "lst_ = []\n",
    "#read list olampiad\n",
    "with open('list_olampiad') as file:\n",
    "    data = file.readlines()\n",
    "    for item in data:\n",
    "        #to disappear \\n\n",
    "        item = item.strip()\n",
    "        #to split by '.'\n",
    "        clean = item.split('.')\n",
    "        #sentence case\n",
    "        lower = clean[1][1:].lower()\n",
    "        upper = clean[1][0].upper()\n",
    "        #sentence case\n",
    "        clean[1] = upper + lower\n",
    "        #Separation of men and women\n",
    "        if clean[0] == 'f':  \n",
    "            lst.append(clean)\n",
    "            #Sort by alphabetical order of nouns\n",
    "            lst.sort(key=lambda l:l[1])\n",
    "        else:\n",
    "            lst_.append(clean)\n",
    "            #Sort by alphabetical order of nouns\n",
    "            lst_.sort(key=lambda l:l[1])\n",
    "lst = lst + lst_\n",
    "\n",
    "lst"
   ]
  },
  {
   "cell_type": "code",
   "execution_count": 30,
   "id": "96d844c9",
   "metadata": {},
   "outputs": [
    {
     "data": {
      "text/plain": [
       "'HosSein'"
      ]
     },
     "execution_count": 30,
     "metadata": {},
     "output_type": "execute_result"
    }
   ],
   "source": [
    "a =['m', 'hosSein', 'python']\n",
    "a[1][0].upper() + a[1][1:]"
   ]
  }
 ],
 "metadata": {
  "kernelspec": {
   "display_name": "Python 3 (ipykernel)",
   "language": "python",
   "name": "python3"
  },
  "language_info": {
   "codemirror_mode": {
    "name": "ipython",
    "version": 3
   },
   "file_extension": ".py",
   "mimetype": "text/x-python",
   "name": "python",
   "nbconvert_exporter": "python",
   "pygments_lexer": "ipython3",
   "version": "3.10.7"
  }
 },
 "nbformat": 4,
 "nbformat_minor": 5
}
