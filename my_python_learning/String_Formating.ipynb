{
 "cells": [
  {
   "cell_type": "code",
   "execution_count": 1,
   "id": "3e0724b7",
   "metadata": {},
   "outputs": [
    {
     "ename": "NameError",
     "evalue": "name 'template' is not defined",
     "output_type": "error",
     "traceback": [
      "\u001b[1;31m---------------------------------------------------------------------------\u001b[0m",
      "\u001b[1;31mNameError\u001b[0m                                 Traceback (most recent call last)",
      "Cell \u001b[1;32mIn [1], line 1\u001b[0m\n\u001b[1;32m----> 1\u001b[0m template\u001b[38;5;241m.\u001b[39mformat()\n",
      "\u001b[1;31mNameError\u001b[0m: name 'template' is not defined"
     ]
    }
   ],
   "source": [
    "template.format()"
   ]
  },
  {
   "cell_type": "code",
   "execution_count": 3,
   "id": "05a7b79d",
   "metadata": {},
   "outputs": [
    {
     "data": {
      "text/plain": [
       "'ali'"
      ]
     },
     "execution_count": 3,
     "metadata": {},
     "output_type": "execute_result"
    }
   ],
   "source": [
    "\"{}\".format('ali')"
   ]
  },
  {
   "cell_type": "code",
   "execution_count": 8,
   "id": "a6662400",
   "metadata": {},
   "outputs": [
    {
     "name": "stdout",
     "output_type": "stream",
     "text": [
      "6 ta banana is 20 tooman\n",
      "5 ta zahra is 30 tooman\n"
     ]
    }
   ],
   "source": [
    "product = [\n",
    "    (6, 'banana', 20),\n",
    "    (5, 'zahra', 30),\n",
    "]\n",
    "for p in product:\n",
    "    print('{} ta {} is {} tooman'.format(p[0], p[1], p[2]))"
   ]
  },
  {
   "cell_type": "code",
   "execution_count": 9,
   "id": "92220dd0",
   "metadata": {},
   "outputs": [
    {
     "data": {
      "text/plain": [
       "2.0"
      ]
     },
     "execution_count": 9,
     "metadata": {},
     "output_type": "execute_result"
    }
   ],
   "source": [
    "z = 2 + 3j\n",
    "z.real"
   ]
  },
  {
   "cell_type": "code",
   "execution_count": 10,
   "id": "1faccdfc",
   "metadata": {},
   "outputs": [
    {
     "data": {
      "text/plain": [
       "3.0"
      ]
     },
     "execution_count": 10,
     "metadata": {},
     "output_type": "execute_result"
    }
   ],
   "source": [
    "z.imag"
   ]
  },
  {
   "cell_type": "code",
   "execution_count": 12,
   "id": "6a1d59a4",
   "metadata": {},
   "outputs": [
    {
     "data": {
      "text/plain": [
       "'real = 2.0, image = 3.0'"
      ]
     },
     "execution_count": 12,
     "metadata": {},
     "output_type": "execute_result"
    }
   ],
   "source": [
    "'real = {0.real}, image = {0.imag}'.format(z)"
   ]
  },
  {
   "cell_type": "code",
   "execution_count": 13,
   "id": "83d0692d",
   "metadata": {},
   "outputs": [
    {
     "data": {
      "text/plain": [
       "'zahra'"
      ]
     },
     "execution_count": 13,
     "metadata": {},
     "output_type": "execute_result"
    }
   ],
   "source": [
    "str('zahra')"
   ]
  },
  {
   "cell_type": "code",
   "execution_count": 15,
   "id": "d36711f5",
   "metadata": {},
   "outputs": [
    {
     "data": {
      "text/plain": [
       "\"'zahra'\""
      ]
     },
     "execution_count": 15,
     "metadata": {},
     "output_type": "execute_result"
    }
   ],
   "source": [
    "repr('zahra')"
   ]
  },
  {
   "cell_type": "code",
   "execution_count": 16,
   "id": "83b6e391",
   "metadata": {},
   "outputs": [
    {
     "data": {
      "text/plain": [
       "\"'zahra'\""
      ]
     },
     "execution_count": 16,
     "metadata": {},
     "output_type": "execute_result"
    }
   ],
   "source": [
    "ascii('zahra')"
   ]
  },
  {
   "cell_type": "code",
   "execution_count": 23,
   "id": "8c6a5a49",
   "metadata": {},
   "outputs": [
    {
     "name": "stdout",
     "output_type": "stream",
     "text": [
      "name is : zahra\n"
     ]
    }
   ],
   "source": [
    "name = 'zahra'\n",
    "print('name is : {0!s}'.format(name))## with ! cimponent conversion"
   ]
  },
  {
   "cell_type": "code",
   "execution_count": 22,
   "id": "5e946ef1",
   "metadata": {},
   "outputs": [
    {
     "name": "stdout",
     "output_type": "stream",
     "text": [
      "name is : 'zahra'\n"
     ]
    }
   ],
   "source": [
    "name = 'zahra'\n",
    "print('name is : {0!r}'.format(name))"
   ]
  },
  {
   "cell_type": "code",
   "execution_count": 21,
   "id": "0ea687a5",
   "metadata": {},
   "outputs": [
    {
     "data": {
      "text/plain": [
       "\"name is : 'zahra'\""
      ]
     },
     "execution_count": 21,
     "metadata": {},
     "output_type": "execute_result"
    }
   ],
   "source": [
    "name = 'zahra'\n",
    "'name is : {0!a}'.format(name)"
   ]
  },
  {
   "cell_type": "code",
   "execution_count": 25,
   "id": "f463c063",
   "metadata": {},
   "outputs": [
    {
     "data": {
      "text/plain": [
       "'200.000000%'"
      ]
     },
     "execution_count": 25,
     "metadata": {},
     "output_type": "execute_result"
    }
   ],
   "source": [
    "name = 'zahra'\n",
    "'{:%}'.format(2)## with : cimponent format specification"
   ]
  },
  {
   "cell_type": "code",
   "execution_count": 29,
   "id": "51e9055f",
   "metadata": {},
   "outputs": [
    {
     "data": {
      "text/plain": [
       "'283     '"
      ]
     },
     "execution_count": 29,
     "metadata": {},
     "output_type": "execute_result"
    }
   ],
   "source": [
    "'{:<8}'.format(283)"
   ]
  },
  {
   "cell_type": "code",
   "execution_count": 30,
   "id": "c5d31693",
   "metadata": {},
   "outputs": [
    {
     "data": {
      "text/plain": [
       "'     283'"
      ]
     },
     "execution_count": 30,
     "metadata": {},
     "output_type": "execute_result"
    }
   ],
   "source": [
    "'{:>8}'.format(283)"
   ]
  },
  {
   "cell_type": "code",
   "execution_count": 31,
   "id": "5ecccce3",
   "metadata": {},
   "outputs": [
    {
     "data": {
      "text/plain": [
       "'*****283'"
      ]
     },
     "execution_count": 31,
     "metadata": {},
     "output_type": "execute_result"
    }
   ],
   "source": [
    "'{:*>8}'.format(283)"
   ]
  },
  {
   "cell_type": "code",
   "execution_count": 33,
   "id": "70933fe1",
   "metadata": {},
   "outputs": [
    {
     "data": {
      "text/plain": [
       "'283#####'"
      ]
     },
     "execution_count": 33,
     "metadata": {},
     "output_type": "execute_result"
    }
   ],
   "source": [
    "'{:#<8}'.format(283)"
   ]
  },
  {
   "cell_type": "code",
   "execution_count": 36,
   "id": "64d1b20c",
   "metadata": {},
   "outputs": [],
   "source": [
    "dictionary = {\n",
    "    'zahra': 21,\n",
    "    'pooya': 29,\n",
    "    'fereshteh': 20\n",
    "}"
   ]
  },
  {
   "cell_type": "code",
   "execution_count": 38,
   "id": "845fc13d",
   "metadata": {},
   "outputs": [
    {
     "name": "stdout",
     "output_type": "stream",
     "text": [
      "zahra      21\n",
      "pooya      29\n",
      "fereshteh  20\n"
     ]
    }
   ],
   "source": [
    "for key, value in dictionary.items():\n",
    "    print('{:10} {}'.format(key, value))"
   ]
  },
  {
   "cell_type": "code",
   "execution_count": null,
   "id": "dc3c705a",
   "metadata": {},
   "outputs": [],
   "source": []
  }
 ],
 "metadata": {
  "kernelspec": {
   "display_name": "Python 3 (ipykernel)",
   "language": "python",
   "name": "python3"
  },
  "language_info": {
   "codemirror_mode": {
    "name": "ipython",
    "version": 3
   },
   "file_extension": ".py",
   "mimetype": "text/x-python",
   "name": "python",
   "nbconvert_exporter": "python",
   "pygments_lexer": "ipython3",
   "version": "3.10.7"
  }
 },
 "nbformat": 4,
 "nbformat_minor": 5
}
