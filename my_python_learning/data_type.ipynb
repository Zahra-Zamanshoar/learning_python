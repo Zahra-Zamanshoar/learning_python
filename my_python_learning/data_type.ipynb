{
 "cells": [
  {
   "cell_type": "code",
   "execution_count": 1,
   "id": "e7aeb9b2",
   "metadata": {},
   "outputs": [],
   "source": [
    "zahra = 'zahra'"
   ]
  },
  {
   "cell_type": "code",
   "execution_count": 2,
   "id": "020830a1",
   "metadata": {},
   "outputs": [
    {
     "data": {
      "text/plain": [
       "True"
      ]
     },
     "execution_count": 2,
     "metadata": {},
     "output_type": "execute_result"
    }
   ],
   "source": [
    "zahra[:] is zahra"
   ]
  },
  {
   "cell_type": "code",
   "execution_count": 3,
   "id": "a97631fd",
   "metadata": {},
   "outputs": [],
   "source": [
    "zahra = []"
   ]
  },
  {
   "cell_type": "code",
   "execution_count": 4,
   "id": "0508633d",
   "metadata": {},
   "outputs": [
    {
     "data": {
      "text/plain": [
       "False"
      ]
     },
     "execution_count": 4,
     "metadata": {},
     "output_type": "execute_result"
    }
   ],
   "source": [
    "zahra[:] is zahra ----> #make a copy"
   ]
  },
  {
   "cell_type": "code",
   "execution_count": 5,
   "id": "d56ea00c",
   "metadata": {},
   "outputs": [],
   "source": [
    "import sys"
   ]
  },
  {
   "cell_type": "code",
   "execution_count": 6,
   "id": "38212d7e",
   "metadata": {},
   "outputs": [
    {
     "data": {
      "text/plain": [
       "56"
      ]
     },
     "execution_count": 6,
     "metadata": {},
     "output_type": "execute_result"
    }
   ],
   "source": [
    "sys.getsizeof([])"
   ]
  },
  {
   "cell_type": "code",
   "execution_count": 14,
   "id": "324d2ca0",
   "metadata": {},
   "outputs": [
    {
     "name": "stdout",
     "output_type": "stream",
     "text": [
      "1>>>>88\n",
      "2>>>>88\n",
      "3>>>>88\n",
      "4>>>>88\n",
      "5>>>>120\n",
      "6>>>>120\n",
      "7>>>>120\n",
      "8>>>>120\n",
      "9>>>>184\n",
      "10>>>>184\n"
     ]
    }
   ],
   "source": [
    "lst = []\n",
    "for item in range(10):\n",
    "    lst.append(item)\n",
    "    capacity = sys.getsizeof(lst)\n",
    "    len_ = len(lst)\n",
    "    print(f'{len_}>>>>{capacity}')"
   ]
  },
  {
   "cell_type": "code",
   "execution_count": 20,
   "id": "7792ab3d",
   "metadata": {},
   "outputs": [],
   "source": [
    "x = 1 ; z = 2 ; f = 3 #----> not good"
   ]
  },
  {
   "cell_type": "code",
   "execution_count": 21,
   "id": "3a72ac0b",
   "metadata": {},
   "outputs": [],
   "source": [
    "x, z, f = 1, 2, 3 "
   ]
  },
  {
   "cell_type": "code",
   "execution_count": null,
   "id": "03f5227f",
   "metadata": {},
   "outputs": [],
   "source": []
  }
 ],
 "metadata": {
  "kernelspec": {
   "display_name": "Python 3 (ipykernel)",
   "language": "python",
   "name": "python3"
  },
  "language_info": {
   "codemirror_mode": {
    "name": "ipython",
    "version": 3
   },
   "file_extension": ".py",
   "mimetype": "text/x-python",
   "name": "python",
   "nbconvert_exporter": "python",
   "pygments_lexer": "ipython3",
   "version": "3.10.5"
  }
 },
 "nbformat": 4,
 "nbformat_minor": 5
}
