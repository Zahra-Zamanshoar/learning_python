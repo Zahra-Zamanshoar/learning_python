{
 "cells": [
  {
   "cell_type": "markdown",
   "id": "2d080665",
   "metadata": {},
   "source": [
    "# My Practice\n",
    "1.[List](#list)\n",
    "\n",
    "2.[Function](#function)\n",
    "\n",
    "3.[string](#function)"
   ]
  },
  {
   "cell_type": "markdown",
   "id": "49b73ca1",
   "metadata": {},
   "source": [
    "<a id=\"list\"></a>\n",
    "### list"
   ]
  },
  {
   "cell_type": "code",
   "execution_count": 3,
   "id": "1030648d",
   "metadata": {},
   "outputs": [],
   "source": [
    "lst_1 = [-10, 222, 3, 400]\n",
    "lst_2 = [5, 6, 7, 8]"
   ]
  },
  {
   "cell_type": "code",
   "execution_count": null,
   "id": "8cbe34bd",
   "metadata": {},
   "outputs": [],
   "source": [
    "for i in lst_1:\n",
    "    a = i + lst_2[lst_1.index(i)]\n",
    "    b=print(a)\n",
    "    "
   ]
  },
  {
   "cell_type": "code",
   "execution_count": null,
   "id": "4083fe14",
   "metadata": {},
   "outputs": [],
   "source": [
    "lst_1[1]"
   ]
  },
  {
   "cell_type": "code",
   "execution_count": null,
   "id": "4fdace86",
   "metadata": {},
   "outputs": [],
   "source": [
    "range(4)"
   ]
  },
  {
   "cell_type": "code",
   "execution_count": null,
   "id": "9e446996",
   "metadata": {},
   "outputs": [],
   "source": [
    "lst_1.index(0)"
   ]
  },
  {
   "cell_type": "code",
   "execution_count": null,
   "id": "1806d962",
   "metadata": {},
   "outputs": [],
   "source": [
    "for i in range(4):\n",
    "    a = lst_1[i]+ lst_2[i]\n",
    "    b= print(a)\n",
    "b    "
   ]
  },
  {
   "cell_type": "code",
   "execution_count": null,
   "id": "ee3610ca",
   "metadata": {},
   "outputs": [],
   "source": [
    "list_ =[1, 4, 9, 16, 25, 36]\n",
    "for t in list_:\n",
    "    print(t + 10)"
   ]
  },
  {
   "cell_type": "code",
   "execution_count": null,
   "id": "f15e0487",
   "metadata": {},
   "outputs": [],
   "source": [
    "print(range(4))"
   ]
  },
  {
   "cell_type": "code",
   "execution_count": null,
   "id": "98d475b2",
   "metadata": {},
   "outputs": [],
   "source": [
    "print(range(0,4))"
   ]
  },
  {
   "cell_type": "code",
   "execution_count": null,
   "id": "077f21d4",
   "metadata": {},
   "outputs": [],
   "source": [
    "list(range(4))"
   ]
  },
  {
   "cell_type": "code",
   "execution_count": null,
   "id": "cd7646be",
   "metadata": {},
   "outputs": [],
   "source": [
    "lst = ['11', 'pooya', '10', '10.5']\n",
    "n=[1,2,3,4,5,6,7,8,9,0]\n",
    "for i in lst:\n",
    "    for ch in i:\n",
    "        if i in n:\n",
    "            a = print(i)\n",
    "        else:\n",
    "            b = print(i)\n",
    "a    "
   ]
  },
  {
   "cell_type": "code",
   "execution_count": null,
   "id": "7b91a746",
   "metadata": {},
   "outputs": [],
   "source": [
    "list =['11','pooya','10','15.5','12','23','45','reza','65.5','65','hamid']\n",
    "lst2 =['a', 'b', 'c', 'd', 'e', 'f', 'g', 'h', 'k', 'l', 'm', 'n','o', 'p', 'q', 'r','s', 't', 'u', 'v', 'x', 'w', 'y', 'z']\n",
    "for x in list:\n",
    "    if x[0] in lst2:\n",
    "        continue\n",
    "    elif '.' in x:\n",
    "        continue\n",
    "    else:\n",
    "        print(x)"
   ]
  },
  {
   "cell_type": "code",
   "execution_count": null,
   "id": "1f44be96",
   "metadata": {},
   "outputs": [],
   "source": [
    "for x in list:\n",
    "    a = print(x[0])\n",
    "a    "
   ]
  },
  {
   "cell_type": "code",
   "execution_count": null,
   "id": "e71ee06b",
   "metadata": {},
   "outputs": [],
   "source": [
    "a = \"11\"\n",
    "for i in a:\n",
    "    b =print(i[0]) \n",
    "b"
   ]
  },
  {
   "cell_type": "code",
   "execution_count": 4,
   "id": "97f541c3",
   "metadata": {},
   "outputs": [
    {
     "name": "stdout",
     "output_type": "stream",
     "text": [
      "1\n",
      "1\n",
      "\n",
      "None\n"
     ]
    }
   ],
   "source": [
    "a = \"11\"\n",
    "for i in a:\n",
    "    b =print(i[0]) \n",
    "print(print())"
   ]
  },
  {
   "cell_type": "code",
   "execution_count": null,
   "id": "4cedc9da",
   "metadata": {},
   "outputs": [],
   "source": [
    "a = 'pooya'\n",
    "a[0]"
   ]
  },
  {
   "cell_type": "code",
   "execution_count": null,
   "id": "e3b0a7f8",
   "metadata": {},
   "outputs": [],
   "source": [
    "print('1')"
   ]
  },
  {
   "cell_type": "code",
   "execution_count": null,
   "id": "d154b1bb",
   "metadata": {},
   "outputs": [],
   "source": [
    "c =1"
   ]
  },
  {
   "cell_type": "code",
   "execution_count": null,
   "id": "7d20e18e",
   "metadata": {},
   "outputs": [],
   "source": [
    "type (c)"
   ]
  },
  {
   "cell_type": "code",
   "execution_count": null,
   "id": "f1fd49a1",
   "metadata": {},
   "outputs": [],
   "source": [
    "b = print(1)"
   ]
  },
  {
   "cell_type": "code",
   "execution_count": null,
   "id": "9b0a3e25",
   "metadata": {},
   "outputs": [],
   "source": [
    "type(b)"
   ]
  },
  {
   "cell_type": "code",
   "execution_count": null,
   "id": "905b3a57",
   "metadata": {},
   "outputs": [],
   "source": [
    "lst = ['11', 'pooya', '10', '10.5']\n",
    "n=['1','2','3','4','5','6','7','8','9','0']\n",
    "res=[]\n",
    "for i in lst:\n",
    "    for ch in i:\n",
    "        if i  not in n:\n",
    "            continue\n",
    "        else:\n",
    "            res.append(i)\n",
    "res        "
   ]
  },
  {
   "cell_type": "code",
   "execution_count": null,
   "id": "6665efbc",
   "metadata": {},
   "outputs": [],
   "source": [
    "lst = ['11', 'pooya', '10', '10.5']\n",
    "# n=['1','2','3','4','5','6','7','8','9','0']\n",
    "res=[]\n",
    "for i in lst:\n",
    "    for ch in i:\n",
    "        if i  not in '1234567890':\n",
    "            continue\n",
    "        else:\n",
    "            res.append(i)"
   ]
  },
  {
   "cell_type": "code",
   "execution_count": null,
   "id": "8ca58d1e",
   "metadata": {},
   "outputs": [],
   "source": [
    "lst = []\n",
    "if lst: # recommended\n",
    "    print(lst[0])"
   ]
  },
  {
   "cell_type": "code",
   "execution_count": null,
   "id": "7990ff4d",
   "metadata": {},
   "outputs": [],
   "source": [
    "lst = ['11', 'pooya', '10', '10.5', \"32K232\", \"0\"]\n",
    "res=[]\n",
    "\n",
    "for i in lst:\n",
    "    zahra = True\n",
    "    for j in i :\n",
    "            if j   not in  '0123456789':\n",
    "                zahra=False\n",
    "                break\n",
    "    if zahra:\n",
    "        res.append(i)\n",
    "\n",
    "res            \n"
   ]
  },
  {
   "cell_type": "markdown",
   "id": "edd78e33",
   "metadata": {},
   "source": [
    "<a id=\"function\"></a>\n",
    "### Function"
   ]
  },
  {
   "cell_type": "code",
   "execution_count": 2,
   "id": "b517859c",
   "metadata": {},
   "outputs": [
    {
     "name": "stdout",
     "output_type": "stream",
     "text": [
      "None\n"
     ]
    }
   ],
   "source": [
    "# When the function does not return\n",
    "def zahra(*args):\n",
    "    for arg in args:\n",
    "        arg = float(arg)\n",
    "        arg = arg ** arg\n",
    "#     print(arg)\n",
    "b =zahra(2,3)\n",
    "print (b)"
   ]
  },
  {
   "cell_type": "code",
   "execution_count": null,
   "id": "2b778385",
   "metadata": {},
   "outputs": [],
   "source": [
    "def zahra(z):\n",
    "    print(z)"
   ]
  },
  {
   "cell_type": "code",
   "execution_count": null,
   "id": "3629153b",
   "metadata": {},
   "outputs": [],
   "source": [
    "b = zahra('1')"
   ]
  },
  {
   "cell_type": "code",
   "execution_count": null,
   "id": "6bdeb9ab",
   "metadata": {},
   "outputs": [],
   "source": [
    "type(b)"
   ]
  },
  {
   "cell_type": "code",
   "execution_count": null,
   "id": "91074489",
   "metadata": {},
   "outputs": [],
   "source": [
    "def zahra(z):\n",
    "    print(z)\n",
    "    return z"
   ]
  },
  {
   "cell_type": "code",
   "execution_count": null,
   "id": "3cc53cb3",
   "metadata": {},
   "outputs": [],
   "source": [
    "c = zahra('1')"
   ]
  },
  {
   "cell_type": "code",
   "execution_count": null,
   "id": "84078713",
   "metadata": {},
   "outputs": [],
   "source": [
    "type(c)"
   ]
  },
  {
   "cell_type": "code",
   "execution_count": 7,
   "id": "4db4c5f0",
   "metadata": {},
   "outputs": [
    {
     "name": "stdout",
     "output_type": "stream",
     "text": [
      "<class 'tuple'>\n",
      "hello\n",
      "dear\n",
      "friends\n",
      "pooya\n",
      "menoo\n"
     ]
    },
    {
     "data": {
      "text/plain": [
       "'aai aai'"
      ]
     },
     "execution_count": 7,
     "metadata": {},
     "output_type": "execute_result"
    }
   ],
   "source": [
    "def func(*args): \n",
    "    b = print(type(args))\n",
    "    for arg in args:  \n",
    "        print(arg)\n",
    "func('hello', 'dear', 'friends', 'pooya', 'menoo') \n",
    "b"
   ]
  },
  {
   "cell_type": "code",
   "execution_count": null,
   "id": "7981d421",
   "metadata": {},
   "outputs": [],
   "source": [
    "def zahra(*args):\n",
    "    for i in len(args):\n",
    "        while i<len(args)-1:\n",
    "            arg = arg[i]**arg[i+1]\n",
    "    print (arg )\n",
    "    "
   ]
  },
  {
   "cell_type": "code",
   "execution_count": null,
   "id": "3cd6f7f3",
   "metadata": {},
   "outputs": [],
   "source": [
    "class Bird:\n",
    "\n",
    "    def __init__(self, something):\n",
    "        self.something = something\n",
    "        print(\"Bird is ready\")\n",
    "\n",
    "    def who_is_this_bird(self):\n",
    "        print(\"Bird\")\n",
    "\n",
    "    def swim(self):\n",
    "        print(\"Swim faster\")"
   ]
  },
  {
   "cell_type": "code",
   "execution_count": null,
   "id": "181ed356",
   "metadata": {},
   "outputs": [],
   "source": [
    "class Fereshteh:\n",
    "    def __init__ (self,name=None,age=None):  \n",
    "        self.name = name\n",
    "        self.age = age\n",
    "    def zahra(self,age):\n",
    "        self.age = age\n",
    "        print('hi')"
   ]
  },
  {
   "cell_type": "code",
   "execution_count": null,
   "id": "a64f8b87",
   "metadata": {},
   "outputs": [],
   "source": [
    "class Fereshteh:\n",
    "    def __init__ (self,name):  \n",
    "        self.name = name\n",
    "    @staticmethod    \n",
    "    def zahra(self):\n",
    "         print('hi')"
   ]
  },
  {
   "cell_type": "code",
   "execution_count": null,
   "id": "deecc007",
   "metadata": {},
   "outputs": [],
   "source": [
    "a = Fereshteh('good')\n",
    "a.zahra()"
   ]
  },
  {
   "cell_type": "code",
   "execution_count": null,
   "id": "74012c84",
   "metadata": {},
   "outputs": [],
   "source": [
    "a = Fereshteh('good')\n",
    "a.zahra('zahra')"
   ]
  },
  {
   "cell_type": "code",
   "execution_count": null,
   "id": "99ced5c2",
   "metadata": {},
   "outputs": [],
   "source": [
    "def zahra(*args):\n",
    "    for i in len(args):\n",
    "        while i<len(args)-1:\n",
    "            arg = arg[i]**arg[i+1]\n",
    "    print (arg)\n",
    "b =zahra(2,3)"
   ]
  },
  {
   "cell_type": "markdown",
   "id": "bb4ffc58",
   "metadata": {},
   "source": [
    "### String\n"
   ]
  },
  {
   "cell_type": "code",
   "execution_count": 5,
   "id": "49304edf",
   "metadata": {},
   "outputs": [
    {
     "ename": "NameError",
     "evalue": "name 'z' is not defined",
     "output_type": "error",
     "traceback": [
      "\u001b[1;31m---------------------------------------------------------------------------\u001b[0m",
      "\u001b[1;31mNameError\u001b[0m                                 Traceback (most recent call last)",
      "Input \u001b[1;32mIn [5]\u001b[0m, in \u001b[0;36m<cell line: 4>\u001b[1;34m()\u001b[0m\n\u001b[0;32m      2\u001b[0m b \u001b[38;5;241m=\u001b[39m a[::\u001b[38;5;241m2\u001b[39m]\n\u001b[0;32m      3\u001b[0m c \u001b[38;5;241m=\u001b[39ma[\u001b[38;5;241m1\u001b[39m::\u001b[38;5;241m2\u001b[39m]\n\u001b[1;32m----> 4\u001b[0m \u001b[43mz\u001b[49m(b,c)\n",
      "\u001b[1;31mNameError\u001b[0m: name 'z' is not defined"
     ]
    }
   ],
   "source": [
    "a = 'anahid zamani'\n",
    "b = a[::2]\n",
    "c =a[1::2]\n",
    "z(b,c)"
   ]
  },
  {
   "cell_type": "code",
   "execution_count": 6,
   "id": "2926070b",
   "metadata": {},
   "outputs": [
    {
     "data": {
      "text/plain": [
       "6"
      ]
     },
     "execution_count": 6,
     "metadata": {},
     "output_type": "execute_result"
    }
   ],
   "source": [
    "len(a[1::2])"
   ]
  },
  {
   "cell_type": "code",
   "execution_count": null,
   "id": "65a509e9",
   "metadata": {},
   "outputs": [],
   "source": [
    "a[::2]"
   ]
  }
 ],
 "metadata": {
  "kernelspec": {
   "display_name": "Python 3 (ipykernel)",
   "language": "python",
   "name": "python3"
  },
  "language_info": {
   "codemirror_mode": {
    "name": "ipython",
    "version": 3
   },
   "file_extension": ".py",
   "mimetype": "text/x-python",
   "name": "python",
   "nbconvert_exporter": "python",
   "pygments_lexer": "ipython3",
   "version": "3.9.12"
  }
 },
 "nbformat": 4,
 "nbformat_minor": 5
}
