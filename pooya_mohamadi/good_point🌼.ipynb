{
 "cells": [
  {
   "cell_type": "markdown",
   "id": "6de84dd0",
   "metadata": {},
   "source": [
    "# good point\n",
    "1.[Enumerate](#Enumerate)"
   ]
  },
  {
   "cell_type": "markdown",
   "id": "4352a7cf",
   "metadata": {},
   "source": [
    "<a id=\"Enumerate\"></a>\n",
    "### Enumerate"
   ]
  },
  {
   "cell_type": "code",
   "execution_count": 1,
   "id": "74178cfb",
   "metadata": {},
   "outputs": [
    {
     "name": "stdout",
     "output_type": "stream",
     "text": [
      "0 is mam\n",
      "1 is dad\n"
     ]
    }
   ],
   "source": [
    "lst=['mam','dad']\n",
    "for w,n in enumerate(lst):\n",
    "    print(f\"{w} is {n}\")\n",
    "# Enumerate back index in list     "
   ]
  },
  {
   "cell_type": "code",
   "execution_count": 1,
   "id": "acf9e907",
   "metadata": {},
   "outputs": [
    {
     "name": "stdout",
     "output_type": "stream",
     "text": [
      "the result of \"a in b\" is True\n",
      "the result of a not in b is False\n",
      "the result of \"a is b\" is False\n",
      "the result of \"a is not b\" is True\n",
      "a:  10\n",
      "['Huey', 'Dewey', 'Louie', 'May Duck']\n",
      "['Huey', 'Dewey', 'Louie', 'May Duck', 'May Duck', 'June Duck']\n",
      "['Huey', 'Dewey', 'Louie', 'May Duck', 'May Duck', 'June Duck', ['May Duck', 'June Duck']]\n",
      "['Scrooge McDuck', 'Huey', 'Dewey', 'Louie', 'May Duck', 'May Duck', 'June Duck', ['May Duck', 'June Duck']]\n",
      "['Scrooge McDuck', 'Huey', 'Dewey', 'Louie', 'May Duck', '4']\n",
      "['Huey', 'Dewey', 'Louie', 'May Duck', '4']\n",
      "============\n",
      "wow\n",
      "None means False\n",
      "empty means False\n",
      "1\n",
      "1\n",
      "============\n",
      "10\n",
      "{'Iran': 'Tehran', 'France': 'Paris', 'Italy': 'Rome', 'Germany': 'Berlin', 'United Kingdom': 'London'}\n",
      "True False\n",
      "zero means False\n",
      "wow\n",
      "None means False\n",
      "empty means False\n"
     ]
    }
   ],
   "source": [
    "a = 1\n",
    "b = [1, 2, 3, 6, 5]\n",
    "print('the result of \"a in b\" is {}'.format(a in b))\n",
    "print('the result of a not in b is {}'.format(a not in b))\n",
    "a = None\n",
    "b = (1,2,3,6,5)\n",
    "print('the result of \"a is b\" is {}'.format(a is b))\n",
    "print('the result of \"a is not b\" is {}'.format(a is not b))\n",
    "a = 10\n",
    "print('a: ',a)\n",
    "nephews = [\"Huey\", \"Dewey\", \"Louie\"]\n",
    "nephews.append('May Duck')\n",
    "print(nephews)\n",
    "nephews.extend(['May Duck','June Duck'])\n",
    "print(nephews)\n",
    "nephews.append(['May Duck','June Duck'])\n",
    "print(nephews)\n",
    "nephews.insert(0,'Scrooge McDuck')\n",
    "print(nephews)\n",
    "nephews[-3:] = ['4']\n",
    "print(nephews)\n",
    "nephews.pop(0)\n",
    "print(nephews)\n",
    "print(\"============\")\n",
    "#if 0:\n",
    "    #print('impossible :(')\n",
    "#else:\n",
    "    #print('zero means False')\n",
    "if -0.00000000000001:\n",
    "    print('wow')\n",
    "if None:\n",
    "    print('impossible :(')\n",
    "else:\n",
    "    print('None means False')\n",
    "empty_lst = []\n",
    "if empty_lst:\n",
    "    print('impossible :(')\n",
    "else:\n",
    "    print('empty means False')\n",
    "lst = [1,2,3]\n",
    "if len(lst) != 0: # not recommended\n",
    "    print(lst[0])\n",
    "lst = [1,2,3]\n",
    "if lst: # recommended\n",
    "    print(lst[0])\n",
    "print(\"============\")\n",
    "a_tuple= (10,)\n",
    "#type(a_tuple) == tuple\n",
    "#a_tuple= 10,\n",
    "#type(a_tuple) == tuple\n",
    "#a = set([1,2,3])\n",
    "print(a)\n",
    "capitals = {'Iran': 'Tehran',\n",
    "            'France': 'Paris',\n",
    "            'Italy': 'Rome'}\n",
    "more_capitals = {'Germany': 'Berlin','United Kingdom': 'London'}\n",
    "capitals.update(more_capitals)\n",
    "print(capitals)\n",
    "# how access keys\n",
    "capitals.keys()\n",
    "# how to access both\n",
    "capitals.items()\n",
    "a = [1, 2]\n",
    "b = [1, 2]\n",
    "print(a == b, a is b )\n",
    "if 0:\n",
    "    print('impossible:(')\n",
    "else:\n",
    "    print('zero means False')\n",
    "if -0.00000000000001:\n",
    "    print('wow')\n",
    "if None:\n",
    "    print('impossible :(')\n",
    "else:\n",
    "    print('None means False')\n",
    "empty_lst = []\n",
    "if empty_lst:\n",
    "    print('impossible :(')\n",
    "else:\n",
    "    print('empty means False')\n",
    "range(10)\n",
    "str_to_int = int('20')\n",
    "\n",
    "\n",
    "float_to_int = int(10.36)\n",
    "\n",
    "\n",
    "int_to_float = float(10)\n",
    "\n",
    "\n",
    "int_to_str = str(10)\n",
    "\n",
    "\n",
    "set_to_tuple = tuple({10,20,20,30})\n",
    "\n",
    "\n",
    "tuple_to_set = set((10,20,10))\n",
    "\n",
    "\n",
    "list_to_set = set((10,20,10))\n"
   ]
  },
  {
   "cell_type": "code",
   "execution_count": 4,
   "id": "bf033d67",
   "metadata": {},
   "outputs": [],
   "source": [
    "##get \n",
    "res = dict()\n",
    "name = ' zahraaaaa'\n",
    "for item in name:\n",
    "    if item.lower() == 'a':\n",
    "        res[item] = res.get(item, 0) +1"
   ]
  },
  {
   "cell_type": "code",
   "execution_count": 5,
   "id": "0986e927",
   "metadata": {},
   "outputs": [
    {
     "data": {
      "text/plain": [
       "{'a': 6}"
      ]
     },
     "execution_count": 5,
     "metadata": {},
     "output_type": "execute_result"
    }
   ],
   "source": [
    "res"
   ]
  },
  {
   "cell_type": "code",
   "execution_count": null,
   "id": "69b3395a",
   "metadata": {},
   "outputs": [],
   "source": []
  }
 ],
 "metadata": {
  "kernelspec": {
   "display_name": "Python 3 (ipykernel)",
   "language": "python",
   "name": "python3"
  },
  "language_info": {
   "codemirror_mode": {
    "name": "ipython",
    "version": 3
   },
   "file_extension": ".py",
   "mimetype": "text/x-python",
   "name": "python",
   "nbconvert_exporter": "python",
   "pygments_lexer": "ipython3",
   "version": "3.10.5"
  }
 },
 "nbformat": 4,
 "nbformat_minor": 5
}
