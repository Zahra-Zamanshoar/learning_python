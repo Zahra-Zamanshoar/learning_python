{
 "cells": [
  {
   "cell_type": "code",
   "execution_count": 127,
   "id": "6dd990d0",
   "metadata": {},
   "outputs": [],
   "source": [
    "import os\n",
    "import argparse"
   ]
  },
  {
   "cell_type": "code",
   "execution_count": 124,
   "id": "369bb98e",
   "metadata": {},
   "outputs": [],
   "source": [
    "def outer_inner(*, proxy_pass=\"660/parse\", name_1 = '## outer users', name_2 = \"## inner users\"):\n",
    "    \n",
    "    name_1 = '## outer users'\n",
    "    name_2 = \"## inner users\"\n",
    "    def location(name):\n",
    "        return f'{name:2s} \\n location ^~ /ai/address_parser/parse \\n  \\n proxy_pass $address_parser_upstream:{proxy_pass}; \\n proxy_set_header Host $host; \\n proxy_set_header X-Real-IP $remote_addr; \\n proxy_set_header X-Forwarded-For $proxy_add_x_forwarded_for \\n \\n'\n",
    "    return  print(location(name_1)) , print(location(name_2))\n",
    "\n"
   ]
  },
  {
   "cell_type": "code",
   "execution_count": 149,
   "id": "99934aeb",
   "metadata": {},
   "outputs": [],
   "source": [
    "# parser = argparse.ArgumentParser(prog=\"docker\")\n",
    "# parser.add_argument(\"docker\",help='your username of github')\n",
    "# args = parser.parse_args()\n",
    "with open('docker-compose.yml', encoding=\"utf-8\") as docer_file:\n",
    "    data = docer_file.readlines()\n",
    "    for line in deta:\n",
    "        if ':2' in line:\n",
    "            print(line)\n",
    "            "
   ]
  },
  {
   "cell_type": "code",
   "execution_count": 126,
   "id": "e966931d",
   "metadata": {},
   "outputs": [
    {
     "name": "stdout",
     "output_type": "stream",
     "text": [
      "## outer users \n",
      " location ^~ /ai/address_parser/parse \n",
      "  \n",
      " proxy_pass $address_parser_upstream:660/parse; \n",
      " proxy_set_header Host $host; \n",
      " proxy_set_header X-Real-IP $remote_addr; \n",
      " proxy_set_header X-Forwarded-For $proxy_add_x_forwarded_for \n",
      " \n",
      "\n",
      "## inner users \n",
      " location ^~ /ai/address_parser/parse \n",
      "  \n",
      " proxy_pass $address_parser_upstream:660/parse; \n",
      " proxy_set_header Host $host; \n",
      " proxy_set_header X-Real-IP $remote_addr; \n",
      " proxy_set_header X-Forwarded-For $proxy_add_x_forwarded_for \n",
      " \n",
      "\n"
     ]
    },
    {
     "data": {
      "text/plain": [
       "(None, None)"
      ]
     },
     "execution_count": 126,
     "metadata": {},
     "output_type": "execute_result"
    }
   ],
   "source": [
    "outer_inner()"
   ]
  },
  {
   "cell_type": "code",
   "execution_count": 53,
   "id": "7f1f5b5b",
   "metadata": {},
   "outputs": [
    {
     "name": "stdout",
     "output_type": "stream",
     "text": [
      "Geeksforgeeks kjaj\n"
     ]
    }
   ],
   "source": [
    "\n",
    "s1 = 'Geeksforgeeks'\n",
    "s2 = 'ksforgeeks'\n",
    "s3 = 'forgeeks'\n",
    "s4 = 'geeks'\n",
    "  \n",
    "print(f'{s1 : >13} kjaj')"
   ]
  },
  {
   "cell_type": "code",
   "execution_count": null,
   "id": "8db4d7cc",
   "metadata": {},
   "outputs": [],
   "source": []
  }
 ],
 "metadata": {
  "kernelspec": {
   "display_name": "Python 3 (ipykernel)",
   "language": "python",
   "name": "python3"
  },
  "language_info": {
   "codemirror_mode": {
    "name": "ipython",
    "version": 3
   },
   "file_extension": ".py",
   "mimetype": "text/x-python",
   "name": "python",
   "nbconvert_exporter": "python",
   "pygments_lexer": "ipython3",
   "version": "3.10.7"
  }
 },
 "nbformat": 4,
 "nbformat_minor": 5
}
