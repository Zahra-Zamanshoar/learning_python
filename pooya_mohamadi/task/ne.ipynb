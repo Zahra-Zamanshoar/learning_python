{
 "cells": [
  {
   "cell_type": "code",
   "execution_count": 127,
   "id": "6dd990d0",
   "metadata": {},
   "outputs": [],
   "source": [
    "import os\n",
    "import argparse"
   ]
  },
  {
   "cell_type": "code",
   "execution_count": 25,
   "id": "369bb98e",
   "metadata": {},
   "outputs": [],
   "source": [
    "def outer_inner(name, End_point, proxy_pass=\"660/parse\"):\n",
    "    \"\"\"\n",
    "    writes outer and inner in neginex.\n",
    "  \n",
    "    Parameters:\n",
    "    name (list): Titles that are used both as a title and as outer and inner locations\n",
    "    End_point (list): End point that  used  as outer and inner locations\n",
    "  \n",
    "    Returns:\n",
    "    string: outer and inner\n",
    "  \n",
    "    \"\"\"\n",
    "    outer = '## outer users'\n",
    "    inner = \"## inner users, has no version because it should be updated instantly\"\n",
    "    b = 'proxy_pass $address_parser_upstream:{proxy_pass}; \\n proxy_set_header Host $host; \\n proxy_set_header X-Real-IP $remote_addr; \\n proxy_set_header X-Forwarded-For $proxy_add_x_forwarded_for '\n",
    "    \n",
    "    a = f'set ${name}_upstream http://{name}\\n{outer:2s} \\n location ^~ /ai/{name}/{End_point} \\n  \\n proxy_pass $address_parser_upstream:{proxy_pass}; \\n {b}  \\n'\n",
    "\n",
    "    return print(a)\n",
    "    \n",
    "\n",
    "def server(valid=30, size='20M'):\n",
    "    return print(f'  listen 80;\\n  server_name 0.0.0.0;\\n  resolver 127.0.0.11 valid=30s;\\n  client_max_body_size 20M;')\n"
   ]
  },
  {
   "cell_type": "code",
   "execution_count": 28,
   "id": "99934aeb",
   "metadata": {
    "scrolled": false
   },
   "outputs": [
    {
     "name": "stdout",
     "output_type": "stream",
     "text": [
      "set $address_parser_upstream http://address_parser\n",
      "## outer users \n",
      " location ^~ /ai/address_parser/ \n",
      "  \n",
      " proxy_pass $address_parser_upstream:660/parse; \n",
      " proxy_pass $address_parser_upstream:{proxy_pass}; \n",
      " proxy_set_header Host $host; \n",
      " proxy_set_header X-Real-IP $remote_addr; \n",
      " proxy_set_header X-Forwarded-For $proxy_add_x_forwarded_for   \n",
      "\n",
      "set $geocoding_upstream http://geocoding\n",
      "## outer users \n",
      " location ^~ /ai/geocoding/geocoding \n",
      "  \n",
      " proxy_pass $address_parser_upstream:660/parse; \n",
      " proxy_pass $address_parser_upstream:{proxy_pass}; \n",
      " proxy_set_header Host $host; \n",
      " proxy_set_header X-Real-IP $remote_addr; \n",
      " proxy_set_header X-Forwarded-For $proxy_add_x_forwarded_for   \n",
      "\n",
      "set $geocoding_upstream http://geocoding\n",
      "## outer users \n",
      " location ^~ /ai/geocoding/geocoding \n",
      "  \n",
      " proxy_pass $address_parser_upstream:660/parse; \n",
      " proxy_pass $address_parser_upstream:{proxy_pass}; \n",
      " proxy_set_header Host $host; \n",
      " proxy_set_header X-Real-IP $remote_addr; \n",
      " proxy_set_header X-Forwarded-For $proxy_add_x_forwarded_for   \n",
      "\n",
      "set $region_identifier_upstream http://region_identifier\n",
      "## outer users \n",
      " location ^~ /ai/region_identifier/geocoding \n",
      "  \n",
      " proxy_pass $address_parser_upstream:660/parse; \n",
      " proxy_pass $address_parser_upstream:{proxy_pass}; \n",
      " proxy_set_header Host $host; \n",
      " proxy_set_header X-Real-IP $remote_addr; \n",
      " proxy_set_header X-Forwarded-For $proxy_add_x_forwarded_for   \n",
      "\n",
      "set $region_identifier_upstream http://region_identifier\n",
      "## outer users \n",
      " location ^~ /ai/region_identifier/geocoding \n",
      "  \n",
      " proxy_pass $address_parser_upstream:660/parse; \n",
      " proxy_pass $address_parser_upstream:{proxy_pass}; \n",
      " proxy_set_header Host $host; \n",
      " proxy_set_header X-Real-IP $remote_addr; \n",
      " proxy_set_header X-Forwarded-For $proxy_add_x_forwarded_for   \n",
      "\n",
      "set $audio_diarization_upstream http://audio_diarization\n",
      "## outer users \n",
      " location ^~ /ai/audio_diarization/speech \n",
      "  \n",
      " proxy_pass $address_parser_upstream:660/parse; \n",
      " proxy_pass $address_parser_upstream:{proxy_pass}; \n",
      " proxy_set_header Host $host; \n",
      " proxy_set_header X-Real-IP $remote_addr; \n",
      " proxy_set_header X-Forwarded-For $proxy_add_x_forwarded_for   \n",
      "\n",
      "set $speech_to_text_upstream http://speech_to_text\n",
      "## outer users \n",
      " location ^~ /ai/speech_to_text/speech \n",
      "  \n",
      " proxy_pass $address_parser_upstream:660/parse; \n",
      " proxy_pass $address_parser_upstream:{proxy_pass}; \n",
      " proxy_set_header Host $host; \n",
      " proxy_set_header X-Real-IP $remote_addr; \n",
      " proxy_set_header X-Forwarded-For $proxy_add_x_forwarded_for   \n",
      "\n",
      "set $audio-gender-recognition_upstream http://audio-gender-recognition\n",
      "## outer users \n",
      " location ^~ /ai/audio-gender-recognition/speech \n",
      "  \n",
      " proxy_pass $address_parser_upstream:660/parse; \n",
      " proxy_pass $address_parser_upstream:{proxy_pass}; \n",
      " proxy_set_header Host $host; \n",
      " proxy_set_header X-Real-IP $remote_addr; \n",
      " proxy_set_header X-Forwarded-For $proxy_add_x_forwarded_for   \n",
      "\n"
     ]
    }
   ],
   "source": [
    "# parser = argparse.ArgumentParser()\n",
    "# parser.add_argument(\"docker\",help='The file  want to make negix from', default='proxy', 'elasticsearch')\n",
    "# parser.add_argument(\"--list\",help='A list that contains names that do not need to be noted when reading Docker', default=lst)\n",
    "# parser.add_argument(\"--server\",help='A Server use it', default=)\n",
    "# # HOST = \"http://192.168.1.119\"\n",
    "# # # HOST = \"http://127.0.0.1\"\n",
    "# # PORT_NUMBER = 8010\n",
    "# # END_POINT = '/ai/address_parser/parse'\n",
    "# # parser.add_argument(\"--endpoint_url\", default=f\"{HOST}:{PORT_NUMBER}{END_POINT}\")\n",
    "# args = parser.parse_args()\n",
    "# docker = args.docker()\n",
    "lst = []\n",
    "with open('docker-compose.yml', encoding=\"utf-8\") as docer_file:\n",
    "    deta = docer_file.readlines()\n",
    "    for line in deta:\n",
    "        count = 0\n",
    "        #count space \n",
    "        for item in line[:5]:\n",
    "            if item == ' ':\n",
    "                count += 1\n",
    "            else:\n",
    "                break\n",
    "#         if 'END_POINT' in line.strip().strip(':').strip('-'):\n",
    "#             End_point = line.strip('- END_POINT=/')\n",
    "        #Find based on distance\n",
    "        if count == 2 :\n",
    "            line = line.strip().strip(':').strip('# ')\n",
    "            lst.append(line)\n",
    "#             if 'END_POINT' in line.strip().strip(':').strip('-'):\n",
    "#                 print(line)\n",
    "#             line_ = line.strip().strip(':').strip('# ')\n",
    "#             #Does not consider the items listed\n",
    "#             if 'END_POINT' == line_:\n",
    "#                 print(line_)\n",
    "i = 0\n",
    "lst_2 = []\n",
    "while i < len(lst):\n",
    "    for line in deta:\n",
    "        line = line.strip().strip(':').strip('# ').strip('-')\n",
    "        if line == lst[i]:\n",
    "            i += 1\n",
    "            break\n",
    "        else:\n",
    "            if 'END_POINT' in line:\n",
    "                if line not in lst_2 :\n",
    "                    lst_2.append(line)\n",
    "                    point = line.split('=')[-1]\n",
    "                    end_point = point.split('/')[-2:]\n",
    "                    outer_inner(lst[i-1],end_point)            \n",
    "\n",
    "            "
   ]
  },
  {
   "cell_type": "code",
   "execution_count": 21,
   "id": "36e9ff1c",
   "metadata": {},
   "outputs": [
    {
     "data": {
      "text/plain": [
       "'/geocoding/geocode'"
      ]
     },
     "execution_count": 21,
     "metadata": {},
     "output_type": "execute_result"
    }
   ],
   "source": [
    "a = 'END_POINT=/geocoding/geocode'\n",
    "a.split('=')[-1]"
   ]
  },
  {
   "cell_type": "code",
   "execution_count": 6,
   "id": "094f41eb",
   "metadata": {},
   "outputs": [
    {
     "data": {
      "text/plain": [
       "{'zahra': 'end'}"
      ]
     },
     "execution_count": 6,
     "metadata": {},
     "output_type": "execute_result"
    }
   ],
   "source": [
    "dic = dict()\n",
    "dic['zahra'] = 'end'\n",
    "dic"
   ]
  },
  {
   "cell_type": "code",
   "execution_count": 71,
   "id": "d93d3281",
   "metadata": {},
   "outputs": [
    {
     "ename": "TypeError",
     "evalue": "outer_inner() missing 2 required positional arguments: 'name' and 'End_point'",
     "output_type": "error",
     "traceback": [
      "\u001b[1;31m---------------------------------------------------------------------------\u001b[0m",
      "\u001b[1;31mTypeError\u001b[0m                                 Traceback (most recent call last)",
      "Input \u001b[1;32mIn [71]\u001b[0m, in \u001b[0;36m<cell line: 1>\u001b[1;34m()\u001b[0m\n\u001b[1;32m----> 1\u001b[0m \u001b[43mouter_inner\u001b[49m\u001b[43m(\u001b[49m\u001b[43m)\u001b[49m\n",
      "\u001b[1;31mTypeError\u001b[0m: outer_inner() missing 2 required positional arguments: 'name' and 'End_point'"
     ]
    }
   ],
   "source": [
    "outer_inner()\n",
    "if 'END_POINT' in line :"
   ]
  },
  {
   "cell_type": "code",
   "execution_count": 175,
   "id": "e966931d",
   "metadata": {},
   "outputs": [
    {
     "name": "stdout",
     "output_type": "stream",
     "text": [
      "elasticsearch\n",
      "kibana\n",
      " elasticsearch-data-volume\n"
     ]
    }
   ],
   "source": [
    "lst = ['  proxy:', 'elasticsearch', 'kibana', ' elasticsearch-data-volume']\n",
    "for item in lst:\n",
    "    if item != '  proxy:':\n",
    "        print(item)"
   ]
  },
  {
   "cell_type": "code",
   "execution_count": 53,
   "id": "622f4907",
   "metadata": {},
   "outputs": [
    {
     "name": "stdout",
     "output_type": "stream",
     "text": [
      "Geeksforgeeks kjaj\n"
     ]
    }
   ],
   "source": [
    "\n",
    "s1 = 'Geeksforgeeks'\n",
    "s2 = 'ksforgeeks'\n",
    "s3 = 'forgeeks'\n",
    "s4 = 'geeks'\n",
    "  \n",
    "print(f'{s1 : >13} kjaj')"
   ]
  },
  {
   "cell_type": "code",
   "execution_count": 191,
   "id": "f6fb8fa6",
   "metadata": {},
   "outputs": [
    {
     "data": {
      "text/plain": [
       "'proxy'"
      ]
     },
     "execution_count": 191,
     "metadata": {},
     "output_type": "execute_result"
    }
   ],
   "source": [
    "z = '  proxy:'\n",
    "z.strip(': ')"
   ]
  },
  {
   "cell_type": "code",
   "execution_count": 47,
   "id": "c781ae90",
   "metadata": {
    "scrolled": false
   },
   "outputs": [
    {
     "name": "stdout",
     "output_type": "stream",
     "text": [
      "[(1, 2), (2, 3), (3, 4), (4, 5)]\n"
     ]
    }
   ],
   "source": [
    "Z = [1, 2, 3, 4, 5]\n",
    "m = [2, 3, 4, 5]\n",
    "# print(f'{[(item, i) for item,i in zip(Z, m)]}')\n",
    "a = [(item, i) for item,i in zip(Z, m)]\n",
    "print(f'{a}')"
   ]
  },
  {
   "cell_type": "code",
   "execution_count": null,
   "id": "40be74cc",
   "metadata": {},
   "outputs": [],
   "source": []
  },
  {
   "cell_type": "code",
   "execution_count": null,
   "id": "1e35981b",
   "metadata": {},
   "outputs": [],
   "source": [
    "Z = [1, 2, 3, 4, 5]\n",
    "[n ]"
   ]
  },
  {
   "cell_type": "code",
   "execution_count": 41,
   "id": "a3af574f",
   "metadata": {},
   "outputs": [
    {
     "ename": "NameError",
     "evalue": "name 'n' is not defined",
     "output_type": "error",
     "traceback": [
      "\u001b[1;31m---------------------------------------------------------------------------\u001b[0m",
      "\u001b[1;31mNameError\u001b[0m                                 Traceback (most recent call last)",
      "Input \u001b[1;32mIn [41]\u001b[0m, in \u001b[0;36m<cell line: 1>\u001b[1;34m()\u001b[0m\n\u001b[1;32m----> 1\u001b[0m \u001b[38;5;28mprint\u001b[39m([n \u001b[38;5;28;01mfor\u001b[39;00m item \u001b[38;5;129;01min\u001b[39;00m Z])\n",
      "Input \u001b[1;32mIn [41]\u001b[0m, in \u001b[0;36m<listcomp>\u001b[1;34m(.0)\u001b[0m\n\u001b[1;32m----> 1\u001b[0m \u001b[38;5;28mprint\u001b[39m([\u001b[43mn\u001b[49m \u001b[38;5;28;01mfor\u001b[39;00m item \u001b[38;5;129;01min\u001b[39;00m Z])\n",
      "\u001b[1;31mNameError\u001b[0m: name 'n' is not defined"
     ]
    }
   ],
   "source": [
    "print([n for item in Z])"
   ]
  },
  {
   "cell_type": "code",
   "execution_count": null,
   "id": "208099b1",
   "metadata": {},
   "outputs": [],
   "source": []
  }
 ],
 "metadata": {
  "kernelspec": {
   "display_name": "Python 3 (ipykernel)",
   "language": "python",
   "name": "python3"
  },
  "language_info": {
   "codemirror_mode": {
    "name": "ipython",
    "version": 3
   },
   "file_extension": ".py",
   "mimetype": "text/x-python",
   "name": "python",
   "nbconvert_exporter": "python",
   "pygments_lexer": "ipython3",
   "version": "3.10.5"
  }
 },
 "nbformat": 4,
 "nbformat_minor": 5
}
