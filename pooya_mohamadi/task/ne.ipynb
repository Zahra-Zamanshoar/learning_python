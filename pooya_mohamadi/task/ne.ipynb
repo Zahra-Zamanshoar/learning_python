{
 "cells": [
  {
   "cell_type": "code",
   "execution_count": 1,
   "id": "2b451ac9",
   "metadata": {},
   "outputs": [],
   "source": [
    "import os"
   ]
  },
  {
   "cell_type": "code",
   "execution_count": 5,
   "id": "3fa9157d",
   "metadata": {},
   "outputs": [
    {
     "ename": "SyntaxError",
     "evalue": "unterminated string literal (detected at line 4) (1475341227.py, line 4)",
     "output_type": "error",
     "traceback": [
      "\u001b[1;36m  Input \u001b[1;32mIn [5]\u001b[1;36m\u001b[0m\n\u001b[1;33m    print(f' location ^~ /ai/address_parser/parse{proxy_pass $address_parser_upstream:proxy_pass;\u001b[0m\n\u001b[1;37m          ^\u001b[0m\n\u001b[1;31mSyntaxError\u001b[0m\u001b[1;31m:\u001b[0m unterminated string literal (detected at line 4)\n"
     ]
    }
   ],
   "source": [
    "def outer_inner(*, proxy_pass=660/parse, ):\n",
    "        ## outer users\n",
    "    \n",
    "   print(f' location ^~ /ai/address_parser/parse {proxy_pass $address_parser_upstream:proxy_pass;\n",
    "        proxy_set_header Host $host;\n",
    "        proxy_set_header X-Real-IP $remote_addr;\n",
    "        proxy_set_header X-Forwarded-For $proxy_add_x_forwarded_for;\n",
    "     }\")\n",
    "# \t## inner users, has no version because it should be updated instantly\n",
    "# \tlocation ^~ /address_parser/parse\n",
    "# \t{\n",
    "# \t    proxy_pass $address_parser_upstream:660/parse;\n",
    "# \t\tproxy_set_header Host $host;\n",
    "#         proxy_set_header X-Real-IP $remote_addr;\n",
    "#         proxy_set_header X-Forwarded-For $proxy_add_x_forwarded_for;\n",
    "#         allow 172.16.0.0/12;\n",
    "# \t\tdeny all;\n",
    "# \t}\n"
   ]
  },
  {
   "cell_type": "code",
   "execution_count": 2,
   "id": "b9aba89f",
   "metadata": {},
   "outputs": [],
   "source": [
    "neginx = open('neginx', 'a')"
   ]
  },
  {
   "cell_type": "code",
   "execution_count": null,
   "id": "aeb72167",
   "metadata": {},
   "outputs": [],
   "source": []
  }
 ],
 "metadata": {
  "kernelspec": {
   "display_name": "Python 3 (ipykernel)",
   "language": "python",
   "name": "python3"
  },
  "language_info": {
   "codemirror_mode": {
    "name": "ipython",
    "version": 3
   },
   "file_extension": ".py",
   "mimetype": "text/x-python",
   "name": "python",
   "nbconvert_exporter": "python",
   "pygments_lexer": "ipython3",
   "version": "3.10.5"
  }
 },
 "nbformat": 4,
 "nbformat_minor": 5
}
