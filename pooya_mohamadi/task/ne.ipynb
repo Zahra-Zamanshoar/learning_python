{
 "cells": [
  {
   "cell_type": "code",
   "execution_count": 127,
   "id": "6dd990d0",
   "metadata": {},
   "outputs": [],
   "source": [
    "import os\n",
    "import argparse"
   ]
  },
  {
   "cell_type": "code",
   "execution_count": 217,
   "id": "369bb98e",
   "metadata": {},
   "outputs": [],
   "source": [
    "def outer_inner(*, proxy_pass=\"660/parse\", name_1 = '## outer users', name_2 = \"## inner users\"):\n",
    "    \n",
    "    name_1 = '## outer users'\n",
    "    name_2 = \"## inner users\"\n",
    "    def location(name):\n",
    "        return f'{name:2s} \\n location ^~ /ai/address_parser/parse \\n  \\n proxy_pass $address_parser_upstream:{proxy_pass}; \\n proxy_set_header Host $host; \\n proxy_set_header X-Real-IP $remote_addr; \\n proxy_set_header X-Forwarded-For $proxy_add_x_forwarded_for \\n \\n'\n",
    "    return  print(location(name_1)) , print(location(name_2))\n",
    "def server(valid=30, size='20M'):\n",
    "    return print(f'  listen 80;\\n  server_name 0.0.0.0;\\n  resolver 127.0.0.11 valid=30s;\\n  client_max_body_size 20M;')\n"
   ]
  },
  {
   "cell_type": "code",
   "execution_count": 227,
   "id": "99934aeb",
   "metadata": {},
   "outputs": [
    {
     "name": "stdout",
     "output_type": "stream",
     "text": [
      "address_parser\n",
      "geocoding\n",
      "region_identifier\n",
      "audio_diarization\n"
     ]
    }
   ],
   "source": [
    "# parser = argparse.ArgumentParser()\n",
    "# parser.add_argument(\"docker\",help='The file  want to make negix from', default='proxy', 'elasticsearch')\n",
    "# parser.add_argument(\"--list\",help='A list that contains names that do not need to be noted when reading Docker', default=lst)\n",
    "# parser.add_argument(\"--server\",help='A Server use it', default=)\n",
    "# # HOST = \"http://192.168.1.119\"\n",
    "# # # HOST = \"http://127.0.0.1\"\n",
    "# # PORT_NUMBER = 8010\n",
    "# # END_POINT = '/ai/address_parser/parse'\n",
    "# # parser.add_argument(\"--endpoint_url\", default=f\"{HOST}:{PORT_NUMBER}{END_POINT}\")\n",
    "# args = parser.parse_args()\n",
    "# docker = args.docker()\n",
    "lst = ['proxy', 'elasticsearch', 'kibana', 'elasticsearch-data-volume', 'Audio', 'Databases']\n",
    "with open('docker-compose.yml', encoding=\"utf-8\") as docer_file:\n",
    "    data = docer_file.readlines()\n",
    "    for line in deta:\n",
    "        count = 0\n",
    "        for item in line[:5]:\n",
    "            if item == ' ':\n",
    "                count += 1\n",
    "            else:\n",
    "                break       \n",
    "        if count == 2 :\n",
    "            line = line.strip().strip(':').strip('# ')\n",
    "            if line not in lst:\n",
    "                print(line)\n",
    "        if line.strip().strip(':').strip('# ')       \n",
    "                \n",
    "                \n",
    "    \n",
    "            "
   ]
  },
  {
   "cell_type": "code",
   "execution_count": 218,
   "id": "d93d3281",
   "metadata": {},
   "outputs": [
    {
     "name": "stdout",
     "output_type": "stream",
     "text": [
      "  listen 80;\n",
      "  server_name 0.0.0.0;\n",
      "  resolver 127.0.0.11 valid=30s;\n",
      "  client_max_body_size 20M;\n"
     ]
    }
   ],
   "source": [
    "server()"
   ]
  },
  {
   "cell_type": "code",
   "execution_count": 175,
   "id": "e966931d",
   "metadata": {},
   "outputs": [
    {
     "name": "stdout",
     "output_type": "stream",
     "text": [
      "elasticsearch\n",
      "kibana\n",
      " elasticsearch-data-volume\n"
     ]
    }
   ],
   "source": [
    "lst = ['  proxy:', 'elasticsearch', 'kibana', ' elasticsearch-data-volume']\n",
    "for item in lst:\n",
    "    if item != '  proxy:':\n",
    "        print(item)"
   ]
  },
  {
   "cell_type": "code",
   "execution_count": 53,
   "id": "622f4907",
   "metadata": {},
   "outputs": [
    {
     "name": "stdout",
     "output_type": "stream",
     "text": [
      "Geeksforgeeks kjaj\n"
     ]
    }
   ],
   "source": [
    "\n",
    "s1 = 'Geeksforgeeks'\n",
    "s2 = 'ksforgeeks'\n",
    "s3 = 'forgeeks'\n",
    "s4 = 'geeks'\n",
    "  \n",
    "print(f'{s1 : >13} kjaj')"
   ]
  },
  {
   "cell_type": "code",
   "execution_count": 191,
   "id": "f6fb8fa6",
   "metadata": {},
   "outputs": [
    {
     "data": {
      "text/plain": [
       "'proxy'"
      ]
     },
     "execution_count": 191,
     "metadata": {},
     "output_type": "execute_result"
    }
   ],
   "source": [
    "z = '  proxy:'\n",
    "z.strip(': ')"
   ]
  },
  {
   "cell_type": "code",
   "execution_count": null,
   "id": "c781ae90",
   "metadata": {},
   "outputs": [],
   "source": []
  }
 ],
 "metadata": {
  "kernelspec": {
   "display_name": "Python 3 (ipykernel)",
   "language": "python",
   "name": "python3"
  },
  "language_info": {
   "codemirror_mode": {
    "name": "ipython",
    "version": 3
   },
   "file_extension": ".py",
   "mimetype": "text/x-python",
   "name": "python",
   "nbconvert_exporter": "python",
   "pygments_lexer": "ipython3",
   "version": "3.10.7"
  }
 },
 "nbformat": 4,
 "nbformat_minor": 5
}
