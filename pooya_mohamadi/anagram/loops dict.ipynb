{
 "cells": [
  {
   "cell_type": "code",
   "execution_count": 33,
   "id": "b972e6ad",
   "metadata": {},
   "outputs": [
    {
     "ename": "RuntimeError",
     "evalue": "dictionary changed size during iteration",
     "output_type": "error",
     "traceback": [
      "\u001b[1;31m---------------------------------------------------------------------------\u001b[0m",
      "\u001b[1;31mRuntimeError\u001b[0m                              Traceback (most recent call last)",
      "Input \u001b[1;32mIn [33]\u001b[0m, in \u001b[0;36m<cell line: 10>\u001b[1;34m()\u001b[0m\n\u001b[0;32m      8\u001b[0m capital\u001b[38;5;241m.\u001b[39mvalues()\n\u001b[0;32m      9\u001b[0m capital_1 \u001b[38;5;241m=\u001b[39m {}\n\u001b[1;32m---> 10\u001b[0m \u001b[38;5;28;01mfor\u001b[39;00m k,v \u001b[38;5;129;01min\u001b[39;00m capital\u001b[38;5;241m.\u001b[39mitems():\n\u001b[0;32m     11\u001b[0m     capital[v] \u001b[38;5;241m=\u001b[39m k\n\u001b[0;32m     13\u001b[0m capital\n",
      "\u001b[1;31mRuntimeError\u001b[0m: dictionary changed size during iteration"
     ]
    }
   ],
   "source": [
    "#creat a new dictionary like capitals witch a key \n",
    "# list_number = ['11','12','13']\n",
    "# for i in list_number:\n",
    "#     i=i[::-1]\n",
    "#     print(i)\n",
    "capital = {\"zahra\": 21, \"pooya\": 27, \"ali\": 28}\n",
    "capital.keys()\n",
    "capital.values()\n",
    "capital_1 = {}\n",
    "for k,v in capital.items():\n",
    "    capital[v] = k\n",
    "    \n",
    "capital    \n",
    "    "
   ]
  },
  {
   "cell_type": "code",
   "execution_count": 42,
   "id": "9a738b43",
   "metadata": {},
   "outputs": [
    {
     "name": "stdout",
     "output_type": "stream",
     "text": [
      "{'zahra': 21, 'pooya': 27, 'ali': 28, 21: 'zahra'}\n",
      "{'zahra': 21, 'pooya': 27, 'ali': 28, 21: 'zahra'}\n",
      "{'zahra': 21, 'pooya': 27, 'ali': 28, 21: 'zahra'}\n"
     ]
    }
   ],
   "source": [
    "for im,(key,value) in enumerate(capital.items()):\n",
    "    if im==0 :\n",
    "        continue\n",
    "    print(capital)    \n",
    "  \n",
    "\n"
   ]
  },
  {
   "cell_type": "code",
   "execution_count": 11,
   "id": "5c39043f",
   "metadata": {},
   "outputs": [
    {
     "data": {
      "text/plain": [
       "'21'"
      ]
     },
     "execution_count": 11,
     "metadata": {},
     "output_type": "execute_result"
    }
   ],
   "source": [
    "list_number = '12'\n",
    "list_number[::-1]"
   ]
  },
  {
   "cell_type": "code",
   "execution_count": 45,
   "id": "e0a5a8f2",
   "metadata": {},
   "outputs": [
    {
     "data": {
      "text/plain": [
       "{21: 'zahra', 27: 'pooya', 28: 'ali', 'zahra': 21}"
      ]
     },
     "execution_count": 45,
     "metadata": {},
     "output_type": "execute_result"
    }
   ],
   "source": [
    "capital_2 = {v:k for k,v in capital.items()}\n",
    "capital_2"
   ]
  },
  {
   "cell_type": "code",
   "execution_count": 48,
   "id": "016a7870",
   "metadata": {},
   "outputs": [],
   "source": [
    "file_2 = open(r'MyFile2.txt','w')"
   ]
  },
  {
   "cell_type": "code",
   "execution_count": null,
   "id": "e16f187d",
   "metadata": {},
   "outputs": [],
   "source": []
  }
 ],
 "metadata": {
  "kernelspec": {
   "display_name": "Python 3 (ipykernel)",
   "language": "python",
   "name": "python3"
  },
  "language_info": {
   "codemirror_mode": {
    "name": "ipython",
    "version": 3
   },
   "file_extension": ".py",
   "mimetype": "text/x-python",
   "name": "python",
   "nbconvert_exporter": "python",
   "pygments_lexer": "ipython3",
   "version": "3.10.5"
  }
 },
 "nbformat": 4,
 "nbformat_minor": 5
}
