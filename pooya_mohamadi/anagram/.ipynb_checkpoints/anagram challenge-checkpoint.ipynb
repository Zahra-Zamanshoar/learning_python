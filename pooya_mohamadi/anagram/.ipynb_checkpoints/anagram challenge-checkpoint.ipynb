{
 "cells": [
  {
   "cell_type": "code",
   "execution_count": 11,
   "id": "822095ac",
   "metadata": {},
   "outputs": [
    {
     "data": {
      "text/plain": [
       "['A\\n',\n",
       " 'aa\\n',\n",
       " 'aal\\n',\n",
       " 'Alii\\n',\n",
       " 'Aam\\n',\n",
       " 'aani\\n',\n",
       " 'aardvark\\n',\n",
       " 'aardwolf\\n',\n",
       " 'aaron\\n',\n",
       " 'aaronic\\n',\n",
       " 'aaronical\\n',\n",
       " 'aaronite\\n',\n",
       " 'aaronitic\\n']"
      ]
     },
     "execution_count": 11,
     "metadata": {},
     "output_type": "execute_result"
    }
   ],
   "source": [
    "import os\n",
    "with open('MyFile2.txt') as file:\n",
    "    data = file.readlines()\n",
    "data    "
   ]
  },
  {
   "cell_type": "code",
   "execution_count": 2,
   "id": "6cf8f1a9",
   "metadata": {},
   "outputs": [],
   "source": [
    "# data_2 =[i[:-1] and i.lower() for i in data] #چرا وقتی i=i.lower میگذاریم ارور منطق میدهد؟\n",
    "    \n",
    "# data_2\n"
   ]
  },
  {
   "cell_type": "code",
   "execution_count": 12,
   "id": "fc9ca4ad",
   "metadata": {},
   "outputs": [
    {
     "data": {
      "text/plain": [
       "['a',\n",
       " 'aa',\n",
       " 'aal',\n",
       " 'aam',\n",
       " 'aani',\n",
       " 'aardvark',\n",
       " 'aardwolf',\n",
       " 'aaron',\n",
       " 'aaronic',\n",
       " 'aaronical',\n",
       " 'aaronite',\n",
       " 'aaronitic',\n",
       " 'alii']"
      ]
     },
     "execution_count": 12,
     "metadata": {},
     "output_type": "execute_result"
    }
   ],
   "source": [
    "data_2 = [i.lower() for i in data]\n",
    "data_3 = [i[:-1] for i in data_2 ]\n",
    "data_4 = sorted(set(data_3))\n",
    "data_4"
   ]
  },
  {
   "cell_type": "code",
   "execution_count": 13,
   "id": "58e33f7c",
   "metadata": {},
   "outputs": [
    {
     "data": {
      "text/plain": [
       "['a',\n",
       " 'aa',\n",
       " 'aal',\n",
       " 'aam',\n",
       " 'aani',\n",
       " 'aardvark',\n",
       " 'aardwolf',\n",
       " 'aaron',\n",
       " 'aaronic',\n",
       " 'aaronical',\n",
       " 'aaronite',\n",
       " 'aaronitic',\n",
       " 'alii']"
      ]
     },
     "execution_count": 13,
     "metadata": {},
     "output_type": "execute_result"
    }
   ],
   "source": [
    "data_5 = sorted(set([word.strip().lower() for word in data]))\n",
    "data_5"
   ]
  },
  {
   "cell_type": "code",
   "execution_count": 4,
   "id": "26f7daba",
   "metadata": {},
   "outputs": [
    {
     "ename": "SyntaxError",
     "evalue": "cannot assign to function call (3275299283.py, line 1)",
     "output_type": "error",
     "traceback": [
      "\u001b[1;36m  Input \u001b[1;32mIn [4]\u001b[1;36m\u001b[0m\n\u001b[1;33m    sorted('dictionary') = sorted(a)\u001b[0m\n\u001b[1;37m    ^\u001b[0m\n\u001b[1;31mSyntaxError\u001b[0m\u001b[1;31m:\u001b[0m cannot assign to function call\n"
     ]
    }
   ],
   "source": [
    "sorted('dictionary') = sorted(a)"
   ]
  },
  {
   "cell_type": "code",
   "execution_count": 9,
   "id": "e3d7fd87",
   "metadata": {},
   "outputs": [],
   "source": [
    "def signiture(word):\n",
    "    return ''.join(sorted(word))\n"
   ]
  },
  {
   "cell_type": "code",
   "execution_count": 6,
   "id": "5c74a594",
   "metadata": {},
   "outputs": [
    {
     "data": {
      "text/plain": [
       "'aahrz'"
      ]
     },
     "execution_count": 6,
     "metadata": {},
     "output_type": "execute_result"
    }
   ],
   "source": [
    "signiture('zahra')"
   ]
  },
  {
   "cell_type": "code",
   "execution_count": 14,
   "id": "e2b31aff",
   "metadata": {},
   "outputs": [
    {
     "data": {
      "text/plain": [
       "{'a': ['a'],\n",
       " 'aa': ['aa'],\n",
       " 'aal': ['aal'],\n",
       " 'aam': ['aam'],\n",
       " 'aain': ['aani'],\n",
       " 'aaadkrrv': ['aardvark'],\n",
       " 'aadflorw': ['aardwolf'],\n",
       " 'aanor': ['aaron'],\n",
       " 'aacinor': ['aaronic'],\n",
       " 'aaacilnor': ['aaronical'],\n",
       " 'aaeinort': ['aaronite'],\n",
       " 'aaciinort': ['aaronitic'],\n",
       " 'aiil': ['alii']}"
      ]
     },
     "execution_count": 14,
     "metadata": {},
     "output_type": "execute_result"
    }
   ],
   "source": [
    "word_dict = dict()\n",
    "\n",
    "for word in data_4:\n",
    "    sig_word = signiture(word)\n",
    "    if sig_word not in word_dict:\n",
    "        word_dict[sig_word] = [word]\n",
    "    else:\n",
    "        word_dict[sig_word].append(word)\n",
    "word_dict"
   ]
  },
  {
   "cell_type": "code",
   "execution_count": 15,
   "id": "c8259981",
   "metadata": {},
   "outputs": [
    {
     "name": "stdout",
     "output_type": "stream",
     "text": [
      "{1: ['a'], 2: ['aa'], 3: ['aal', 'aam'], 4: ['aani', 'alii'], 8: ['aardvark', 'aardwolf', 'aaronite'], 5: ['aaron'], 7: ['aaronic'], 9: ['aaronical', 'aaronitic']}\n"
     ]
    }
   ],
   "source": [
    "word_dict2 = dict()                                                    \n",
    "for word_2 in data_4:\n",
    "    len_word = len(word_2)\n",
    "    if len_word not in word_dict2:\n",
    "        word_dict2[len_word] = [word_2]\n",
    "    else:\n",
    "        word_dict2[len_word].append(word_2)   \n",
    "print(word_dict2)"
   ]
  },
  {
   "cell_type": "code",
   "execution_count": null,
   "id": "0767dfda",
   "metadata": {},
   "outputs": [],
   "source": []
  },
  {
   "cell_type": "code",
   "execution_count": null,
   "id": "4f01fc16",
   "metadata": {},
   "outputs": [],
   "source": [
    "\n"
   ]
  },
  {
   "cell_type": "code",
   "execution_count": null,
   "id": "e20e3178",
   "metadata": {},
   "outputs": [],
   "source": []
  }
 ],
 "metadata": {
  "kernelspec": {
   "display_name": "Python 3 (ipykernel)",
   "language": "python",
   "name": "python3"
  },
  "language_info": {
   "codemirror_mode": {
    "name": "ipython",
    "version": 3
   },
   "file_extension": ".py",
   "mimetype": "text/x-python",
   "name": "python",
   "nbconvert_exporter": "python",
   "pygments_lexer": "ipython3",
   "version": "3.9.12"
  }
 },
 "nbformat": 4,
 "nbformat_minor": 5
}
