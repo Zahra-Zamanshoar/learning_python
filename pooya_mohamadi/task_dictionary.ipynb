{
 "cells": [
  {
   "cell_type": "code",
   "execution_count": 2,
   "id": "d938fb44",
   "metadata": {},
   "outputs": [
    {
     "data": {
      "text/plain": [
       "{'name_0': 'Sara',\n",
       " 'age_0': 28,\n",
       " 'salary_0': 2000,\n",
       " 'name_1': 'Sara',\n",
       " 'age_1': 18,\n",
       " 'salary_1': 1000,\n",
       " 'a_0': 'A',\n",
       " 'name_2': 'Omid',\n",
       " 'age_2': 20,\n",
       " 'salary_2': 1000,\n",
       " 'pooya_0': 2000,\n",
       " 'last_name_0': 'Zamani',\n",
       " 'name_3': 'Amir',\n",
       " 'age_3': 28,\n",
       " 'salary_3': 2000,\n",
       " 'last_name_1': 'Mohammadi'}"
      ]
     },
     "execution_count": 2,
     "metadata": {},
     "output_type": "execute_result"
    }
   ],
   "source": [
    "student_data = {'id1':\n",
    "                    {'name': 'Sara',\n",
    "                     'age': 28,\n",
    "                     'salary': 2000\n",
    "                     },\n",
    "                'id2':\n",
    "                    {'name': 'Sara',\n",
    "                     'age': 18,\n",
    "                     'salary': 1000\n",
    "                     },\n",
    "                \"a\": \"A\",\n",
    "                'id3':\n",
    "                    {'name': 'Omid',\n",
    "                     \"age\": 20,\n",
    "                     'salary': 1000,\n",
    "                     \"pooya\": 2000,\n",
    "                     \"last_name\": \"Zamani\"\n",
    "                     },\n",
    "                'id4': dict(name=\"Amir\", age=28, salary=2000),\n",
    "                \"last_name\": \"Mohammadi\",\n",
    "                }\n",
    "dic_flat = dict()\n",
    "\n",
    "for key_string, student_val in student_data.items():\n",
    "    if isinstance(student_val, dict):\n",
    "        for (key_inner, val_inner) in student_val.items():\n",
    "            i = 0\n",
    "            flag = True\n",
    "            while flag :\n",
    "                key_name = str(key_inner + \"_\" + str(i))\n",
    "                if key_name not in dic_flat:\n",
    "                    dic_flat[key_name] = val_inner\n",
    "                    flag = False\n",
    "                else:\n",
    "                    i += 1\n",
    "    elif  isinstance(student_val, str):\n",
    "            i = 0\n",
    "            flag = True\n",
    "            while flag :\n",
    "                key_names = str(key_string + \"_\" + str(i))\n",
    "                if key_names not in dic_flat:\n",
    "                    dic_flat[key_names] = student_val\n",
    "                    flag = False\n",
    "                else:\n",
    "                    i += 1\n",
    "\n",
    "        \n",
    "dic_flat"
   ]
  },
  {
   "cell_type": "code",
   "execution_count": 50,
   "id": "97767638",
   "metadata": {},
   "outputs": [],
   "source": [
    "dict_ = {\"a\": \"A\", \"b\": \"B\", \"c\": None, \"d\": \"\"}\n"
   ]
  },
  {
   "cell_type": "code",
   "execution_count": 56,
   "id": "336b7e55",
   "metadata": {},
   "outputs": [
    {
     "ename": "RuntimeError",
     "evalue": "dictionary changed size during iteration",
     "output_type": "error",
     "traceback": [
      "\u001b[1;31m---------------------------------------------------------------------------\u001b[0m",
      "\u001b[1;31mRuntimeError\u001b[0m                              Traceback (most recent call last)",
      "Input \u001b[1;32mIn [56]\u001b[0m, in \u001b[0;36m<cell line: 1>\u001b[1;34m()\u001b[0m\n\u001b[1;32m----> 1\u001b[0m \u001b[38;5;28;01mfor\u001b[39;00m key, value \u001b[38;5;129;01min\u001b[39;00m  dict_\u001b[38;5;241m.\u001b[39mitems():\n\u001b[0;32m      2\u001b[0m     \u001b[38;5;28;01mif\u001b[39;00m value \u001b[38;5;241m==\u001b[39m \u001b[38;5;28;01mNone\u001b[39;00m \u001b[38;5;129;01mor\u001b[39;00m value \u001b[38;5;241m==\u001b[39m \u001b[38;5;124m\"\u001b[39m\u001b[38;5;124m\"\u001b[39m:\n\u001b[0;32m      3\u001b[0m         \u001b[38;5;28;01mdel\u001b[39;00m dict_[key]\n",
      "\u001b[1;31mRuntimeError\u001b[0m: dictionary changed size during iteration"
     ]
    }
   ],
   "source": [
    "for key, value in  dict_.items():\n",
    "    if value == None or value == \"\":\n",
    "        del dict_[key]"
   ]
  },
  {
   "cell_type": "code",
   "execution_count": 55,
   "id": "bcd3ab82",
   "metadata": {},
   "outputs": [
    {
     "data": {
      "text/plain": [
       "{'a': 'A', 'b': 'B', 'd': ''}"
      ]
     },
     "execution_count": 55,
     "metadata": {},
     "output_type": "execute_result"
    }
   ],
   "source": [
    "dict_"
   ]
  },
  {
   "cell_type": "code",
   "execution_count": null,
   "id": "1d406be4",
   "metadata": {},
   "outputs": [],
   "source": []
  }
 ],
 "metadata": {
  "kernelspec": {
   "display_name": "Python 3 (ipykernel)",
   "language": "python",
   "name": "python3"
  },
  "language_info": {
   "codemirror_mode": {
    "name": "ipython",
    "version": 3
   },
   "file_extension": ".py",
   "mimetype": "text/x-python",
   "name": "python",
   "nbconvert_exporter": "python",
   "pygments_lexer": "ipython3",
   "version": "3.9.12"
  }
 },
 "nbformat": 4,
 "nbformat_minor": 5
}
