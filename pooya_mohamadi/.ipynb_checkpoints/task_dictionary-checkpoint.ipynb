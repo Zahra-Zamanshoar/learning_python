{
 "cells": [
  {
   "cell_type": "code",
   "execution_count": 2,
   "id": "d938fb44",
   "metadata": {},
   "outputs": [
    {
     "data": {
      "text/plain": [
       "{'name_0': 'Sara',\n",
       " 'age_0': 28,\n",
       " 'salary_0': 2000,\n",
       " 'name_1': 'Sara',\n",
       " 'age_1': 18,\n",
       " 'salary_1': 1000,\n",
       " 'a_0': 'A',\n",
       " 'name_2': 'Omid',\n",
       " 'age_2': 20,\n",
       " 'salary_2': 1000,\n",
       " 'pooya_0': 2000,\n",
       " 'last_name_0': 'Zamani',\n",
       " 'name_3': 'Amir',\n",
       " 'age_3': 28,\n",
       " 'salary_3': 2000,\n",
       " 'last_name_1': 'Mohammadi'}"
      ]
     },
     "execution_count": 2,
     "metadata": {},
     "output_type": "execute_result"
    }
   ],
   "source": [
    "student_data = {'id1':\n",
    "                    {'name': 'Sara',\n",
    "                     'age': 28,\n",
    "                     'salary': 2000\n",
    "                     },\n",
    "                'id2':\n",
    "                    {'name': 'Sara',\n",
    "                     'age': 18,\n",
    "                     'salary': 1000\n",
    "                     },\n",
    "                \"a\": \"A\",\n",
    "                'id3':\n",
    "                    {'name': 'Omid',\n",
    "                     \"age\": 20,\n",
    "                     'salary': 1000,\n",
    "                     \"pooya\": 2000,\n",
    "                     \"last_name\": \"Zamani\"\n",
    "                     },\n",
    "                'id4': dict(name=\"Amir\", age=28, salary=2000),\n",
    "                \"last_name\": \"Mohammadi\",\n",
    "                }\n",
    "dic_flat = dict()\n",
    "\n",
    "for key_string, student_val in student_data.items():\n",
    "    if isinstance(student_val, dict):\n",
    "        for (key_inner, val_inner) in student_val.items():\n",
    "            i = 0\n",
    "            flag = True\n",
    "            while flag :\n",
    "                key_name = str(key_inner + \"_\" + str(i))\n",
    "                if key_name not in dic_flat:\n",
    "                    dic_flat[key_name] = val_inner\n",
    "                    flag = False\n",
    "                else:\n",
    "                    i += 1\n",
    "    elif  isinstance(student_val, str):\n",
    "            i = 0\n",
    "            flag = True\n",
    "            while flag :\n",
    "                key_names = str(key_string + \"_\" + str(i))\n",
    "                if key_names not in dic_flat:\n",
    "                    dic_flat[key_names] = student_val\n",
    "                    flag = False\n",
    "                else:\n",
    "                    i += 1\n",
    "\n",
    "        \n",
    "dic_flat"
   ]
  },
  {
   "cell_type": "code",
   "execution_count": 1,
   "id": "97767638",
   "metadata": {},
   "outputs": [
    {
     "data": {
      "text/plain": [
       "{'a': 'A', 'b': 'B', 'c': None, 'd': ''}"
      ]
     },
     "execution_count": 1,
     "metadata": {},
     "output_type": "execute_result"
    }
   ],
   "source": [
    "dict_ = {\"a\": \"A\", \"b\": \"B\", \"c\": None, \"d\": \"\"}\n",
    "dict_"
   ]
  },
  {
   "cell_type": "code",
   "execution_count": null,
   "id": "98afd2f8",
   "metadata": {},
   "outputs": [],
   "source": [
    "if dict_.values() is None:\n",
    "    del dict_.values"
   ]
  }
 ],
 "metadata": {
  "kernelspec": {
   "display_name": "Python 3 (ipykernel)",
   "language": "python",
   "name": "python3"
  },
  "language_info": {
   "codemirror_mode": {
    "name": "ipython",
    "version": 3
   },
   "file_extension": ".py",
   "mimetype": "text/x-python",
   "name": "python",
   "nbconvert_exporter": "python",
   "pygments_lexer": "ipython3",
   "version": "3.9.12"
  }
 },
 "nbformat": 4,
 "nbformat_minor": 5
}
