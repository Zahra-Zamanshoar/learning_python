{
 "cells": [
  {
   "cell_type": "code",
   "execution_count": 1,
   "id": "b061fe3c",
   "metadata": {},
   "outputs": [],
   "source": [
    "z = 'zahra is good her mother is not good'"
   ]
  },
  {
   "cell_type": "code",
   "execution_count": 6,
   "id": "132aef21",
   "metadata": {},
   "outputs": [
    {
     "data": {
      "text/plain": [
       "'zahra was good her mother is not good'"
      ]
     },
     "execution_count": 6,
     "metadata": {},
     "output_type": "execute_result"
    }
   ],
   "source": [
    "z.replace('is','was', 1)"
   ]
  },
  {
   "cell_type": "code",
   "execution_count": null,
   "id": "60d9916d",
   "metadata": {},
   "outputs": [],
   "source": []
  }
 ],
 "metadata": {
  "kernelspec": {
   "display_name": "Python 3 (ipykernel)",
   "language": "python",
   "name": "python3"
  },
  "language_info": {
   "codemirror_mode": {
    "name": "ipython",
    "version": 3
   },
   "file_extension": ".py",
   "mimetype": "text/x-python",
   "name": "python",
   "nbconvert_exporter": "python",
   "pygments_lexer": "ipython3",
   "version": "3.10.7"
  }
 },
 "nbformat": 4,
 "nbformat_minor": 5
}
