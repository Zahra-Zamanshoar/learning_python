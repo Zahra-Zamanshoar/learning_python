{
 "cells": [
  {
   "cell_type": "markdown",
   "metadata": {},
   "source": [
    "# Data Mining\n",
    "\n",
    "## Linear Regression\n",
    "\n",
    "### After completing materials of this notebook, you should be able to:\n",
    "\n",
    "* Explain what linear regression is, how it is used and the benefits of using it.\n",
    "* Recognize the necessary format for data in order to perform predictive linear regression.\n",
    "* Explain the basic algebraic formula for calculating linear regression.\n",
    "* Develop a linear regression data mining model using a training data set.\n",
    "* Interpret the model’s coefficients and apply them to a scoring data set in order to deploy the model.\n",
    "\n",
    "#### ORGANIZATIONAL UNDERSTANDING\n",
    "    we are trying to predict heating oil usage for new customers\n",
    "\n",
    "#### Data Understanding\n",
    "* __Insulation__: This is a density rating, ranging from one to ten, indicating the thickness of each home’s insulation. A home with a density rating of one is poorly insulated, while a home with a density of ten has excellent insulation.\n",
    "* __Temperature__: This is the average outdoor ambient temperature at each home for the most recent year, measure in degree Fahrenheit.\n",
    "* __Heating_Oil__: This is the total number of units of heating oil purchased by the owner of each home in the most recent year.\n",
    "* __Num_Occupants__: This is the total number of occupants living in each home.\n",
    "* __Avg_Age__: This is the average age of those occupants.\n",
    "* __Home_Size__: This is a rating, on a scale of one to eight, of the home’s overall size. The higher the number, the larger the home.\n",
    "\n",
    "#### Data Preparation\n",
    "    using linear regression as a predictive model, it is extremely important to remember that the ranges for all attributes in the scoring data must be within the ranges for the corresponding attributes in the training data"
   ]
  }
 ],
 "metadata": {
  "kernelspec": {
   "display_name": "Python 3",
   "language": "python",
   "name": "python3"
  },
  "language_info": {
   "codemirror_mode": {
    "name": "ipython",
    "version": 3
   },
   "file_extension": ".py",
   "mimetype": "text/x-python",
   "name": "python",
   "nbconvert_exporter": "python",
   "pygments_lexer": "ipython3",
   "version": "3.7.4"
  }
 },
 "nbformat": 4,
 "nbformat_minor": 2
}
