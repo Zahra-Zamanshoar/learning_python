{
  "nbformat": 4,
  "nbformat_minor": 0,
  "metadata": {
    "colab": {
      "name": "mnist.ipynb",
      "provenance": [],
      "collapsed_sections": []
    },
    "kernelspec": {
      "name": "python3",
      "display_name": "Python 3"
    },
    "accelerator": "GPU"
  },
  "cells": [
    {
      "cell_type": "code",
      "metadata": {
        "id": "bL3UeIqQp2yY",
        "colab_type": "code",
        "outputId": "0b0f0e26-dcb4-4428-bd31-81e2a1c4345b",
        "colab": {
          "base_uri": "https://localhost:8080/",
          "height": 131
        }
      },
      "source": [
        "from google.colab import drive\n",
        "drive.mount('/content/drive')"
      ],
      "execution_count": 0,
      "outputs": [
        {
          "output_type": "stream",
          "text": [
            "Go to this URL in a browser: https://accounts.google.com/o/oauth2/auth?client_id=947318989803-6bn6qk8qdgf4n4g3pfee6491hc0brc4i.apps.googleusercontent.com&redirect_uri=urn%3aietf%3awg%3aoauth%3a2.0%3aoob&response_type=code&scope=email%20https%3a%2f%2fwww.googleapis.com%2fauth%2fdocs.test%20https%3a%2f%2fwww.googleapis.com%2fauth%2fdrive%20https%3a%2f%2fwww.googleapis.com%2fauth%2fdrive.photos.readonly%20https%3a%2f%2fwww.googleapis.com%2fauth%2fpeopleapi.readonly\n",
            "\n",
            "Enter your authorization code:\n",
            "··········\n",
            "Mounted at /content/drive\n"
          ],
          "name": "stdout"
        }
      ]
    },
    {
      "cell_type": "code",
      "metadata": {
        "id": "BaLSD5QQpjTt",
        "colab_type": "code",
        "colab": {}
      },
      "source": [
        "import os\n",
        "os.chdir('/content/drive/My Drive/Colab_Notebooks/Python')"
      ],
      "execution_count": 0,
      "outputs": []
    },
    {
      "cell_type": "code",
      "metadata": {
        "id": "Ue34tbpt6vqt",
        "colab_type": "code",
        "outputId": "ae860c04-0fcb-458d-b48c-44b0b55420d7",
        "colab": {
          "base_uri": "https://localhost:8080/",
          "height": 639
        }
      },
      "source": [
        "!pip install comet_ml"
      ],
      "execution_count": 0,
      "outputs": [
        {
          "output_type": "stream",
          "text": [
            "Collecting comet_ml\n",
            "\u001b[?25l  Downloading https://files.pythonhosted.org/packages/99/c6/fac88f43f2aa61a09fee4ffb769c73fe93fe7de75764246e70967d31da09/comet_ml-3.0.2-py3-none-any.whl (170kB)\n",
            "\u001b[K     |████████████████████████████████| 174kB 8.7MB/s \n",
            "\u001b[?25hCollecting netifaces>=0.10.7\n",
            "  Downloading https://files.pythonhosted.org/packages/0c/9b/c4c7eb09189548d45939a3d3a6b3d53979c67d124459b27a094c365c347f/netifaces-0.10.9-cp36-cp36m-manylinux1_x86_64.whl\n",
            "Collecting comet-git-pure>=0.19.11\n",
            "\u001b[?25l  Downloading https://files.pythonhosted.org/packages/fa/91/b191ae375380332f82aaa83a41c45844ee1809198085cd267fbcb95cce86/comet_git_pure-0.19.14-py3-none-any.whl (401kB)\n",
            "\u001b[K     |████████████████████████████████| 409kB 10.9MB/s \n",
            "\u001b[?25hRequirement already satisfied: six in /usr/local/lib/python3.6/dist-packages (from comet_ml) (1.12.0)\n",
            "Collecting websocket-client>=0.55.0\n",
            "\u001b[?25l  Downloading https://files.pythonhosted.org/packages/29/19/44753eab1fdb50770ac69605527e8859468f3c0fd7dc5a76dd9c4dbd7906/websocket_client-0.56.0-py2.py3-none-any.whl (200kB)\n",
            "\u001b[K     |████████████████████████████████| 204kB 19.2MB/s \n",
            "\u001b[?25hCollecting wurlitzer>=1.0.2\n",
            "  Downloading https://files.pythonhosted.org/packages/24/5e/f3bd8443bfdf96d2f5d10097d301076a9eb55637b7864e52d2d1a4d8c72a/wurlitzer-2.0.0-py2.py3-none-any.whl\n",
            "Requirement already satisfied: jsonschema<3.1.0,>=2.6.0 in /usr/local/lib/python3.6/dist-packages (from comet_ml) (2.6.0)\n",
            "Requirement already satisfied: nvidia-ml-py3>=7.352.0 in /usr/local/lib/python3.6/dist-packages (from comet_ml) (7.352.0)\n",
            "Collecting everett[ini]>=1.0.1; python_version >= \"3.0\"\n",
            "  Downloading https://files.pythonhosted.org/packages/12/34/de70a3d913411e40ce84966f085b5da0c6df741e28c86721114dd290aaa0/everett-1.0.2-py2.py3-none-any.whl\n",
            "Requirement already satisfied: requests>=2.18.4 in /usr/local/lib/python3.6/dist-packages (from comet_ml) (2.21.0)\n",
            "Requirement already satisfied: certifi in /usr/local/lib/python3.6/dist-packages (from comet-git-pure>=0.19.11->comet_ml) (2019.11.28)\n",
            "Requirement already satisfied: urllib3>=1.24.1 in /usr/local/lib/python3.6/dist-packages (from comet-git-pure>=0.19.11->comet_ml) (1.24.3)\n",
            "Collecting configobj; extra == \"ini\"\n",
            "  Downloading https://files.pythonhosted.org/packages/64/61/079eb60459c44929e684fa7d9e2fdca403f67d64dd9dbac27296be2e0fab/configobj-5.0.6.tar.gz\n",
            "Requirement already satisfied: idna<2.9,>=2.5 in /usr/local/lib/python3.6/dist-packages (from requests>=2.18.4->comet_ml) (2.8)\n",
            "Requirement already satisfied: chardet<3.1.0,>=3.0.2 in /usr/local/lib/python3.6/dist-packages (from requests>=2.18.4->comet_ml) (3.0.4)\n",
            "Building wheels for collected packages: configobj\n",
            "  Building wheel for configobj (setup.py) ... \u001b[?25l\u001b[?25hdone\n",
            "  Created wheel for configobj: filename=configobj-5.0.6-cp36-none-any.whl size=34546 sha256=dc8ca6812a9ee7fd0f04a47b3139cd12a782da48f03390e04300e8d549fcb74b\n",
            "  Stored in directory: /root/.cache/pip/wheels/f1/e4/16/4981ca97c2d65106b49861e0b35e2660695be7219a2d351ee0\n",
            "Successfully built configobj\n",
            "Installing collected packages: netifaces, comet-git-pure, websocket-client, wurlitzer, configobj, everett, comet-ml\n",
            "Successfully installed comet-git-pure-0.19.14 comet-ml-3.0.2 configobj-5.0.6 everett-1.0.2 netifaces-0.10.9 websocket-client-0.56.0 wurlitzer-2.0.0\n"
          ],
          "name": "stdout"
        }
      ]
    },
    {
      "cell_type": "code",
      "metadata": {
        "id": "yJOeH15DsTqZ",
        "colab_type": "code",
        "colab": {}
      },
      "source": [
        "%tensorflow_version 1.x\n",
        "from comet_ml import Experiment\n",
        "import matplotlib.pyplot as plt\n",
        "\n",
        "from keras.datasets import mnist\n",
        "from keras.models import Sequential\n",
        "from keras.layers import Dense\n",
        "from keras.utils import to_categorical\n",
        "from keras.utils import plot_model\n",
        "from keras.optimizers import Adam"
      ],
      "execution_count": 0,
      "outputs": []
    },
    {
      "cell_type": "code",
      "metadata": {
        "id": "NcZGg5866uHA",
        "colab_type": "code",
        "outputId": "99d8226d-43e7-4758-eb14-be1ca1e1ea31",
        "colab": {
          "base_uri": "https://localhost:8080/",
          "height": 695
        }
      },
      "source": [
        "experiment = Experiment(api_key=\"GytDCgaK0BqzgRHv04J268iS1\",\n",
        "                        project_name=\"mnist\", workspace=\"pooya-mohammadi-k\")\n",
        "\n",
        "learning_rate = 0.1\n",
        "epochs = 20\n",
        "batch_size = 32\n",
        "act_fn = 'relu'\n",
        "h_layer_1 = 20\n",
        "h_layer_2 = 20\n",
        "\n",
        "params={'batch_size': batch_size,\n",
        "        'epochs':epochs,\n",
        "        'layer_activation':act_fn,\n",
        "        'optimizer':'adam',\n",
        "        'learning_rate': learning_rate,\n",
        "        \"h_layer_1\" :h_layer_1,\n",
        "        \"h_layer_2\" :h_layer_2,\n",
        "}\n",
        "\n",
        "# log parameters in Comet.ml\n",
        "experiment.log_parameters(params)"
      ],
      "execution_count": 0,
      "outputs": [
        {
          "output_type": "stream",
          "text": [
            "COMET INFO: ----------------------------\n",
            "COMET INFO: Comet.ml Experiment Summary:\n",
            "COMET INFO:   Data:\n",
            "COMET INFO:     url: https://www.comet.ml/pooya-mohammadi-k/mnist/a3c16ba2d5604e6c80038381e39af2d5\n",
            "COMET INFO:   Metrics [count] (min, max):\n",
            "COMET INFO:     sys.cpu.percent.01 [5]             : (0.9, 44.2)\n",
            "COMET INFO:     sys.cpu.percent.02 [5]             : (1.0, 45.0)\n",
            "COMET INFO:     sys.cpu.percent.avg [5]            : (0.95, 44.6)\n",
            "COMET INFO:     sys.gpu.0.free_memory [6]          : (16663838720.0, 17071734784.0)\n",
            "COMET INFO:     sys.gpu.0.gpu_utilization [6]      : (0.0, 0.0)\n",
            "COMET INFO:     sys.gpu.0.total_memory             : (17071734784.0, 17071734784.0)\n",
            "COMET INFO:     sys.gpu.0.used_memory [6]          : (0.0, 407896064.0)\n",
            "COMET INFO:     sys.ram.total [5]                  : (13655232512.0, 13655232512.0)\n",
            "COMET INFO:     sys.ram.used [5]                   : (717266944.0, 1906647040.0)\n",
            "COMET INFO:     test_accuracy                      : (0.9482, 0.9482)\n",
            "COMET INFO:     test_loss                          : (0.1766988329946995, 0.1766988329946995)\n",
            "COMET INFO:     train_acc [20]                     : (0.6510833333333333, 0.9539333333333333)\n",
            "COMET INFO:     train_batch_acc [3760]             : (0.0625, 1.0)\n",
            "COMET INFO:     train_batch_loss [3760]            : (0.016586221754550934, 2.381181240081787)\n",
            "COMET INFO:     train_epoch_duration [20]          : (6.2508170660000815, 7.949775653000074)\n",
            "COMET INFO:     train_loss [20]                    : (0.16216678624153139, 1.2497577417373658)\n",
            "COMET INFO:     train_step                         : 37500\n",
            "COMET INFO:     train_sys.cpu.percent.01 [2]       : (19.9, 71.9)\n",
            "COMET INFO:     train_sys.cpu.percent.02 [2]       : (21.7, 71.9)\n",
            "COMET INFO:     train_sys.cpu.percent.avg [2]      : (20.799999999999997, 71.9)\n",
            "COMET INFO:     train_sys.gpu.0.free_memory [2]    : (16663838720.0, 16663838720.0)\n",
            "COMET INFO:     train_sys.gpu.0.gpu_utilization [2]: (18.0, 19.0)\n",
            "COMET INFO:     train_sys.gpu.0.used_memory [2]    : (407896064.0, 407896064.0)\n",
            "COMET INFO:     train_sys.ram.total [2]            : (13655232512.0, 13655232512.0)\n",
            "COMET INFO:     train_sys.ram.used [2]             : (1889910784.0, 1906540544.0)\n",
            "COMET INFO:   Other [count]:\n",
            "COMET INFO:     train_trainable_params: 16330\n",
            "COMET INFO: ----------------------------\n",
            "COMET INFO: Experiment is live on comet.ml https://www.comet.ml/pooya-mohammadi-k/mnist/993774769ad44fc39a54f06ff431320a\n",
            "\n"
          ],
          "name": "stderr"
        }
      ]
    },
    {
      "cell_type": "code",
      "metadata": {
        "id": "UdMLSgg45kgL",
        "colab_type": "code",
        "outputId": "adade826-e02e-404e-a4df-234e9667f1d8",
        "colab": {
          "base_uri": "https://localhost:8080/",
          "height": 92
        }
      },
      "source": [
        "(x_train, y_train), (x_test, y_test) = mnist.load_data()\n",
        "x_train = x_train.reshape(-1, 784)/255\n",
        "x_test = x_test.reshape(-1, 784)/255\n",
        "\n",
        "y_test = to_categorical(y_test)\n",
        "y_train = to_categorical(y_train)\n",
        "\n",
        "print('x_test: ', x_test.shape)\n",
        "print('x_train: ', x_train.shape)\n",
        "\n",
        "print('y_test: ', y_test.shape)\n",
        "print('y_train: ', y_train.shape)"
      ],
      "execution_count": 0,
      "outputs": [
        {
          "output_type": "stream",
          "text": [
            "x_test:  (10000, 784)\n",
            "x_train:  (60000, 784)\n",
            "y_test:  (10000, 10)\n",
            "y_train:  (60000, 10)\n"
          ],
          "name": "stdout"
        }
      ]
    },
    {
      "cell_type": "code",
      "metadata": {
        "id": "KL7KE3d_unm7",
        "colab_type": "code",
        "colab": {}
      },
      "source": [
        "model = Sequential()\n",
        "model.add(Dense(units=h_layer_1, activation=act_fn, input_shape=(784,), name='me_dense_1'))\n",
        "model.add(Dense(units=h_layer_2, activation=act_fn))\n",
        "model.add(Dense(units=10, activation='softmax'))"
      ],
      "execution_count": 0,
      "outputs": []
    },
    {
      "cell_type": "code",
      "metadata": {
        "id": "xJFLahNdvYYX",
        "colab_type": "code",
        "outputId": "9490a920-e49a-4f49-a5de-269b111f7d14",
        "colab": {
          "base_uri": "https://localhost:8080/",
          "height": 685
        }
      },
      "source": [
        "model.compile(optimizer=Adam(learning_rate), loss='categorical_crossentropy', metrics=['acc'])\n",
        "model.summary()\n",
        "plot_model(model, to_file='mnist_model.png', show_shapes=True)"
      ],
      "execution_count": 0,
      "outputs": [
        {
          "output_type": "stream",
          "text": [
            "Model: \"sequential_3\"\n",
            "_________________________________________________________________\n",
            "Layer (type)                 Output Shape              Param #   \n",
            "=================================================================\n",
            "me_dense_1 (Dense)           (None, 20)                15700     \n",
            "_________________________________________________________________\n",
            "dense_5 (Dense)              (None, 20)                420       \n",
            "_________________________________________________________________\n",
            "dense_6 (Dense)              (None, 10)                210       \n",
            "=================================================================\n",
            "Total params: 16,330\n",
            "Trainable params: 16,330\n",
            "Non-trainable params: 0\n",
            "_________________________________________________________________\n"
          ],
          "name": "stdout"
        },
        {
          "output_type": "execute_result",
          "data": {
            "image/png": "[encoded data removed]",
            "text/plain": [
              "<IPython.core.display.Image object>"
            ]
          },
          "metadata": {
            "tags": []
          },
          "execution_count": 15
        }
      ]
    },
    {
      "cell_type": "code",
      "metadata": {
        "id": "gwvD-dy6y3eF",
        "colab_type": "code",
        "outputId": "8661fa7b-a1c0-420b-df3c-dae3bf31b6d1",
        "colab": {
          "base_uri": "https://localhost:8080/",
          "height": 788
        }
      },
      "source": [
        "with experiment.train():\n",
        "    history = model.fit(x_train, y_train,\n",
        "                        batch_size=batch_size,\n",
        "                        epochs=epochs,\n",
        "                        verbose=1,\n",
        "                        )\n",
        "\n",
        "#will log metrics with the prefix 'test_'\n",
        "with experiment.test():\n",
        "    loss, accuracy = model.evaluate(x_test, y_test)\n",
        "    metrics = {\n",
        "        'loss':loss,\n",
        "        'accuracy':accuracy\n",
        "    }\n",
        "    experiment.log_metrics(metrics)"
      ],
      "execution_count": 0,
      "outputs": [
        {
          "output_type": "stream",
          "text": [
            "Epoch 1/20\n",
            "60000/60000 [==============================] - 6s 103us/step - loss: 1.6548 - acc: 0.3979\n",
            "Epoch 2/20\n",
            "60000/60000 [==============================] - 6s 102us/step - loss: 2.3157 - acc: 0.2207\n",
            "Epoch 3/20\n",
            "60000/60000 [==============================] - 6s 101us/step - loss: 2.1610 - acc: 0.1686\n",
            "Epoch 4/20\n",
            "60000/60000 [==============================] - 6s 103us/step - loss: 2.0613 - acc: 0.1985\n",
            "Epoch 5/20\n",
            "60000/60000 [==============================] - 6s 102us/step - loss: 2.0797 - acc: 0.1919\n",
            "Epoch 6/20\n",
            "60000/60000 [==============================] - 6s 106us/step - loss: 2.0542 - acc: 0.2007\n",
            "Epoch 7/20\n",
            "60000/60000 [==============================] - 6s 104us/step - loss: 2.1567 - acc: 0.1703\n",
            "Epoch 8/20\n",
            "60000/60000 [==============================] - 6s 103us/step - loss: 2.0401 - acc: 0.2021\n",
            "Epoch 9/20\n",
            "60000/60000 [==============================] - 6s 100us/step - loss: 2.1340 - acc: 0.1665\n",
            "Epoch 10/20\n",
            "60000/60000 [==============================] - 6s 102us/step - loss: 2.0579 - acc: 0.1959\n",
            "Epoch 11/20\n",
            "60000/60000 [==============================] - 6s 103us/step - loss: 2.2220 - acc: 0.2043\n",
            "Epoch 12/20\n",
            "60000/60000 [==============================] - 6s 101us/step - loss: 2.0347 - acc: 0.2044\n",
            "Epoch 13/20\n",
            "60000/60000 [==============================] - 6s 102us/step - loss: 2.0323 - acc: 0.2040\n",
            "Epoch 14/20\n",
            "60000/60000 [==============================] - 6s 101us/step - loss: 2.0334 - acc: 0.2015\n",
            "Epoch 15/20\n",
            "60000/60000 [==============================] - 6s 101us/step - loss: 2.0289 - acc: 0.2060\n",
            "Epoch 16/20\n",
            "60000/60000 [==============================] - 6s 105us/step - loss: 5.2278 - acc: 0.1859\n",
            "Epoch 17/20\n",
            "60000/60000 [==============================] - 6s 104us/step - loss: 2.0784 - acc: 0.1909\n",
            "Epoch 18/20\n",
            "60000/60000 [==============================] - 6s 108us/step - loss: 2.0384 - acc: 0.2031\n",
            "Epoch 19/20\n",
            "60000/60000 [==============================] - 6s 105us/step - loss: 2.0313 - acc: 0.2029\n",
            "Epoch 20/20\n",
            "60000/60000 [==============================] - 6s 103us/step - loss: 2.0270 - acc: 0.2018\n",
            "10000/10000 [==============================] - 0s 40us/step\n"
          ],
          "name": "stdout"
        }
      ]
    },
    {
      "cell_type": "markdown",
      "metadata": {
        "id": "1umVY5bA7w9a",
        "colab_type": "text"
      },
      "source": [
        "*:)*"
      ]
    }
  ]
}