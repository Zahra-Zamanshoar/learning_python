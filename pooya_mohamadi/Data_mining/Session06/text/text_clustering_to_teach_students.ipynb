{
 "cells": [
  {
   "cell_type": "markdown",
   "metadata": {},
   "source": [
    "# Data Mining\n",
    "\n",
    "## Text Mining\n",
    "\n",
    "1. A simple text cleaning definition.\n",
    "2. Feature Extraction.\n",
    "3. Training the models.\n",
    "4. Testing the models.\n",
    "\n",
    "For training K-Means models, the following 30 sentences were collected from 3 categories, namely Cricket, Artificial Intelligence and Chemistry."
   ]
  },
  {
   "cell_type": "markdown",
   "metadata": {},
   "source": [
    "1. Cricket is a bat and ball game played between two teams of eleven players each on a cricket field.\n",
    "2. Each phase of play is called an innings during which one team bats, attempting to score as many runs as possible.\n",
    "3. The teams have one or two innings apiece and, when the first innings ends, the teams swap roles for the next innings\n",
    "4. Before a match begins, the two team captains meet on the pitch for the toss of a coin to determine which team will bat first.\n",
    "5. Two batsmen and eleven fielders then enter the field and play begins when a member of the fielding team, known as the bowler, delivers the ball.\n",
    "6. The most common dismissal in cricket match are bowled, when the bowler hits the stumps directly with the ball and dislodges the bails. Batsman gets out.\n",
    "7. Runs are scored by two main methods: either by hitting the ball hard enough for it to cross the boundary, or by the two batsmen swapping ends.\n",
    "8. The main objective of each team is to score more runs than their opponents.\n",
    "9. If the team batting last is all out having scored fewer runs than their opponents, they are said to have \"lost by n runs\".\n",
    "10. The role of striker batsman is to prevent the ball from hitting the stumps by using his bat and, simultaneously, to strike it well enough to score runs\n",
    "11. Artificial intelligence is intelligence exhibited by machines, rather than humans or other animals. \n",
    "12. the field of AI research defines itself as the study of \"intelligent agents\": any device that perceives its environment and takes actions that maximize its chance of success at some goal\n",
    "13. The overall research goal of artificial intelligence is to create technology that allows computers and machines to function in an intelligent manner.\n",
    "14. Natural language processing[77] gives machines the ability to read and understand human language and extract intelligence from it.\n",
    "15. AI researchers developed sophisticated mathematical tools to solve specific subproblems. These tools are truly scientific, in the sense that their results are both measurable and verifiable.\n",
    "16. An intelligent agent is a system that perceives its environment and takes actions which maximize its chances of success.\n",
    "17. AI techniques have become an essential part of the technology industry, helping to solve many challenging problems in computer science.\n",
    "18. Recent advancements in AI, and specifically in machine learning, have contributed to the growth of Autonomous Things such as drones and self-driving cars.\n",
    "19. AI research was revived by the commercial success of expert systems,[28] a form of AI program that simulated the knowledge and analytical skills of human experts.\n",
    "20. Advanced statistical techniques (loosely known as deep learning), access to large amounts of data and faster computers enabled advances in machine learning and perception.\n",
    "21. A compound is a pure chemical substance composed of more than one element and the properties of a compound bear little similarity to those of its elements.\n",
    "22. Since the properties of an element are mostly determined by its electron configuration, the properties of the elements likewise show recurring patterns or periodic behaviour.\n",
    "23. The property of inertness of noble gases makes them very suitable in chemicals where reactions are not wanted.\n",
    "24. The atom is also the smallest entity that can be envisaged to retain the chemical properties of the element, such as electronegativity, ionization potential and preferred oxidation state.\n",
    "25. The nucleus is made up of positively charged protons and uncharged neutrons (together called nucleons), while the electron cloud consists of negatively charged electrons which orbit the nucleus\n",
    "26. The atom is the basic unit of chemistry. It consists of a dense core called the atomic nucleus surrounded by a space called the electron cloud.\n",
    "27. A chemical reaction is a transformation of some substances into one or more different substances.\n",
    "28. Chemistry is sometimes called the central science because it bridges other natural sciences, including physics, geology and biology.\n",
    "29. Chemistry includes topics such as the properties of individual atoms and how atoms form chemical bonds to create chemical compounds.\n",
    "30. Chemistry is a branch of physical science that studies the composition, structure of atoms, properties and change of matter."
   ]
  },
  {
   "cell_type": "markdown",
   "metadata": {},
   "source": [
    "__Work Fellow__:\n",
    "\n",
    "\n",
    "Texts  ==>  Stop words removal ==> Punctuation free ==> Word Lemmatization ==> Digit removal ==> Feature Extraction (Tf-Idf) ==> Model training"
   ]
  },
  {
   "cell_type": "markdown",
   "metadata": {},
   "source": [
    "### Text cleaning(Data Preparation)\n",
    "* __Removal of stop words__\n",
    "Stop words like “and”, “if”, “the”, etc are very common in all English sentences and are not very meaningful in deciding the theme of the article, so these words can be removed from the articles.\n",
    "\n",
    "* __Removal of Punctuation Characters__\n",
    "– Exclude all punctuation marks from the set([‘!’, ‘#’, ‘”‘, ‘%’, ‘$’, “‘”, ‘&’, ‘)’, ‘(‘, ‘+’, ‘*’, ‘-‘, ‘,’, ‘/’, ‘.’, ‘;’, ‘:’, ‘=’, ‘<‘, ‘?’, ‘>’, ‘@’, ‘[‘, ‘]’, ‘\\\\’, ‘_’, ‘^’, ‘`’, ‘{‘, ‘}’, ‘|’, ‘~’]).\n",
    "\n",
    "* __Lemmatization__\n",
    "– It is the process of grouping together the different inflected forms of a word so they can be analyzed as a single item. For example, “include”, “includes,” and “included” would all be represented as “include”. The context of the sentence is also preserved in lemmatization as opposed to stemming (another buzz word in text mining which does not consider the meaning of the sentence).\n",
    "\n",
    "* __Removal__ of digits from the text sentence."
   ]
  },
  {
   "cell_type": "code",
   "execution_count": null,
   "metadata": {},
   "outputs": [],
   "source": [
    "!pip install nltk"
   ]
  },
  {
   "cell_type": "code",
   "execution_count": null,
   "metadata": {},
   "outputs": [],
   "source": [
    "from sklearn.feature_extraction.text import TfidfVectorizer\n",
    "from sklearn.cluster import KMeans\n",
    "from nltk.corpus import stopwords\n",
    "from nltk.stem.wordnet import WordNetLemmatizer\n",
    "import string\n",
    "import re\n",
    "import numpy as np\n",
    "from collections import Counter\n",
    "import nltk"
   ]
  },
  {
   "cell_type": "code",
   "execution_count": null,
   "metadata": {},
   "outputs": [],
   "source": [
    "nltk.download('stopwords')"
   ]
  },
  {
   "cell_type": "markdown",
   "metadata": {},
   "source": [
    "### Tf-Idf Feature Extraction\n",
    "The most popular and widely used word weighing scheme in text mining problems, __term frequency and inverse document frequency (tf-idf)__, is a numerical statistic that is intended to reflect how important a word is to a document in a collection or corpus. The tf-idf value increases proportionally to the number of times a word appears in the document (tf), but is often offset by the frequency of the word in the whole corpus (idf), which helps to adjust for the fact that some words appear more frequently in general.\n",
    "\n",
    "\n",
    "\n",
    "__TF__:\n",
    "    Term Frequency, which measures how frequently a term occurs in a document. Since every document is different in length, it is possible that a term would appear much more times in long documents than shorter ones. Thus, the term frequency is often divided by the document length (aka. the total number of terms in the document) as a way of normalization:\n",
    "\n",
    "    TF(t) = (Number of times term t appears in a document) / (Total number of terms in the document).\n",
    "\n",
    "__IDF__:\n",
    "    Inverse Document Frequency, which measures how important a term is. While computing TF, all terms are considered equally important. However it is known that certain terms, such as \"is\", \"of\", and \"that\", may appear a lot of times but have little importance. Thus we need to weigh down the frequent terms while scale up the rare ones, by computing the following:\n",
    "\n",
    "    IDF(t) = log_e(Total number of documents / Number of documents with term t in it).\n",
    "\n",
    "__Example:__\n",
    "    Consider a document containing 100 words wherein the word cat appears 3 times. The term frequency (i.e., tf) for cat is then (3 / 100) = 0.03. Now, assume we have 10 million documents and the word cat appears in one thousand of these. Then, the inverse document frequency (i.e., idf) is calculated as log(10,000,000 / 1,000) = 4. Thus, the Tf-idf weight is the product of these quantities: 0.03 * 4 = 0.12."
   ]
  },
  {
   "cell_type": "code",
   "execution_count": null,
   "metadata": {},
   "outputs": [],
   "source": [
    "nltk.download('wordnet')"
   ]
  },
  {
   "cell_type": "markdown",
   "metadata": {},
   "source": [
    "### Training the Clustering (K-Means) models.\n",
    "As we have discussed earlier also, Text classification is a supervised learning task, whereas text clustering is an unsupervised task. We are investigating one machine learning algorithms here: K-Means clustering.\n",
    "The goal of clustering is to determine the intrinsic grouping in a set of unlabeled data (feature vectors). In K-Means clustering, ‘K’ cluster centers are discovered which is centroid of data points belonging to that cluster. A test data (feature-vector) is assigned to that cluster whose centroid is at minimum Euclidean distance from it."
   ]
  },
  {
   "cell_type": "markdown",
   "metadata": {},
   "source": [
    "### Testing on Unseen Texts.\n",
    "Once the model has been trained,  we demonstrate the concept of classification and clustering with above conventional methods. We tested it on the following few unseen text sentences.\n"
   ]
  },
  {
   "cell_type": "code",
   "execution_count": null,
   "metadata": {},
   "outputs": [],
   "source": [
    "# Predicting it on test data : Testing Phase\n",
    "test_sentences = [\"Chemical compunds are used for preparing bombs based on some reactions\",\\\n",
    "\"Cricket is a boring game where the batsman only enjoys the game\",\\\n",
    "\"Machine learning is an area of Artificial intelligence\"]"
   ]
  }
 ],
 "metadata": {
  "kernelspec": {
   "display_name": "Python 3",
   "language": "python",
   "name": "python3"
  },
  "language_info": {
   "codemirror_mode": {
    "name": "ipython",
    "version": 3
   },
   "file_extension": ".py",
   "mimetype": "text/x-python",
   "name": "python",
   "nbconvert_exporter": "python",
   "pygments_lexer": "ipython3",
   "version": "3.7.4"
  }
 },
 "nbformat": 4,
 "nbformat_minor": 2
}
