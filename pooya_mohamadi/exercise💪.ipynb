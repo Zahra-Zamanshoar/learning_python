{
 "cells": [
  {
   "cell_type": "markdown",
   "id": "4474ffe0",
   "metadata": {},
   "source": [
    "Write a python program to detect integer items in a list of string items,\n",
    " cast them into int, and print/return them out."
   ]
  },
  {
   "cell_type": "code",
   "execution_count": 1,
   "id": "9dae3910",
   "metadata": {
    "scrolled": false
   },
   "outputs": [
    {
     "name": "stdout",
     "output_type": "stream",
     "text": [
      "11\n",
      "17\n"
     ]
    }
   ],
   "source": [
    "valid_characters = \"0123456789\"\n",
    "lst = [\"11\", '122p17398479823749827349827', '101565pooya5132146', \"pooya\", '10.5', '17']\n",
    "lst_2 = []\n",
    "for lst_item in lst:\n",
    "    for item_character in lst_item:\n",
    "        if item_character not in valid_characters:\n",
    "            lst_2.append(lst_item)\n",
    "            break\n",
    "for lst_item in lst:\n",
    "    if lst_item not in lst_2:\n",
    "        print(int(lst_item))"
   ]
  },
  {
   "cell_type": "markdown",
   "id": "1ffb1192",
   "metadata": {},
   "source": [
    "### --------------------------------------------------------------------------------------------------------------------------------------------------------------"
   ]
  },
  {
   "cell_type": "markdown",
   "id": "6cd2dfa3",
   "metadata": {},
   "source": [
    "Write a Python program to print all even numbers from a given numbers list in the same order and stop the printing \n",
    "if any numbers that come after 237 in the sequence. Go to the editor Sample numbers list"
   ]
  },
  {
   "cell_type": "code",
   "execution_count": 3,
   "id": "a7a2d170",
   "metadata": {},
   "outputs": [
    {
     "name": "stdout",
     "output_type": "stream",
     "text": [
      "386\n",
      "462\n"
     ]
    }
   ],
   "source": [
    "s = [386, 462, 47, 418, 907, 344, 236, 375, 823,\n",
    "     566, 597, 978, 328, 615, 953, 345, 399, 162, 758,\n",
    "     219, 918, 237, 412, 566, 826, 248, 866, 950, 626, 949, 687, 217, 815, 67, 104, 58, 512, 24, 892, 894, 767, 553, 81,\n",
    "     379, 843, 831, 445, 742, 717, 958, 743, 527]\n",
    "for counter in s:\n",
    "    if counter != 47:\n",
    "        print(counter)\n",
    "    if counter == 47:\n",
    "        break"
   ]
  },
  {
   "cell_type": "markdown",
   "id": "724a0619",
   "metadata": {},
   "source": [
    "### --------------------------------------------------------------------------------------------------------------------------------------------------------------"
   ]
  },
  {
   "cell_type": "markdown",
   "id": "86fd80a5",
   "metadata": {},
   "source": [
    "\"Write a Python program to sum of two given integers.\n",
    " However, if the sum is between 15 to 20 it will return 20"
   ]
  },
  {
   "cell_type": "code",
   "execution_count": 4,
   "id": "568be88e",
   "metadata": {},
   "outputs": [
    {
     "name": "stdout",
     "output_type": "stream",
     "text": [
      "8\n",
      "11\n",
      "14\n",
      "20\n",
      "20\n",
      "23\n",
      "26\n",
      "29\n",
      "32\n",
      "35\n",
      "38\n"
     ]
    }
   ],
   "source": [
    "num_1 = 3\n",
    "num_2 = 5\n",
    "while True:\n",
    "    sum_1 = num_1 + num_2\n",
    "    num_1 += 1\n",
    "    num_2 += 2\n",
    "    if 15 <= sum_1 <= 20:\n",
    "        print(20)\n",
    "    elif sum_1 > 40:\n",
    "        break\n",
    "    else:\n",
    "        print(sum_1)"
   ]
  },
  {
   "cell_type": "markdown",
   "id": "72b64ccd",
   "metadata": {},
   "source": [
    "### --------------------------------------------------------------------------------------------------------------------------------------------------------------"
   ]
  },
  {
   "cell_type": "markdown",
   "id": "93590ab0",
   "metadata": {},
   "source": [
    "Write a Python program to count the members of a list and print them"
   ]
  },
  {
   "cell_type": "code",
   "execution_count": 6,
   "id": "77ef094d",
   "metadata": {},
   "outputs": [
    {
     "name": "stdout",
     "output_type": "stream",
     "text": [
      "1 >>> 3\n",
      "5 >>> 1\n",
      "6 >>> 1\n",
      "s >>> 2\n",
      "pooya >>> 1\n"
     ]
    }
   ],
   "source": [
    "lst = [1, 5, 6, 1, 1, 's', 's', 'pooya']\n",
    "find = []\n",
    "for i in lst:\n",
    "    count = 0\n",
    "    if i not in find:\n",
    "        find.append(i)\n",
    "        for j in lst:\n",
    "            if i == j:\n",
    "                count += 1\n",
    "        print(i, \">>>\", count)"
   ]
  },
  {
   "cell_type": "markdown",
   "id": "12fca713",
   "metadata": {},
   "source": [
    "### --------------------------------------------------------------------------------------------------------------------------------------------------------------"
   ]
  },
  {
   "cell_type": "markdown",
   "id": "7487787a",
   "metadata": {},
   "source": [
    "Make a two-player Rock-Paper-Scissors game.\n",
    "Ask players to play and get their stands by calling the input function two times(each time for each player),\n",
    "compare the two inputs,\n",
    "print out a message of congratulation to the winner,\n",
    "and ask whether the players want to play a new round.\n",
    "If player returns y or yes, it mean they want to play another round.\n",
    "Otherwise, break the loop and exit the code with an appropriate goodbye message!"
   ]
  },
  {
   "cell_type": "code",
   "execution_count": 7,
   "id": "a17399b7",
   "metadata": {},
   "outputs": [
    {
     "name": "stdout",
     "output_type": "stream",
     "text": [
      "please write your favorit name: z\n",
      "please write your favorit name: f\n",
      "Please select your choice: s\n",
      "Please select your choice: f\n"
     ]
    },
    {
     "ename": "NameError",
     "evalue": "name 'm' is not defined",
     "output_type": "error",
     "traceback": [
      "\u001b[1;31m---------------------------------------------------------------------------\u001b[0m",
      "\u001b[1;31mNameError\u001b[0m                                 Traceback (most recent call last)",
      "Input \u001b[1;32mIn [7]\u001b[0m, in \u001b[0;36m<cell line: 7>\u001b[1;34m()\u001b[0m\n\u001b[0;32m      8\u001b[0m \u001b[38;5;28;01mif\u001b[39;00m count \u001b[38;5;241m==\u001b[39m \u001b[38;5;241m1\u001b[39m:\n\u001b[0;32m      9\u001b[0m     m \u001b[38;5;241m=\u001b[39m \u001b[38;5;28minput\u001b[39m(\u001b[38;5;124m'\u001b[39m\u001b[38;5;124mYou want the game over?y/n?\u001b[39m\u001b[38;5;124m'\u001b[39m)\n\u001b[1;32m---> 10\u001b[0m \u001b[38;5;28;01mif\u001b[39;00m \u001b[43mm\u001b[49m \u001b[38;5;241m==\u001b[39m \u001b[38;5;124m'\u001b[39m\u001b[38;5;124my\u001b[39m\u001b[38;5;124m'\u001b[39m:\n\u001b[0;32m     11\u001b[0m     \u001b[38;5;28mprint\u001b[39m(\u001b[38;5;124m\"\u001b[39m\u001b[38;5;124mThank you for playing this game\u001b[39m\u001b[38;5;124m\"\u001b[39m)\n\u001b[0;32m     12\u001b[0m     \u001b[38;5;28;01mbreak\u001b[39;00m\n",
      "\u001b[1;31mNameError\u001b[0m: name 'm' is not defined"
     ]
    }
   ],
   "source": [
    "name_1 = input('please write your favorit name: ')\n",
    "name_2 = input('please write your favorit name: ')\n",
    "player_1 = input('Please select your choice: ')\n",
    "player_2 = input('Please select your choice: ')\n",
    "game = ['sang', 'kaghaz', 'gheichi']\n",
    "count = 0\n",
    "while True:\n",
    "    if count == 1:\n",
    "        m = input('You want the game over?y/n?')\n",
    "    if m == 'y':\n",
    "        print(\"Thank you for playing this game\")\n",
    "        break\n",
    "    if player_1 not in game or player_2 not in game:\n",
    "        raise ValueError(f\"The choice should be among these options but your choice{game}\")\n",
    "    if player_1 == player_2:\n",
    "        print('equal')\n",
    "    if player_1 == 'sang' and player_2 == 'kaghaz':\n",
    "        count += 1\n",
    "        print(f'{name_1}  win')\n",
    "    if player_1 == 'kaghaz' and player_2 == 'sang':\n",
    "        count += 1\n",
    "        print(f'{name_1}  win')\n",
    "    if player_1 == 'gheichi' and player_2 == 'kaghaz':\n",
    "        print(f'{name_1} win')\n",
    "    else:\n",
    "        print(f'{name_2} win')"
   ]
  },
  {
   "cell_type": "markdown",
   "id": "15c708cc",
   "metadata": {},
   "source": [
    "### --------------------------------------------------------------------------------------------------------------------------------------------------------------"
   ]
  },
  {
   "cell_type": "markdown",
   "id": "f714cfa0",
   "metadata": {},
   "source": [
    "Write a program that asks the user how many Fibonnaci numbers to generate and then generates them. Make sure to ask the user to enter the number of numbers in the sequence to generate.(Hint: The Fibonnaci seqence is a sequence\n",
    " of numbers which the next number in the sequence is the sum of the previous two numbers to it. The sequence looks like this: 1, 1, 2, 3, 5, 8, 13, …)"
   ]
  },
  {
   "cell_type": "code",
   "execution_count": 8,
   "id": "aaacdf5c",
   "metadata": {},
   "outputs": [
    {
     "name": "stdout",
     "output_type": "stream",
     "text": [
      "Enter how many elements of Fibonnaci you want: 2\n",
      "[1, 1]\n"
     ]
    }
   ],
   "source": [
    "number_of_elements = int(input('Enter how many elements of Fibonnaci you want: '))\n",
    "lst = [1]\n",
    "if number_of_elements == 1:\n",
    "    print(lst)\n",
    "else:\n",
    "    for j in range(number_of_elements - 1):\n",
    "        if j == 0:\n",
    "            lst.append(lst[j] + lst[j - 1] - 1)\n",
    "        else:\n",
    "            lst.append(lst[j] + lst[j - 1])\n",
    "    print(lst)"
   ]
  },
  {
   "cell_type": "markdown",
   "id": "876b9d87",
   "metadata": {},
   "source": [
    "### --------------------------------------------------------------------------------------------------------------------------------------------------------------"
   ]
  },
  {
   "cell_type": "markdown",
   "id": "bb13fe1b",
   "metadata": {},
   "source": [
    "\"Check a pre-defined password with user inputs for\n",
    " 3 times; let them pass if they're correct with less than 3 tries.\n",
    "  Inform the user of being blocked if they enter more password incorrectly more than 4 times"
   ]
  },
  {
   "cell_type": "code",
   "execution_count": 9,
   "id": "cda5cb22",
   "metadata": {},
   "outputs": [
    {
     "name": "stdout",
     "output_type": "stream",
     "text": [
      "insert your password:1\n",
      "Please note that 😐 your password is wrong \n",
      "insert your password:2\n",
      "Please note that 😐 your password is wrong \n",
      "insert your password:3\n",
      " your blocked !I warned you 😛\n"
     ]
    }
   ],
   "source": [
    "PASSWORD = \"P@s$W0rd\"\n",
    "i = 1\n",
    "while True:\n",
    "    user_pass = input(\"insert your password:\")\n",
    "    if i == 3:\n",
    "        print(' your blocked !I warned you 😛')\n",
    "        break\n",
    "    if user_pass == PASSWORD:\n",
    "        print('Hello, welcome home:) #Billie Eilish')\n",
    "    if user_pass != PASSWORD:\n",
    "        print('Please note that 😐 your password is wrong ')\n",
    "        i += 1"
   ]
  },
  {
   "cell_type": "markdown",
   "id": "6b89fd4a",
   "metadata": {},
   "source": [
    "### --------------------------------------------------------------------------------------------------------------------------------------------------------------"
   ]
  },
  {
   "cell_type": "markdown",
   "id": "7c3a6722",
   "metadata": {},
   "source": [
    "Guess the user's number"
   ]
  },
  {
   "cell_type": "code",
   "execution_count": 10,
   "id": "7e6c6d23",
   "metadata": {},
   "outputs": [
    {
     "name": "stdout",
     "output_type": "stream",
     "text": [
      "67\n",
      "Is 67 your number? y/n : y\\\n"
     ]
    },
    {
     "ename": "ValueError",
     "evalue": "the answer should be y or n but your answer is y\\",
     "output_type": "error",
     "traceback": [
      "\u001b[1;31m---------------------------------------------------------------------------\u001b[0m",
      "\u001b[1;31mValueError\u001b[0m                                Traceback (most recent call last)",
      "Input \u001b[1;32mIn [10]\u001b[0m, in \u001b[0;36m<cell line: 5>\u001b[1;34m()\u001b[0m\n\u001b[0;32m      7\u001b[0m answer \u001b[38;5;241m=\u001b[39m \u001b[38;5;28minput\u001b[39m(\u001b[38;5;124mf\u001b[39m\u001b[38;5;124m\"\u001b[39m\u001b[38;5;124mIs \u001b[39m\u001b[38;5;132;01m{\u001b[39;00mvalue\u001b[38;5;132;01m}\u001b[39;00m\u001b[38;5;124m your number? y/n : \u001b[39m\u001b[38;5;124m\"\u001b[39m)\n\u001b[0;32m      8\u001b[0m \u001b[38;5;28;01mif\u001b[39;00m answer \u001b[38;5;241m!=\u001b[39m \u001b[38;5;124m'\u001b[39m\u001b[38;5;124my\u001b[39m\u001b[38;5;124m'\u001b[39m \u001b[38;5;129;01mand\u001b[39;00m answer \u001b[38;5;241m!=\u001b[39m \u001b[38;5;124m'\u001b[39m\u001b[38;5;124mn\u001b[39m\u001b[38;5;124m'\u001b[39m:\n\u001b[1;32m----> 9\u001b[0m     \u001b[38;5;28;01mraise\u001b[39;00m \u001b[38;5;167;01mValueError\u001b[39;00m(\u001b[38;5;124mf\u001b[39m\u001b[38;5;124m'\u001b[39m\u001b[38;5;124mthe answer should be y or n but your answer is \u001b[39m\u001b[38;5;132;01m{\u001b[39;00manswer\u001b[38;5;132;01m}\u001b[39;00m\u001b[38;5;124m'\u001b[39m)\n\u001b[0;32m     10\u001b[0m \u001b[38;5;28;01mif\u001b[39;00m answer \u001b[38;5;241m==\u001b[39m \u001b[38;5;124m'\u001b[39m\u001b[38;5;124mn\u001b[39m\u001b[38;5;124m'\u001b[39m:\n\u001b[0;32m     11\u001b[0m     long \u001b[38;5;241m=\u001b[39m \u001b[38;5;28minput\u001b[39m(\u001b[38;5;124mf\u001b[39m\u001b[38;5;124m\"\u001b[39m\u001b[38;5;124mIf \u001b[39m\u001b[38;5;132;01m{\u001b[39;00mvalue\u001b[38;5;132;01m}\u001b[39;00m\u001b[38;5;124m larg then your number type k ,If \u001b[39m\u001b[38;5;132;01m{\u001b[39;00mvalue\u001b[38;5;132;01m}\u001b[39;00m\u001b[38;5;124m small then your number type b  : \u001b[39m\u001b[38;5;124m\"\u001b[39m)\n",
      "\u001b[1;31mValueError\u001b[0m: the answer should be y or n but your answer is y\\"
     ]
    }
   ],
   "source": [
    "from random import randint\n",
    "\n",
    "# generate some integers\n",
    "value = randint(0, 99)\n",
    "while True:\n",
    "    print(value)\n",
    "    answer = input(f\"Is {value} your number? y/n : \")\n",
    "    if answer != 'y' and answer != 'n':\n",
    "        raise ValueError(f'the answer should be y or n but your answer is {answer}')\n",
    "    if answer == 'n':\n",
    "        long = input(f\"If {value} larg then your number type k ,If {value} small then your number type b  : \")\n",
    "        if long == 'b':\n",
    "            value = randint(value, 99)\n",
    "        if long == \"k\":\n",
    "            value = randint(0, value)\n",
    "        else:\n",
    "            raise ValueError(f'the answer should be b or k but your answer is {long}')\n",
    "    else:\n",
    "        print('🥳Congratulations to me, congratulations to you, congratulations to everyone🥳')\n",
    "        break"
   ]
  },
  {
   "cell_type": "markdown",
   "id": "44ddb6f2",
   "metadata": {},
   "source": [
    "### --------------------------------------------------------------------------------------------------------------------------------------------------------------"
   ]
  },
  {
   "cell_type": "code",
   "execution_count": 11,
   "id": "4bb2ff24",
   "metadata": {},
   "outputs": [
    {
     "name": "stdout",
     "output_type": "stream",
     "text": [
      "\"player1: please choice a number (1-19): \"18\n",
      "===============\n",
      "\" please guess\"10\n",
      "===============\n",
      "\"your guess is smaller than the answer\"\n",
      "===============\n",
      "\" please guess\"15\n",
      "===============\n",
      "\"your guess is smaller than the answer\"\n",
      "===============\n",
      "\" please guess\"18\n",
      "===============\n",
      "\"you win!\"\n",
      "===============\n"
     ]
    }
   ],
   "source": [
    "\"\"\"The code guesses the number entered by the user \"\"\"\n",
    "ansewr = int(input(\"\\\"player1: please choice a number (1-19): \\\"\"))\n",
    "if ansewr not in range(19):\n",
    "    raise ValueError(f'your number should be 1-19 but your number is {ansewr} ')\n",
    "is_correct = False\n",
    "try_player2 = 0\n",
    "print(\"===============\")\n",
    "\n",
    "while try_player2 < 5 and is_correct is False:\n",
    "    guess = int(input(\"\\\" please guess\\\"\"))\n",
    "    print(\"===============\")\n",
    "    if guess == ansewr:\n",
    "        print(\"\\\"you win!\\\"\")\n",
    "        print(\"===============\")\n",
    "        is_correct = True\n",
    "    elif guess > ansewr:\n",
    "        print(\"\\\"your guess is greater than the answer\\\"\")\n",
    "        print(\"===============\")\n",
    "        try_player2 += 1\n",
    "    elif guess < ansewr:\n",
    "        print(\"\\\"your guess is smaller than the answer\\\"\")\n",
    "        print(\"===============\")\n",
    "        try_player2 += 1\n",
    "\n",
    "if not is_correct:\n",
    "    print(\"\\\"You loser!\\\"\")\n",
    "### --------------------------------------------------------------------------------------------------------------------------------------------------------------"
   ]
  },
  {
   "cell_type": "markdown",
   "id": "83b335b0",
   "metadata": {},
   "source": [
    "### --------------------------------------------------------------------------------------------------------------------------------------------------------------"
   ]
  },
  {
   "cell_type": "code",
   "execution_count": 1,
   "id": "a23b6c37",
   "metadata": {},
   "outputs": [
    {
     "data": {
      "text/plain": [
       "{'name_0': 'Sara',\n",
       " 'age_0': 28,\n",
       " 'salary_0': 2000,\n",
       " 'name_1': 'Sara',\n",
       " 'age_1': 18,\n",
       " 'salary_1': 1000,\n",
       " 'a_0': 'A',\n",
       " 'name_2': 'Omid',\n",
       " 'age_2': 20,\n",
       " 'salary_2': 1000,\n",
       " 'pooya_0': 2000,\n",
       " 'last_name_0': 'Zamani',\n",
       " 'name_3': 'Amir',\n",
       " 'age_3': 28,\n",
       " 'salary_3': 2000,\n",
       " 'last_name_1': 'Mohammadi'}"
      ]
     },
     "execution_count": 1,
     "metadata": {},
     "output_type": "execute_result"
    }
   ],
   "source": [
    "student_data = {'id1':\n",
    "                    {'name': 'Sara',\n",
    "                     'age': 28,\n",
    "                     'salary': 2000\n",
    "                     },\n",
    "                'id2':\n",
    "                    {'name': 'Sara',\n",
    "                     'age': 18,\n",
    "                     'salary': 1000\n",
    "                     },\n",
    "                \"a\": \"A\",\n",
    "                'id3':\n",
    "                    {'name': 'Omid',\n",
    "                     \"age\": 20,\n",
    "                     'salary': 1000,\n",
    "                     \"pooya\": 2000,\n",
    "                     \"last_name\": \"Zamani\"\n",
    "                     },\n",
    "                'id4': dict(name=\"Amir\", age=28, salary=2000),\n",
    "                \"last_name\": \"Mohammadi\",\n",
    "                }\n",
    "dic_flat = dict()\n",
    "\n",
    "for key_string, student_val in student_data.items():\n",
    "    if isinstance(student_val, dict):\n",
    "        for (key_inner, val_inner) in student_val.items():\n",
    "            i = 0\n",
    "            flag = True\n",
    "            while flag :\n",
    "                key_name = str(key_inner + \"_\" + str(i))\n",
    "                if key_name not in dic_flat:\n",
    "                    dic_flat[key_name] = val_inner\n",
    "                    flag = False\n",
    "                else:\n",
    "                    i += 1\n",
    "    elif  isinstance(student_val, str):\n",
    "            i = 0\n",
    "            flag = True\n",
    "            while flag :\n",
    "                key_names = str(key_string + \"_\" + str(i))\n",
    "                if key_names not in dic_flat:\n",
    "                    dic_flat[key_names] = student_val\n",
    "                    flag = False\n",
    "                else:\n",
    "                    i += 1\n",
    "\n",
    "        \n",
    "dic_flat"
   ]
  },
  {
   "cell_type": "code",
   "execution_count": null,
   "id": "fcbb4bb6",
   "metadata": {},
   "outputs": [],
   "source": []
  }
 ],
 "metadata": {
  "kernelspec": {
   "display_name": "Python 3 (ipykernel)",
   "language": "python",
   "name": "python3"
  },
  "language_info": {
   "codemirror_mode": {
    "name": "ipython",
    "version": 3
   },
   "file_extension": ".py",
   "mimetype": "text/x-python",
   "name": "python",
   "nbconvert_exporter": "python",
   "pygments_lexer": "ipython3",
   "version": "3.9.12"
  }
 },
 "nbformat": 4,
 "nbformat_minor": 5
}
